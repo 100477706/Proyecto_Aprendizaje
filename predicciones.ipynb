{
  "nbformat": 4,
  "nbformat_minor": 0,
  "metadata": {
    "colab": {
      "provenance": [],
      "toc_visible": true,
      "include_colab_link": true
    },
    "kernelspec": {
      "name": "python3",
      "display_name": "Python 3"
    },
    "language_info": {
      "name": "python"
    }
  },
  "cells": [
    {
      "cell_type": "markdown",
      "metadata": {
        "id": "view-in-github",
        "colab_type": "text"
      },
      "source": [
        "<a href=\"https://colab.research.google.com/github/100477706/Proyecto_Aprendizaje/blob/main/predicciones.ipynb\" target=\"_parent\"><img src=\"https://colab.research.google.com/assets/colab-badge.svg\" alt=\"Open In Colab\"/></a>"
      ]
    },
    {
      "cell_type": "markdown",
      "source": [
        "# **0. IDENTIFICACIÓN DE ESTUDIANTES**"
      ],
      "metadata": {
        "id": "tLbz2k0luldN"
      }
    },
    {
      "cell_type": "markdown",
      "source": [
        "**Grupo de Trabajo**: 27\n",
        "\n",
        "Gabriel José Rivera Amor - 100477706@alumnos.uc3m.es\n",
        "\n",
        "Santiago José Díaz Rodríguez - 100479095@alumnos.uc3m.es"
      ],
      "metadata": {
        "id": "lyywb4iZutrG"
      }
    },
    {
      "cell_type": "markdown",
      "source": [
        "# **1. CARGA DE DATOS**"
      ],
      "metadata": {
        "id": "VsFQb7K87--1"
      }
    },
    {
      "cell_type": "markdown",
      "source": [
        "Mediante este apartado realizamos la carga de datos al Google Collab teniendo en cuenta que en cada ingreso a la aplicación se debe realizar la carga del dataset.\n",
        "\n",
        "En este apartado se descomprime el archivo que se ha subido y se muestran los datos por pantalla."
      ],
      "metadata": {
        "id": "kGkSuHrw8X-b"
      }
    },
    {
      "cell_type": "code",
      "source": [
        "!ls"
      ],
      "metadata": {
        "colab": {
          "base_uri": "https://localhost:8080/"
        },
        "id": "e1Rosui8-Xxz",
        "outputId": "0cf8d908-81ff-40bd-e221-f142cfcf66c5"
      },
      "execution_count": null,
      "outputs": [
        {
          "output_type": "stream",
          "name": "stdout",
          "text": [
            "attrition_availabledata_06.csv.gz  sample_data\n"
          ]
        }
      ]
    },
    {
      "cell_type": "code",
      "source": [
        "import pandas as pd\n",
        "import matplotlib.pyplot as plt\n",
        "import seaborn as sns\n",
        "from sklearn.model_selection import train_test_split, StratifiedKFold, cross_val_score\n",
        "from sklearn.metrics import balanced_accuracy_score, confusion_matrix, accuracy_score, recall_score\n",
        "from sklearn.tree import DecisionTreeClassifier\n",
        "from sklearn.neighbors import KNeighborsClassifier\n",
        "from sklearn.linear_model import LogisticRegression\n",
        "from sklearn.svm import SVC\n",
        "from sklearn.preprocessing import MinMaxScaler, StandardScaler, RobustScaler, OneHotEncoder\n",
        "from sklearn.impute import SimpleImputer\n",
        "from sklearn.pipeline import Pipeline\n",
        "from sklearn.metrics import precision_score\n",
        "from sklearn.compose import ColumnTransformer\n",
        "from sklearn.model_selection import GridSearchCV\n",
        "from sklearn import tree\n",
        "from sklearn import metrics\n",
        "import numpy as np\n",
        "import time"
      ],
      "metadata": {
        "id": "temLwOfbV6aV"
      },
      "execution_count": null,
      "outputs": []
    },
    {
      "cell_type": "code",
      "execution_count": null,
      "metadata": {
        "id": "I4HtGQpt-rIO",
        "colab": {
          "base_uri": "https://localhost:8080/",
          "height": 325
        },
        "outputId": "190a5479-1e68-4125-8589-f2ecc84880d5"
      },
      "outputs": [
        {
          "output_type": "execute_result",
          "data": {
            "text/plain": [
              "        hrs  absences  JobInvolvement  PerformanceRating  \\\n",
              "0  5.896431         5               3                  3   \n",
              "1  6.114877        19               3                  3   \n",
              "2  6.396730        11               3                  3   \n",
              "3  5.722452        22               4                  3   \n",
              "4  5.663001        21               3                  3   \n",
              "\n",
              "   EnvironmentSatisfaction  JobSatisfaction  WorkLifeBalance  Age  \\\n",
              "0                      2.0              4.0              3.0   33   \n",
              "1                      3.0              3.0              3.0   20   \n",
              "2                      1.0              4.0              4.0   46   \n",
              "3                      1.0              1.0              4.0   40   \n",
              "4                      4.0              4.0              3.0   38   \n",
              "\n",
              "      BusinessTravel              Department  ...  Over18  PercentSalaryHike  \\\n",
              "0      Travel_Rarely  Research & Development  ...       Y                 13   \n",
              "1      Travel_Rarely  Research & Development  ...       Y                 13   \n",
              "2      Travel_Rarely  Research & Development  ...       Y                 11   \n",
              "3      Travel_Rarely                   Sales  ...       Y                 13   \n",
              "4  Travel_Frequently  Research & Development  ...       Y                 17   \n",
              "\n",
              "  StandardHours  StockOptionLevel  TotalWorkingYears TrainingTimesLastYear  \\\n",
              "0             8                 0                6.0                     3   \n",
              "1             8                 1                2.0                     2   \n",
              "2             8                 1               28.0                     2   \n",
              "3             8                 1                9.0                     2   \n",
              "4             8                 3               10.0                     2   \n",
              "\n",
              "   YearsAtCompany YearsSinceLastPromotion YearsWithCurrManager  Attrition  \n",
              "0               5                       1                    4         No  \n",
              "1               2                       2                    2         No  \n",
              "2               7                       4                    3        Yes  \n",
              "3               8                       7                    1         No  \n",
              "4              10                       9                    9         No  \n",
              "\n",
              "[5 rows x 31 columns]"
            ],
            "text/html": [
              "\n",
              "  <div id=\"df-73b10156-321c-4687-a546-1652dfac7de5\" class=\"colab-df-container\">\n",
              "    <div>\n",
              "<style scoped>\n",
              "    .dataframe tbody tr th:only-of-type {\n",
              "        vertical-align: middle;\n",
              "    }\n",
              "\n",
              "    .dataframe tbody tr th {\n",
              "        vertical-align: top;\n",
              "    }\n",
              "\n",
              "    .dataframe thead th {\n",
              "        text-align: right;\n",
              "    }\n",
              "</style>\n",
              "<table border=\"1\" class=\"dataframe\">\n",
              "  <thead>\n",
              "    <tr style=\"text-align: right;\">\n",
              "      <th></th>\n",
              "      <th>hrs</th>\n",
              "      <th>absences</th>\n",
              "      <th>JobInvolvement</th>\n",
              "      <th>PerformanceRating</th>\n",
              "      <th>EnvironmentSatisfaction</th>\n",
              "      <th>JobSatisfaction</th>\n",
              "      <th>WorkLifeBalance</th>\n",
              "      <th>Age</th>\n",
              "      <th>BusinessTravel</th>\n",
              "      <th>Department</th>\n",
              "      <th>...</th>\n",
              "      <th>Over18</th>\n",
              "      <th>PercentSalaryHike</th>\n",
              "      <th>StandardHours</th>\n",
              "      <th>StockOptionLevel</th>\n",
              "      <th>TotalWorkingYears</th>\n",
              "      <th>TrainingTimesLastYear</th>\n",
              "      <th>YearsAtCompany</th>\n",
              "      <th>YearsSinceLastPromotion</th>\n",
              "      <th>YearsWithCurrManager</th>\n",
              "      <th>Attrition</th>\n",
              "    </tr>\n",
              "  </thead>\n",
              "  <tbody>\n",
              "    <tr>\n",
              "      <th>0</th>\n",
              "      <td>5.896431</td>\n",
              "      <td>5</td>\n",
              "      <td>3</td>\n",
              "      <td>3</td>\n",
              "      <td>2.0</td>\n",
              "      <td>4.0</td>\n",
              "      <td>3.0</td>\n",
              "      <td>33</td>\n",
              "      <td>Travel_Rarely</td>\n",
              "      <td>Research &amp; Development</td>\n",
              "      <td>...</td>\n",
              "      <td>Y</td>\n",
              "      <td>13</td>\n",
              "      <td>8</td>\n",
              "      <td>0</td>\n",
              "      <td>6.0</td>\n",
              "      <td>3</td>\n",
              "      <td>5</td>\n",
              "      <td>1</td>\n",
              "      <td>4</td>\n",
              "      <td>No</td>\n",
              "    </tr>\n",
              "    <tr>\n",
              "      <th>1</th>\n",
              "      <td>6.114877</td>\n",
              "      <td>19</td>\n",
              "      <td>3</td>\n",
              "      <td>3</td>\n",
              "      <td>3.0</td>\n",
              "      <td>3.0</td>\n",
              "      <td>3.0</td>\n",
              "      <td>20</td>\n",
              "      <td>Travel_Rarely</td>\n",
              "      <td>Research &amp; Development</td>\n",
              "      <td>...</td>\n",
              "      <td>Y</td>\n",
              "      <td>13</td>\n",
              "      <td>8</td>\n",
              "      <td>1</td>\n",
              "      <td>2.0</td>\n",
              "      <td>2</td>\n",
              "      <td>2</td>\n",
              "      <td>2</td>\n",
              "      <td>2</td>\n",
              "      <td>No</td>\n",
              "    </tr>\n",
              "    <tr>\n",
              "      <th>2</th>\n",
              "      <td>6.396730</td>\n",
              "      <td>11</td>\n",
              "      <td>3</td>\n",
              "      <td>3</td>\n",
              "      <td>1.0</td>\n",
              "      <td>4.0</td>\n",
              "      <td>4.0</td>\n",
              "      <td>46</td>\n",
              "      <td>Travel_Rarely</td>\n",
              "      <td>Research &amp; Development</td>\n",
              "      <td>...</td>\n",
              "      <td>Y</td>\n",
              "      <td>11</td>\n",
              "      <td>8</td>\n",
              "      <td>1</td>\n",
              "      <td>28.0</td>\n",
              "      <td>2</td>\n",
              "      <td>7</td>\n",
              "      <td>4</td>\n",
              "      <td>3</td>\n",
              "      <td>Yes</td>\n",
              "    </tr>\n",
              "    <tr>\n",
              "      <th>3</th>\n",
              "      <td>5.722452</td>\n",
              "      <td>22</td>\n",
              "      <td>4</td>\n",
              "      <td>3</td>\n",
              "      <td>1.0</td>\n",
              "      <td>1.0</td>\n",
              "      <td>4.0</td>\n",
              "      <td>40</td>\n",
              "      <td>Travel_Rarely</td>\n",
              "      <td>Sales</td>\n",
              "      <td>...</td>\n",
              "      <td>Y</td>\n",
              "      <td>13</td>\n",
              "      <td>8</td>\n",
              "      <td>1</td>\n",
              "      <td>9.0</td>\n",
              "      <td>2</td>\n",
              "      <td>8</td>\n",
              "      <td>7</td>\n",
              "      <td>1</td>\n",
              "      <td>No</td>\n",
              "    </tr>\n",
              "    <tr>\n",
              "      <th>4</th>\n",
              "      <td>5.663001</td>\n",
              "      <td>21</td>\n",
              "      <td>3</td>\n",
              "      <td>3</td>\n",
              "      <td>4.0</td>\n",
              "      <td>4.0</td>\n",
              "      <td>3.0</td>\n",
              "      <td>38</td>\n",
              "      <td>Travel_Frequently</td>\n",
              "      <td>Research &amp; Development</td>\n",
              "      <td>...</td>\n",
              "      <td>Y</td>\n",
              "      <td>17</td>\n",
              "      <td>8</td>\n",
              "      <td>3</td>\n",
              "      <td>10.0</td>\n",
              "      <td>2</td>\n",
              "      <td>10</td>\n",
              "      <td>9</td>\n",
              "      <td>9</td>\n",
              "      <td>No</td>\n",
              "    </tr>\n",
              "  </tbody>\n",
              "</table>\n",
              "<p>5 rows × 31 columns</p>\n",
              "</div>\n",
              "    <div class=\"colab-df-buttons\">\n",
              "\n",
              "  <div class=\"colab-df-container\">\n",
              "    <button class=\"colab-df-convert\" onclick=\"convertToInteractive('df-73b10156-321c-4687-a546-1652dfac7de5')\"\n",
              "            title=\"Convert this dataframe to an interactive table.\"\n",
              "            style=\"display:none;\">\n",
              "\n",
              "  <svg xmlns=\"http://www.w3.org/2000/svg\" height=\"24px\" viewBox=\"0 -960 960 960\">\n",
              "    <path d=\"M120-120v-720h720v720H120Zm60-500h600v-160H180v160Zm220 220h160v-160H400v160Zm0 220h160v-160H400v160ZM180-400h160v-160H180v160Zm440 0h160v-160H620v160ZM180-180h160v-160H180v160Zm440 0h160v-160H620v160Z\"/>\n",
              "  </svg>\n",
              "    </button>\n",
              "\n",
              "  <style>\n",
              "    .colab-df-container {\n",
              "      display:flex;\n",
              "      gap: 12px;\n",
              "    }\n",
              "\n",
              "    .colab-df-convert {\n",
              "      background-color: #E8F0FE;\n",
              "      border: none;\n",
              "      border-radius: 50%;\n",
              "      cursor: pointer;\n",
              "      display: none;\n",
              "      fill: #1967D2;\n",
              "      height: 32px;\n",
              "      padding: 0 0 0 0;\n",
              "      width: 32px;\n",
              "    }\n",
              "\n",
              "    .colab-df-convert:hover {\n",
              "      background-color: #E2EBFA;\n",
              "      box-shadow: 0px 1px 2px rgba(60, 64, 67, 0.3), 0px 1px 3px 1px rgba(60, 64, 67, 0.15);\n",
              "      fill: #174EA6;\n",
              "    }\n",
              "\n",
              "    .colab-df-buttons div {\n",
              "      margin-bottom: 4px;\n",
              "    }\n",
              "\n",
              "    [theme=dark] .colab-df-convert {\n",
              "      background-color: #3B4455;\n",
              "      fill: #D2E3FC;\n",
              "    }\n",
              "\n",
              "    [theme=dark] .colab-df-convert:hover {\n",
              "      background-color: #434B5C;\n",
              "      box-shadow: 0px 1px 3px 1px rgba(0, 0, 0, 0.15);\n",
              "      filter: drop-shadow(0px 1px 2px rgba(0, 0, 0, 0.3));\n",
              "      fill: #FFFFFF;\n",
              "    }\n",
              "  </style>\n",
              "\n",
              "    <script>\n",
              "      const buttonEl =\n",
              "        document.querySelector('#df-73b10156-321c-4687-a546-1652dfac7de5 button.colab-df-convert');\n",
              "      buttonEl.style.display =\n",
              "        google.colab.kernel.accessAllowed ? 'block' : 'none';\n",
              "\n",
              "      async function convertToInteractive(key) {\n",
              "        const element = document.querySelector('#df-73b10156-321c-4687-a546-1652dfac7de5');\n",
              "        const dataTable =\n",
              "          await google.colab.kernel.invokeFunction('convertToInteractive',\n",
              "                                                    [key], {});\n",
              "        if (!dataTable) return;\n",
              "\n",
              "        const docLinkHtml = 'Like what you see? Visit the ' +\n",
              "          '<a target=\"_blank\" href=https://colab.research.google.com/notebooks/data_table.ipynb>data table notebook</a>'\n",
              "          + ' to learn more about interactive tables.';\n",
              "        element.innerHTML = '';\n",
              "        dataTable['output_type'] = 'display_data';\n",
              "        await google.colab.output.renderOutput(dataTable, element);\n",
              "        const docLink = document.createElement('div');\n",
              "        docLink.innerHTML = docLinkHtml;\n",
              "        element.appendChild(docLink);\n",
              "      }\n",
              "    </script>\n",
              "  </div>\n",
              "\n",
              "\n",
              "<div id=\"df-4ab0e8cd-24c0-43d6-a871-5ee3a88eb0ff\">\n",
              "  <button class=\"colab-df-quickchart\" onclick=\"quickchart('df-4ab0e8cd-24c0-43d6-a871-5ee3a88eb0ff')\"\n",
              "            title=\"Suggest charts\"\n",
              "            style=\"display:none;\">\n",
              "\n",
              "<svg xmlns=\"http://www.w3.org/2000/svg\" height=\"24px\"viewBox=\"0 0 24 24\"\n",
              "     width=\"24px\">\n",
              "    <g>\n",
              "        <path d=\"M19 3H5c-1.1 0-2 .9-2 2v14c0 1.1.9 2 2 2h14c1.1 0 2-.9 2-2V5c0-1.1-.9-2-2-2zM9 17H7v-7h2v7zm4 0h-2V7h2v10zm4 0h-2v-4h2v4z\"/>\n",
              "    </g>\n",
              "</svg>\n",
              "  </button>\n",
              "\n",
              "<style>\n",
              "  .colab-df-quickchart {\n",
              "      --bg-color: #E8F0FE;\n",
              "      --fill-color: #1967D2;\n",
              "      --hover-bg-color: #E2EBFA;\n",
              "      --hover-fill-color: #174EA6;\n",
              "      --disabled-fill-color: #AAA;\n",
              "      --disabled-bg-color: #DDD;\n",
              "  }\n",
              "\n",
              "  [theme=dark] .colab-df-quickchart {\n",
              "      --bg-color: #3B4455;\n",
              "      --fill-color: #D2E3FC;\n",
              "      --hover-bg-color: #434B5C;\n",
              "      --hover-fill-color: #FFFFFF;\n",
              "      --disabled-bg-color: #3B4455;\n",
              "      --disabled-fill-color: #666;\n",
              "  }\n",
              "\n",
              "  .colab-df-quickchart {\n",
              "    background-color: var(--bg-color);\n",
              "    border: none;\n",
              "    border-radius: 50%;\n",
              "    cursor: pointer;\n",
              "    display: none;\n",
              "    fill: var(--fill-color);\n",
              "    height: 32px;\n",
              "    padding: 0;\n",
              "    width: 32px;\n",
              "  }\n",
              "\n",
              "  .colab-df-quickchart:hover {\n",
              "    background-color: var(--hover-bg-color);\n",
              "    box-shadow: 0 1px 2px rgba(60, 64, 67, 0.3), 0 1px 3px 1px rgba(60, 64, 67, 0.15);\n",
              "    fill: var(--button-hover-fill-color);\n",
              "  }\n",
              "\n",
              "  .colab-df-quickchart-complete:disabled,\n",
              "  .colab-df-quickchart-complete:disabled:hover {\n",
              "    background-color: var(--disabled-bg-color);\n",
              "    fill: var(--disabled-fill-color);\n",
              "    box-shadow: none;\n",
              "  }\n",
              "\n",
              "  .colab-df-spinner {\n",
              "    border: 2px solid var(--fill-color);\n",
              "    border-color: transparent;\n",
              "    border-bottom-color: var(--fill-color);\n",
              "    animation:\n",
              "      spin 1s steps(1) infinite;\n",
              "  }\n",
              "\n",
              "  @keyframes spin {\n",
              "    0% {\n",
              "      border-color: transparent;\n",
              "      border-bottom-color: var(--fill-color);\n",
              "      border-left-color: var(--fill-color);\n",
              "    }\n",
              "    20% {\n",
              "      border-color: transparent;\n",
              "      border-left-color: var(--fill-color);\n",
              "      border-top-color: var(--fill-color);\n",
              "    }\n",
              "    30% {\n",
              "      border-color: transparent;\n",
              "      border-left-color: var(--fill-color);\n",
              "      border-top-color: var(--fill-color);\n",
              "      border-right-color: var(--fill-color);\n",
              "    }\n",
              "    40% {\n",
              "      border-color: transparent;\n",
              "      border-right-color: var(--fill-color);\n",
              "      border-top-color: var(--fill-color);\n",
              "    }\n",
              "    60% {\n",
              "      border-color: transparent;\n",
              "      border-right-color: var(--fill-color);\n",
              "    }\n",
              "    80% {\n",
              "      border-color: transparent;\n",
              "      border-right-color: var(--fill-color);\n",
              "      border-bottom-color: var(--fill-color);\n",
              "    }\n",
              "    90% {\n",
              "      border-color: transparent;\n",
              "      border-bottom-color: var(--fill-color);\n",
              "    }\n",
              "  }\n",
              "</style>\n",
              "\n",
              "  <script>\n",
              "    async function quickchart(key) {\n",
              "      const quickchartButtonEl =\n",
              "        document.querySelector('#' + key + ' button');\n",
              "      quickchartButtonEl.disabled = true;  // To prevent multiple clicks.\n",
              "      quickchartButtonEl.classList.add('colab-df-spinner');\n",
              "      try {\n",
              "        const charts = await google.colab.kernel.invokeFunction(\n",
              "            'suggestCharts', [key], {});\n",
              "      } catch (error) {\n",
              "        console.error('Error during call to suggestCharts:', error);\n",
              "      }\n",
              "      quickchartButtonEl.classList.remove('colab-df-spinner');\n",
              "      quickchartButtonEl.classList.add('colab-df-quickchart-complete');\n",
              "    }\n",
              "    (() => {\n",
              "      let quickchartButtonEl =\n",
              "        document.querySelector('#df-4ab0e8cd-24c0-43d6-a871-5ee3a88eb0ff button');\n",
              "      quickchartButtonEl.style.display =\n",
              "        google.colab.kernel.accessAllowed ? 'block' : 'none';\n",
              "    })();\n",
              "  </script>\n",
              "</div>\n",
              "\n",
              "    </div>\n",
              "  </div>\n"
            ],
            "application/vnd.google.colaboratory.intrinsic+json": {
              "type": "dataframe",
              "variable_name": "df"
            }
          },
          "metadata": {},
          "execution_count": 3
        }
      ],
      "source": [
        "df = pd.read_csv(\"attrition_availabledata_06.csv.gz\", compression=\"gzip\", sep=\",\") #subir el archivo comprimido\n",
        "df.head()"
      ]
    },
    {
      "cell_type": "markdown",
      "source": [
        "# **2. EDA**"
      ],
      "metadata": {
        "id": "xwsz0Qh19Xvv"
      }
    },
    {
      "cell_type": "markdown",
      "source": [
        "En este apartado vamos a llevar a cabo Exploratory Data Analysis (EDA), el cual nos va a ayudar a entender el conjunto de datos antes de aplicar cualquier modelo o hipótesis de prueba. El EDA nos va a permitir establecer las tendencias, correlaciones y anomalías que se pueden encontar en los datos. Con este tipo de análisis podemos determinar cuál son los métodos a implementar y cuáles son las features indicadas a utilizar y que den una información relevante al momento de evaluar el modelo a desarrollar.\n",
        "\n",
        "A continuación mostramos el contenido del archivo para verificar la cantidad de filas y columnas que tenemos, donde adicionalmente queremos verificar el tipo de datos que tenemos en nuestra base de datos. Para ello mostramos la información referente al contenido de la tabla."
      ],
      "metadata": {
        "id": "Id9UJlLoETr2"
      }
    },
    {
      "cell_type": "code",
      "source": [
        "# Información general del dataset\n",
        "print(\"\\nInformación del dataset:\")\n",
        "df.info()"
      ],
      "metadata": {
        "colab": {
          "base_uri": "https://localhost:8080/"
        },
        "id": "1tcAgrQqE991",
        "outputId": "3d9c40d9-c293-4e20-fc73-e6476f9c02d8"
      },
      "execution_count": null,
      "outputs": [
        {
          "output_type": "stream",
          "name": "stdout",
          "text": [
            "\n",
            "Información del dataset:\n",
            "<class 'pandas.core.frame.DataFrame'>\n",
            "RangeIndex: 2940 entries, 0 to 2939\n",
            "Data columns (total 31 columns):\n",
            " #   Column                   Non-Null Count  Dtype  \n",
            "---  ------                   --------------  -----  \n",
            " 0   hrs                      2940 non-null   float64\n",
            " 1   absences                 2940 non-null   int64  \n",
            " 2   JobInvolvement           2940 non-null   int64  \n",
            " 3   PerformanceRating        2940 non-null   int64  \n",
            " 4   EnvironmentSatisfaction  2921 non-null   float64\n",
            " 5   JobSatisfaction          2928 non-null   float64\n",
            " 6   WorkLifeBalance          2913 non-null   float64\n",
            " 7   Age                      2940 non-null   int64  \n",
            " 8   BusinessTravel           2940 non-null   object \n",
            " 9   Department               2940 non-null   object \n",
            " 10  DistanceFromHome         2940 non-null   int64  \n",
            " 11  Education                2940 non-null   int64  \n",
            " 12  EducationField           2940 non-null   object \n",
            " 13  EmployeeCount            2940 non-null   int64  \n",
            " 14  EmployeeID               2940 non-null   int64  \n",
            " 15  Gender                   2940 non-null   object \n",
            " 16  JobLevel                 2940 non-null   int64  \n",
            " 17  JobRole                  2940 non-null   object \n",
            " 18  MaritalStatus            2940 non-null   object \n",
            " 19  MonthlyIncome            2940 non-null   int64  \n",
            " 20  NumCompaniesWorked       2926 non-null   float64\n",
            " 21  Over18                   2940 non-null   object \n",
            " 22  PercentSalaryHike        2940 non-null   int64  \n",
            " 23  StandardHours            2940 non-null   int64  \n",
            " 24  StockOptionLevel         2940 non-null   int64  \n",
            " 25  TotalWorkingYears        2936 non-null   float64\n",
            " 26  TrainingTimesLastYear    2940 non-null   int64  \n",
            " 27  YearsAtCompany           2940 non-null   int64  \n",
            " 28  YearsSinceLastPromotion  2940 non-null   int64  \n",
            " 29  YearsWithCurrManager     2940 non-null   int64  \n",
            " 30  Attrition                2940 non-null   object \n",
            "dtypes: float64(6), int64(17), object(8)\n",
            "memory usage: 712.2+ KB\n"
          ]
        }
      ]
    },
    {
      "cell_type": "markdown",
      "source": [
        "A continuación utilizamos la función de descripción del dataset para que por cada una de las features (Columnas), podamos obtener valores estadísticos que nos permiten describir la función sabiendo los valores medios, la desviación y el cómo se distribuye los datos por cada feature. Adicionalmente es útil para el Exploratory Data Analysis (EDA), ya que nos ayuda a comprender las características de los datos antes de implementar el modelo."
      ],
      "metadata": {
        "id": "Z5bjwPIcoTBp"
      }
    },
    {
      "cell_type": "code",
      "source": [
        "# Información total del dataset\n",
        "print(\"\\nContenido del Dataset:\")\n",
        "df.describe()"
      ],
      "metadata": {
        "colab": {
          "base_uri": "https://localhost:8080/",
          "height": 384
        },
        "id": "nBGTdeCDFo5g",
        "outputId": "0b53b44e-ba77-4db5-a447-053b0928dfe8"
      },
      "execution_count": null,
      "outputs": [
        {
          "output_type": "stream",
          "name": "stdout",
          "text": [
            "\n",
            "Contenido del Dataset:\n"
          ]
        },
        {
          "output_type": "execute_result",
          "data": {
            "text/plain": [
              "               hrs     absences  JobInvolvement  PerformanceRating  \\\n",
              "count  2940.000000  2940.000000     2940.000000        2940.000000   \n",
              "mean      7.311828    12.688095        2.734014           3.156463   \n",
              "std       1.340066     5.494808        0.714883           0.363355   \n",
              "min       5.416880     1.000000        1.000000           3.000000   \n",
              "25%       6.262869     8.000000        2.000000           3.000000   \n",
              "50%       6.997414    13.000000        3.000000           3.000000   \n",
              "75%       7.896439    17.000000        3.000000           3.000000   \n",
              "max      10.937261    24.000000        4.000000           4.000000   \n",
              "\n",
              "       EnvironmentSatisfaction  JobSatisfaction  WorkLifeBalance          Age  \\\n",
              "count              2921.000000      2928.000000      2913.000000  2940.000000   \n",
              "mean                  2.716878         2.705601         2.766564    36.959864   \n",
              "std                   1.090252         1.098222         0.703519     9.137364   \n",
              "min                   1.000000         1.000000         1.000000    18.000000   \n",
              "25%                   2.000000         2.000000         2.000000    30.000000   \n",
              "50%                   3.000000         3.000000         3.000000    36.000000   \n",
              "75%                   4.000000         4.000000         3.000000    43.000000   \n",
              "max                   4.000000         4.000000         4.000000    60.000000   \n",
              "\n",
              "       DistanceFromHome    Education  ...  MonthlyIncome  NumCompaniesWorked  \\\n",
              "count       2940.000000  2940.000000  ...    2940.000000         2926.000000   \n",
              "mean           9.271088     2.909864  ...   64855.948980            2.713260   \n",
              "std            8.113162     1.024888  ...   46800.380469            2.493371   \n",
              "min            1.000000     1.000000  ...   10090.000000            0.000000   \n",
              "25%            2.000000     2.000000  ...   29405.000000            1.000000   \n",
              "50%            7.000000     3.000000  ...   49070.000000            2.000000   \n",
              "75%           14.000000     4.000000  ...   82240.000000            4.000000   \n",
              "max           29.000000     5.000000  ...  199990.000000            9.000000   \n",
              "\n",
              "       PercentSalaryHike  StandardHours  StockOptionLevel  TotalWorkingYears  \\\n",
              "count        2940.000000         2940.0       2940.000000        2936.000000   \n",
              "mean           15.256463            8.0          0.803741          11.469005   \n",
              "std             3.652041            0.0          0.858827           7.837689   \n",
              "min            11.000000            8.0          0.000000           0.000000   \n",
              "25%            12.000000            8.0          0.000000           6.000000   \n",
              "50%            14.000000            8.0          1.000000          10.000000   \n",
              "75%            18.000000            8.0          1.000000          16.000000   \n",
              "max            25.000000            8.0          3.000000          40.000000   \n",
              "\n",
              "       TrainingTimesLastYear  YearsAtCompany  YearsSinceLastPromotion  \\\n",
              "count            2940.000000     2940.000000              2940.000000   \n",
              "mean                2.789456        7.042177                 2.215986   \n",
              "std                 1.279125        6.125843                 3.269241   \n",
              "min                 0.000000        0.000000                 0.000000   \n",
              "25%                 2.000000        3.000000                 0.000000   \n",
              "50%                 3.000000        5.000000                 1.000000   \n",
              "75%                 3.000000       10.000000                 3.000000   \n",
              "max                 6.000000       40.000000                15.000000   \n",
              "\n",
              "       YearsWithCurrManager  \n",
              "count           2940.000000  \n",
              "mean               4.117347  \n",
              "std                3.563764  \n",
              "min                0.000000  \n",
              "25%                2.000000  \n",
              "50%                3.000000  \n",
              "75%                7.000000  \n",
              "max               17.000000  \n",
              "\n",
              "[8 rows x 23 columns]"
            ],
            "text/html": [
              "\n",
              "  <div id=\"df-a12c187d-0f55-4449-bc3f-9c53941e7c3a\" class=\"colab-df-container\">\n",
              "    <div>\n",
              "<style scoped>\n",
              "    .dataframe tbody tr th:only-of-type {\n",
              "        vertical-align: middle;\n",
              "    }\n",
              "\n",
              "    .dataframe tbody tr th {\n",
              "        vertical-align: top;\n",
              "    }\n",
              "\n",
              "    .dataframe thead th {\n",
              "        text-align: right;\n",
              "    }\n",
              "</style>\n",
              "<table border=\"1\" class=\"dataframe\">\n",
              "  <thead>\n",
              "    <tr style=\"text-align: right;\">\n",
              "      <th></th>\n",
              "      <th>hrs</th>\n",
              "      <th>absences</th>\n",
              "      <th>JobInvolvement</th>\n",
              "      <th>PerformanceRating</th>\n",
              "      <th>EnvironmentSatisfaction</th>\n",
              "      <th>JobSatisfaction</th>\n",
              "      <th>WorkLifeBalance</th>\n",
              "      <th>Age</th>\n",
              "      <th>DistanceFromHome</th>\n",
              "      <th>Education</th>\n",
              "      <th>...</th>\n",
              "      <th>MonthlyIncome</th>\n",
              "      <th>NumCompaniesWorked</th>\n",
              "      <th>PercentSalaryHike</th>\n",
              "      <th>StandardHours</th>\n",
              "      <th>StockOptionLevel</th>\n",
              "      <th>TotalWorkingYears</th>\n",
              "      <th>TrainingTimesLastYear</th>\n",
              "      <th>YearsAtCompany</th>\n",
              "      <th>YearsSinceLastPromotion</th>\n",
              "      <th>YearsWithCurrManager</th>\n",
              "    </tr>\n",
              "  </thead>\n",
              "  <tbody>\n",
              "    <tr>\n",
              "      <th>count</th>\n",
              "      <td>2940.000000</td>\n",
              "      <td>2940.000000</td>\n",
              "      <td>2940.000000</td>\n",
              "      <td>2940.000000</td>\n",
              "      <td>2921.000000</td>\n",
              "      <td>2928.000000</td>\n",
              "      <td>2913.000000</td>\n",
              "      <td>2940.000000</td>\n",
              "      <td>2940.000000</td>\n",
              "      <td>2940.000000</td>\n",
              "      <td>...</td>\n",
              "      <td>2940.000000</td>\n",
              "      <td>2926.000000</td>\n",
              "      <td>2940.000000</td>\n",
              "      <td>2940.0</td>\n",
              "      <td>2940.000000</td>\n",
              "      <td>2936.000000</td>\n",
              "      <td>2940.000000</td>\n",
              "      <td>2940.000000</td>\n",
              "      <td>2940.000000</td>\n",
              "      <td>2940.000000</td>\n",
              "    </tr>\n",
              "    <tr>\n",
              "      <th>mean</th>\n",
              "      <td>7.311828</td>\n",
              "      <td>12.688095</td>\n",
              "      <td>2.734014</td>\n",
              "      <td>3.156463</td>\n",
              "      <td>2.716878</td>\n",
              "      <td>2.705601</td>\n",
              "      <td>2.766564</td>\n",
              "      <td>36.959864</td>\n",
              "      <td>9.271088</td>\n",
              "      <td>2.909864</td>\n",
              "      <td>...</td>\n",
              "      <td>64855.948980</td>\n",
              "      <td>2.713260</td>\n",
              "      <td>15.256463</td>\n",
              "      <td>8.0</td>\n",
              "      <td>0.803741</td>\n",
              "      <td>11.469005</td>\n",
              "      <td>2.789456</td>\n",
              "      <td>7.042177</td>\n",
              "      <td>2.215986</td>\n",
              "      <td>4.117347</td>\n",
              "    </tr>\n",
              "    <tr>\n",
              "      <th>std</th>\n",
              "      <td>1.340066</td>\n",
              "      <td>5.494808</td>\n",
              "      <td>0.714883</td>\n",
              "      <td>0.363355</td>\n",
              "      <td>1.090252</td>\n",
              "      <td>1.098222</td>\n",
              "      <td>0.703519</td>\n",
              "      <td>9.137364</td>\n",
              "      <td>8.113162</td>\n",
              "      <td>1.024888</td>\n",
              "      <td>...</td>\n",
              "      <td>46800.380469</td>\n",
              "      <td>2.493371</td>\n",
              "      <td>3.652041</td>\n",
              "      <td>0.0</td>\n",
              "      <td>0.858827</td>\n",
              "      <td>7.837689</td>\n",
              "      <td>1.279125</td>\n",
              "      <td>6.125843</td>\n",
              "      <td>3.269241</td>\n",
              "      <td>3.563764</td>\n",
              "    </tr>\n",
              "    <tr>\n",
              "      <th>min</th>\n",
              "      <td>5.416880</td>\n",
              "      <td>1.000000</td>\n",
              "      <td>1.000000</td>\n",
              "      <td>3.000000</td>\n",
              "      <td>1.000000</td>\n",
              "      <td>1.000000</td>\n",
              "      <td>1.000000</td>\n",
              "      <td>18.000000</td>\n",
              "      <td>1.000000</td>\n",
              "      <td>1.000000</td>\n",
              "      <td>...</td>\n",
              "      <td>10090.000000</td>\n",
              "      <td>0.000000</td>\n",
              "      <td>11.000000</td>\n",
              "      <td>8.0</td>\n",
              "      <td>0.000000</td>\n",
              "      <td>0.000000</td>\n",
              "      <td>0.000000</td>\n",
              "      <td>0.000000</td>\n",
              "      <td>0.000000</td>\n",
              "      <td>0.000000</td>\n",
              "    </tr>\n",
              "    <tr>\n",
              "      <th>25%</th>\n",
              "      <td>6.262869</td>\n",
              "      <td>8.000000</td>\n",
              "      <td>2.000000</td>\n",
              "      <td>3.000000</td>\n",
              "      <td>2.000000</td>\n",
              "      <td>2.000000</td>\n",
              "      <td>2.000000</td>\n",
              "      <td>30.000000</td>\n",
              "      <td>2.000000</td>\n",
              "      <td>2.000000</td>\n",
              "      <td>...</td>\n",
              "      <td>29405.000000</td>\n",
              "      <td>1.000000</td>\n",
              "      <td>12.000000</td>\n",
              "      <td>8.0</td>\n",
              "      <td>0.000000</td>\n",
              "      <td>6.000000</td>\n",
              "      <td>2.000000</td>\n",
              "      <td>3.000000</td>\n",
              "      <td>0.000000</td>\n",
              "      <td>2.000000</td>\n",
              "    </tr>\n",
              "    <tr>\n",
              "      <th>50%</th>\n",
              "      <td>6.997414</td>\n",
              "      <td>13.000000</td>\n",
              "      <td>3.000000</td>\n",
              "      <td>3.000000</td>\n",
              "      <td>3.000000</td>\n",
              "      <td>3.000000</td>\n",
              "      <td>3.000000</td>\n",
              "      <td>36.000000</td>\n",
              "      <td>7.000000</td>\n",
              "      <td>3.000000</td>\n",
              "      <td>...</td>\n",
              "      <td>49070.000000</td>\n",
              "      <td>2.000000</td>\n",
              "      <td>14.000000</td>\n",
              "      <td>8.0</td>\n",
              "      <td>1.000000</td>\n",
              "      <td>10.000000</td>\n",
              "      <td>3.000000</td>\n",
              "      <td>5.000000</td>\n",
              "      <td>1.000000</td>\n",
              "      <td>3.000000</td>\n",
              "    </tr>\n",
              "    <tr>\n",
              "      <th>75%</th>\n",
              "      <td>7.896439</td>\n",
              "      <td>17.000000</td>\n",
              "      <td>3.000000</td>\n",
              "      <td>3.000000</td>\n",
              "      <td>4.000000</td>\n",
              "      <td>4.000000</td>\n",
              "      <td>3.000000</td>\n",
              "      <td>43.000000</td>\n",
              "      <td>14.000000</td>\n",
              "      <td>4.000000</td>\n",
              "      <td>...</td>\n",
              "      <td>82240.000000</td>\n",
              "      <td>4.000000</td>\n",
              "      <td>18.000000</td>\n",
              "      <td>8.0</td>\n",
              "      <td>1.000000</td>\n",
              "      <td>16.000000</td>\n",
              "      <td>3.000000</td>\n",
              "      <td>10.000000</td>\n",
              "      <td>3.000000</td>\n",
              "      <td>7.000000</td>\n",
              "    </tr>\n",
              "    <tr>\n",
              "      <th>max</th>\n",
              "      <td>10.937261</td>\n",
              "      <td>24.000000</td>\n",
              "      <td>4.000000</td>\n",
              "      <td>4.000000</td>\n",
              "      <td>4.000000</td>\n",
              "      <td>4.000000</td>\n",
              "      <td>4.000000</td>\n",
              "      <td>60.000000</td>\n",
              "      <td>29.000000</td>\n",
              "      <td>5.000000</td>\n",
              "      <td>...</td>\n",
              "      <td>199990.000000</td>\n",
              "      <td>9.000000</td>\n",
              "      <td>25.000000</td>\n",
              "      <td>8.0</td>\n",
              "      <td>3.000000</td>\n",
              "      <td>40.000000</td>\n",
              "      <td>6.000000</td>\n",
              "      <td>40.000000</td>\n",
              "      <td>15.000000</td>\n",
              "      <td>17.000000</td>\n",
              "    </tr>\n",
              "  </tbody>\n",
              "</table>\n",
              "<p>8 rows × 23 columns</p>\n",
              "</div>\n",
              "    <div class=\"colab-df-buttons\">\n",
              "\n",
              "  <div class=\"colab-df-container\">\n",
              "    <button class=\"colab-df-convert\" onclick=\"convertToInteractive('df-a12c187d-0f55-4449-bc3f-9c53941e7c3a')\"\n",
              "            title=\"Convert this dataframe to an interactive table.\"\n",
              "            style=\"display:none;\">\n",
              "\n",
              "  <svg xmlns=\"http://www.w3.org/2000/svg\" height=\"24px\" viewBox=\"0 -960 960 960\">\n",
              "    <path d=\"M120-120v-720h720v720H120Zm60-500h600v-160H180v160Zm220 220h160v-160H400v160Zm0 220h160v-160H400v160ZM180-400h160v-160H180v160Zm440 0h160v-160H620v160ZM180-180h160v-160H180v160Zm440 0h160v-160H620v160Z\"/>\n",
              "  </svg>\n",
              "    </button>\n",
              "\n",
              "  <style>\n",
              "    .colab-df-container {\n",
              "      display:flex;\n",
              "      gap: 12px;\n",
              "    }\n",
              "\n",
              "    .colab-df-convert {\n",
              "      background-color: #E8F0FE;\n",
              "      border: none;\n",
              "      border-radius: 50%;\n",
              "      cursor: pointer;\n",
              "      display: none;\n",
              "      fill: #1967D2;\n",
              "      height: 32px;\n",
              "      padding: 0 0 0 0;\n",
              "      width: 32px;\n",
              "    }\n",
              "\n",
              "    .colab-df-convert:hover {\n",
              "      background-color: #E2EBFA;\n",
              "      box-shadow: 0px 1px 2px rgba(60, 64, 67, 0.3), 0px 1px 3px 1px rgba(60, 64, 67, 0.15);\n",
              "      fill: #174EA6;\n",
              "    }\n",
              "\n",
              "    .colab-df-buttons div {\n",
              "      margin-bottom: 4px;\n",
              "    }\n",
              "\n",
              "    [theme=dark] .colab-df-convert {\n",
              "      background-color: #3B4455;\n",
              "      fill: #D2E3FC;\n",
              "    }\n",
              "\n",
              "    [theme=dark] .colab-df-convert:hover {\n",
              "      background-color: #434B5C;\n",
              "      box-shadow: 0px 1px 3px 1px rgba(0, 0, 0, 0.15);\n",
              "      filter: drop-shadow(0px 1px 2px rgba(0, 0, 0, 0.3));\n",
              "      fill: #FFFFFF;\n",
              "    }\n",
              "  </style>\n",
              "\n",
              "    <script>\n",
              "      const buttonEl =\n",
              "        document.querySelector('#df-a12c187d-0f55-4449-bc3f-9c53941e7c3a button.colab-df-convert');\n",
              "      buttonEl.style.display =\n",
              "        google.colab.kernel.accessAllowed ? 'block' : 'none';\n",
              "\n",
              "      async function convertToInteractive(key) {\n",
              "        const element = document.querySelector('#df-a12c187d-0f55-4449-bc3f-9c53941e7c3a');\n",
              "        const dataTable =\n",
              "          await google.colab.kernel.invokeFunction('convertToInteractive',\n",
              "                                                    [key], {});\n",
              "        if (!dataTable) return;\n",
              "\n",
              "        const docLinkHtml = 'Like what you see? Visit the ' +\n",
              "          '<a target=\"_blank\" href=https://colab.research.google.com/notebooks/data_table.ipynb>data table notebook</a>'\n",
              "          + ' to learn more about interactive tables.';\n",
              "        element.innerHTML = '';\n",
              "        dataTable['output_type'] = 'display_data';\n",
              "        await google.colab.output.renderOutput(dataTable, element);\n",
              "        const docLink = document.createElement('div');\n",
              "        docLink.innerHTML = docLinkHtml;\n",
              "        element.appendChild(docLink);\n",
              "      }\n",
              "    </script>\n",
              "  </div>\n",
              "\n",
              "\n",
              "<div id=\"df-ccb817fc-8deb-4186-b0cb-4585a5a0b20b\">\n",
              "  <button class=\"colab-df-quickchart\" onclick=\"quickchart('df-ccb817fc-8deb-4186-b0cb-4585a5a0b20b')\"\n",
              "            title=\"Suggest charts\"\n",
              "            style=\"display:none;\">\n",
              "\n",
              "<svg xmlns=\"http://www.w3.org/2000/svg\" height=\"24px\"viewBox=\"0 0 24 24\"\n",
              "     width=\"24px\">\n",
              "    <g>\n",
              "        <path d=\"M19 3H5c-1.1 0-2 .9-2 2v14c0 1.1.9 2 2 2h14c1.1 0 2-.9 2-2V5c0-1.1-.9-2-2-2zM9 17H7v-7h2v7zm4 0h-2V7h2v10zm4 0h-2v-4h2v4z\"/>\n",
              "    </g>\n",
              "</svg>\n",
              "  </button>\n",
              "\n",
              "<style>\n",
              "  .colab-df-quickchart {\n",
              "      --bg-color: #E8F0FE;\n",
              "      --fill-color: #1967D2;\n",
              "      --hover-bg-color: #E2EBFA;\n",
              "      --hover-fill-color: #174EA6;\n",
              "      --disabled-fill-color: #AAA;\n",
              "      --disabled-bg-color: #DDD;\n",
              "  }\n",
              "\n",
              "  [theme=dark] .colab-df-quickchart {\n",
              "      --bg-color: #3B4455;\n",
              "      --fill-color: #D2E3FC;\n",
              "      --hover-bg-color: #434B5C;\n",
              "      --hover-fill-color: #FFFFFF;\n",
              "      --disabled-bg-color: #3B4455;\n",
              "      --disabled-fill-color: #666;\n",
              "  }\n",
              "\n",
              "  .colab-df-quickchart {\n",
              "    background-color: var(--bg-color);\n",
              "    border: none;\n",
              "    border-radius: 50%;\n",
              "    cursor: pointer;\n",
              "    display: none;\n",
              "    fill: var(--fill-color);\n",
              "    height: 32px;\n",
              "    padding: 0;\n",
              "    width: 32px;\n",
              "  }\n",
              "\n",
              "  .colab-df-quickchart:hover {\n",
              "    background-color: var(--hover-bg-color);\n",
              "    box-shadow: 0 1px 2px rgba(60, 64, 67, 0.3), 0 1px 3px 1px rgba(60, 64, 67, 0.15);\n",
              "    fill: var(--button-hover-fill-color);\n",
              "  }\n",
              "\n",
              "  .colab-df-quickchart-complete:disabled,\n",
              "  .colab-df-quickchart-complete:disabled:hover {\n",
              "    background-color: var(--disabled-bg-color);\n",
              "    fill: var(--disabled-fill-color);\n",
              "    box-shadow: none;\n",
              "  }\n",
              "\n",
              "  .colab-df-spinner {\n",
              "    border: 2px solid var(--fill-color);\n",
              "    border-color: transparent;\n",
              "    border-bottom-color: var(--fill-color);\n",
              "    animation:\n",
              "      spin 1s steps(1) infinite;\n",
              "  }\n",
              "\n",
              "  @keyframes spin {\n",
              "    0% {\n",
              "      border-color: transparent;\n",
              "      border-bottom-color: var(--fill-color);\n",
              "      border-left-color: var(--fill-color);\n",
              "    }\n",
              "    20% {\n",
              "      border-color: transparent;\n",
              "      border-left-color: var(--fill-color);\n",
              "      border-top-color: var(--fill-color);\n",
              "    }\n",
              "    30% {\n",
              "      border-color: transparent;\n",
              "      border-left-color: var(--fill-color);\n",
              "      border-top-color: var(--fill-color);\n",
              "      border-right-color: var(--fill-color);\n",
              "    }\n",
              "    40% {\n",
              "      border-color: transparent;\n",
              "      border-right-color: var(--fill-color);\n",
              "      border-top-color: var(--fill-color);\n",
              "    }\n",
              "    60% {\n",
              "      border-color: transparent;\n",
              "      border-right-color: var(--fill-color);\n",
              "    }\n",
              "    80% {\n",
              "      border-color: transparent;\n",
              "      border-right-color: var(--fill-color);\n",
              "      border-bottom-color: var(--fill-color);\n",
              "    }\n",
              "    90% {\n",
              "      border-color: transparent;\n",
              "      border-bottom-color: var(--fill-color);\n",
              "    }\n",
              "  }\n",
              "</style>\n",
              "\n",
              "  <script>\n",
              "    async function quickchart(key) {\n",
              "      const quickchartButtonEl =\n",
              "        document.querySelector('#' + key + ' button');\n",
              "      quickchartButtonEl.disabled = true;  // To prevent multiple clicks.\n",
              "      quickchartButtonEl.classList.add('colab-df-spinner');\n",
              "      try {\n",
              "        const charts = await google.colab.kernel.invokeFunction(\n",
              "            'suggestCharts', [key], {});\n",
              "      } catch (error) {\n",
              "        console.error('Error during call to suggestCharts:', error);\n",
              "      }\n",
              "      quickchartButtonEl.classList.remove('colab-df-spinner');\n",
              "      quickchartButtonEl.classList.add('colab-df-quickchart-complete');\n",
              "    }\n",
              "    (() => {\n",
              "      let quickchartButtonEl =\n",
              "        document.querySelector('#df-ccb817fc-8deb-4186-b0cb-4585a5a0b20b button');\n",
              "      quickchartButtonEl.style.display =\n",
              "        google.colab.kernel.accessAllowed ? 'block' : 'none';\n",
              "    })();\n",
              "  </script>\n",
              "</div>\n",
              "\n",
              "    </div>\n",
              "  </div>\n"
            ],
            "application/vnd.google.colaboratory.intrinsic+json": {
              "type": "dataframe"
            }
          },
          "metadata": {},
          "execution_count": 5
        }
      ]
    },
    {
      "cell_type": "markdown",
      "source": [
        "A continuación, procedemos con la contabilizacón de la cantidad de variables e instancias distintas que tenemos en el dataset, de tal forma de darnos una idea general de los datos con los que procederemos a trabajar."
      ],
      "metadata": {
        "id": "1qL-EUZwywyX"
      }
    },
    {
      "cell_type": "code",
      "source": [
        "# Cantidad de variables e instancias\n",
        "print(f\"\\nEl dataset tiene {df.shape[0]} instancias y {df.shape[1]} variables.\")"
      ],
      "metadata": {
        "id": "ggjkqs5lzQf4",
        "outputId": "165c4859-d7a0-42f5-833e-8bae45c7c137",
        "colab": {
          "base_uri": "https://localhost:8080/"
        }
      },
      "execution_count": null,
      "outputs": [
        {
          "output_type": "stream",
          "name": "stdout",
          "text": [
            "\n",
            "El dataset tiene 2940 instancias y 31 variables.\n"
          ]
        }
      ]
    },
    {
      "cell_type": "markdown",
      "source": [
        "Sabiendo los datos que tenemos a disposición, entonces vamos a proceder con identificar las variables que tiene nuestro modelo, clasificándolas como categóricas o numéricas. Este proceso nos va a permitir determinar si es necesaria una estandarización, decidir cuál es el mejor modelo para evaluar los datos que se tienen y corregir las variables numéricas en el caso de tener datos erróneos."
      ],
      "metadata": {
        "id": "4HXlaLWc0lPc"
      }
    },
    {
      "cell_type": "code",
      "source": [
        "# Identificar tipos de variables\n",
        "categorical_vars = df.select_dtypes(include=['object']).columns.tolist()\n",
        "numerical_vars = df.select_dtypes(include=['int64', 'float64']).columns.tolist()\n",
        "print(f\"\\nVariables categóricas: {categorical_vars}\")\n",
        "print(f\"\\nVariables numéricas: {numerical_vars}\")"
      ],
      "metadata": {
        "id": "xpMIFIT62FV3",
        "outputId": "731835b3-d012-40f7-8c21-00377933e27c",
        "colab": {
          "base_uri": "https://localhost:8080/"
        }
      },
      "execution_count": null,
      "outputs": [
        {
          "output_type": "stream",
          "name": "stdout",
          "text": [
            "\n",
            "Variables categóricas: ['BusinessTravel', 'Department', 'EducationField', 'Gender', 'JobRole', 'MaritalStatus', 'Over18', 'Attrition']\n",
            "\n",
            "Variables numéricas: ['hrs', 'absences', 'JobInvolvement', 'PerformanceRating', 'EnvironmentSatisfaction', 'JobSatisfaction', 'WorkLifeBalance', 'Age', 'DistanceFromHome', 'Education', 'EmployeeCount', 'EmployeeID', 'JobLevel', 'MonthlyIncome', 'NumCompaniesWorked', 'PercentSalaryHike', 'StandardHours', 'StockOptionLevel', 'TotalWorkingYears', 'TrainingTimesLastYear', 'YearsAtCompany', 'YearsSinceLastPromotion', 'YearsWithCurrManager']\n"
          ]
        }
      ]
    },
    {
      "cell_type": "markdown",
      "source": [
        "Sabiendo y conociendo bien los diferentes tipos de variables que tenemos presente, ahora procedemos a identificar aquellas variables categóricas que tengan una alta cardinalidad. Es importante recordar que aquellas variables que tienen una alta cardinalidad son aquellas que tienen un gran número de valores únicos y lo cual nos ayuda a conocer si es necesario hacer agrupamientos para evitar que el entrenamiento del modelo se dificulte."
      ],
      "metadata": {
        "id": "iz7AWLaj2viW"
      }
    },
    {
      "cell_type": "code",
      "source": [
        "# Identificar variables categóricas con alta cardinalidad\n",
        "high_cardinality_vars = [col for col in categorical_vars if df[col].nunique() > 10]\n",
        "print(f\"\\nVariables categóricas con alta cardinalidad: {high_cardinality_vars}\")"
      ],
      "metadata": {
        "id": "y3QIdDMg5CP1",
        "outputId": "f4c8ba66-115b-4554-83f0-07c82d54da8c",
        "colab": {
          "base_uri": "https://localhost:8080/"
        }
      },
      "execution_count": null,
      "outputs": [
        {
          "output_type": "stream",
          "name": "stdout",
          "text": [
            "\n",
            "Variables categóricas con alta cardinalidad: []\n"
          ]
        }
      ]
    },
    {
      "cell_type": "code",
      "source": [
        "# Identificar variables numéricas con alta cardinalidad (muchos valores únicos)\n",
        "high_cardinality_numerical = [col for col in numerical_vars if df[col].nunique() > df.shape[0] * 0.9]\n",
        "print(f\"\\nVariables numéricas con alta cardinalidad: {high_cardinality_numerical}\")"
      ],
      "metadata": {
        "id": "37POVOpG6cpr",
        "outputId": "e8c33f67-4219-440e-8271-6d204cfc794c",
        "colab": {
          "base_uri": "https://localhost:8080/"
        }
      },
      "execution_count": null,
      "outputs": [
        {
          "output_type": "stream",
          "name": "stdout",
          "text": [
            "\n",
            "Variables numéricas con alta cardinalidad: ['hrs', 'EmployeeID']\n"
          ]
        }
      ]
    },
    {
      "cell_type": "markdown",
      "source": [
        "Posteriormente para realizar la limpieza de los datos, es necesario detectar aquellos valores que sean nulos, ya que estos pueden gerar inconvenientes al momento de hacer el entrenamiento del modelo. Luego de tener esta información, podemos decidir eliminar, imputar o gestionar dichos datos de tal forma que no generen errores al momento de contruir el modelo. Mediante la siguinte implementación, podemos conocer por cada una de las features, el número de valores nulos existentes.  "
      ],
      "metadata": {
        "id": "beZ2QWhK-Db_"
      }
    },
    {
      "cell_type": "code",
      "source": [
        "# Valores nulos\n",
        "missing = df.isnull().sum()\n",
        "missing = missing[missing > 0]\n",
        "if not missing.empty:\n",
        "    print(\"\\nValores nulos por columna:\")\n",
        "    print(missing)\n",
        "else:\n",
        "    print(\"\\nNo hay valores nulos en el dataset.\")"
      ],
      "metadata": {
        "id": "UgiZJJoPc1S-",
        "outputId": "efe599df-44e5-4d7a-9f48-4b8a7e4f80e6",
        "colab": {
          "base_uri": "https://localhost:8080/"
        }
      },
      "execution_count": null,
      "outputs": [
        {
          "output_type": "stream",
          "name": "stdout",
          "text": [
            "\n",
            "Valores nulos por columna:\n",
            "EnvironmentSatisfaction    19\n",
            "JobSatisfaction            12\n",
            "WorkLifeBalance            27\n",
            "NumCompaniesWorked         14\n",
            "TotalWorkingYears           4\n",
            "dtype: int64\n"
          ]
        }
      ]
    },
    {
      "cell_type": "markdown",
      "source": [
        "Luego, evaluamos si existe alguna columna de las presentes en el dataset proporcionado que tenga la condición de ser constante. Es importante mencionar que una columna constante es aquella que todas sus filas contienen un mismo valor. Por otro lado también tenemos la verificación de la existencia de una columna que contiene un código de verificación que identifica de alguna forma a los empleados de la empresa, siendo este un ID.\n",
        "\n",
        "La identificación de estos dos tipos de columnas nos va a servir para retirarlas de la muestra con la que se entrenará el modelo, ya que estos dos tipos antes mencinados no genera ningún tipo de valor al modelo que se desea construir."
      ],
      "metadata": {
        "id": "RacsKw2hBjrc"
      }
    },
    {
      "cell_type": "code",
      "source": [
        "# Identificar columnas constantes\n",
        "constant_cols = [col for col in df.columns if df[col].nunique() == 1]\n",
        "print(f\"\\nColumnas constantes: {constant_cols}\")\n",
        "\n",
        "# Identificar columnas de ID\n",
        "id_cols = [col for col in df.columns if 'id' in col.lower() or df[col].is_unique]\n",
        "print(f\"\\nColumnas de ID: {id_cols}\")"
      ],
      "metadata": {
        "id": "a3VtLe5GEvmg",
        "outputId": "7e99c350-77e6-4fac-cc39-4e348756539f",
        "colab": {
          "base_uri": "https://localhost:8080/"
        }
      },
      "execution_count": null,
      "outputs": [
        {
          "output_type": "stream",
          "name": "stdout",
          "text": [
            "\n",
            "Columnas constantes: ['EmployeeCount', 'Over18', 'StandardHours']\n",
            "\n",
            "Columnas de ID: ['EmployeeID']\n"
          ]
        }
      ]
    },
    {
      "cell_type": "markdown",
      "source": [
        "Con este último apartado, pretendemos establecer si el problema al que nos estamos enfretando es de clasificación o de regresión. Con ello buscamos definir correctamente el modelo que queremos implementar y los elementos que se deben considerar para lograrlo, por lo que verificamos si \"Attrition\" es categórica o numérica. Adicionalmente, verificamos la distribución de la función objetivo de tal forma de verificar si esta se encuentra desbalancaeda o no.\n",
        "\n",
        "Como se puede verificar a continuación, dado que la variable Attrition es categórica, entonces estamos ante un problema de clasificación, donde se puede verificar que nuestra función objetivo está desbalanceada, ya que tenemos un número muy alto de \"No\" contra muy pocos \"Yes\". Esto último nos va a permitir saber si el modelo debe ajustarse o no."
      ],
      "metadata": {
        "id": "th0831zAGmyw"
      }
    },
    {
      "cell_type": "code",
      "source": [
        "# Determinar si es un problema de clasificación o regresión\n",
        "if df['Attrition'].dtype == 'object' or df['Attrition'].nunique() < 10:\n",
        "    print(\"\\nEl problema es de clasificación.\")\n",
        "\n",
        "    # Evaluar desbalance de clases\n",
        "    class_counts = df['Attrition'].value_counts(normalize=True)\n",
        "    print(\"\\nDistribución de la variable objetivo:\")\n",
        "    print(class_counts)\n",
        "    if class_counts.min() < 0.3:\n",
        "        print(\"\\nLa variable objetivo está desbalanceada.\")\n",
        "else:\n",
        "    print(\"\\nEl problema es de regresión.\")\n",
        "\n",
        "# Visualización de la variable objetivo\n",
        "plt.figure(figsize=(6,4))\n",
        "sns.countplot(x=df['Attrition'], palette='coolwarm')\n",
        "plt.title('Distribución de Attrition')\n",
        "plt.show()\n"
      ],
      "metadata": {
        "id": "8WpAuIG060nf",
        "colab": {
          "base_uri": "https://localhost:8080/",
          "height": 690
        },
        "outputId": "f2e2f085-fa9b-4924-df19-fac5420c93e3"
      },
      "execution_count": 41,
      "outputs": [
        {
          "output_type": "stream",
          "name": "stdout",
          "text": [
            "\n",
            "El problema es de clasificación.\n",
            "\n",
            "Distribución de la variable objetivo:\n",
            "Attrition\n",
            "No     0.838776\n",
            "Yes    0.161224\n",
            "Name: proportion, dtype: float64\n",
            "\n",
            "La variable objetivo está desbalanceada.\n"
          ]
        },
        {
          "output_type": "stream",
          "name": "stderr",
          "text": [
            "<ipython-input-41-1dd7eb712a7c>:16: FutureWarning: \n",
            "\n",
            "Passing `palette` without assigning `hue` is deprecated and will be removed in v0.14.0. Assign the `x` variable to `hue` and set `legend=False` for the same effect.\n",
            "\n",
            "  sns.countplot(x=df['Attrition'], palette='coolwarm')\n"
          ]
        },
        {
          "output_type": "display_data",
          "data": {
            "text/plain": [
              "<Figure size 600x400 with 1 Axes>"
            ],
            "image/png": "[encoded data removed]"
          },
          "metadata": {}
        }
      ]
    },
    {
      "cell_type": "markdown",
      "source": [
        "# **3. PROCESO DE EVALUACIÓN**"
      ],
      "metadata": {
        "id": "Z3vSTOSeKRxp"
      }
    },
    {
      "cell_type": "markdown",
      "source": [
        "## **3.1. Estimacion del Rendimiento Futuro**"
      ],
      "metadata": {
        "id": "iHorYBuwDNeH"
      }
    },
    {
      "cell_type": "markdown",
      "source": [
        "Para este apartado es necesario considerar el proceso utilizado para la estimación del rendmiento futuro, buscando asegurar que nuestro modelo se evalúe de manera realista en datos que no ha analizado con anterioridad. La idea principal es enterenar al modelo con un conjunto de datos y evaluarlo con otro, ya que si se hiciera con el mismo, puede dar una estimación sesgada del rendimiento real.\n",
        "\n",
        "Para lograr esto, hacemos una partición entre los elementos del dataset que disponemos, donde dividimos el conjunto de ejemplos se va a dividir en dos conjuntos y cuyos elementos se escogen aleatoriamente del conjunto disponible. Esto nos va a permitir establecer un conjunto de métricras que van a permitir evaluar el problema de forma consecuente y concreta.\n",
        "\n",
        "La primera de estás métricas se conoce como **balanced accuracy**, la cual utilizaremos ya que conocemos del EDA que las clases se encuentran desbalanceadas. Este procedimiento nos va a permitir que el modelo no prediga que los datos de prueba siempre dan como resultado \"NO\", sino que le coloque el mismo peso al \"SI\" como al \"NO\". Para ello, es necesario tener en consideración la métrica de los datos que indica que los datos han sido correctamente identificados como positivos (TPR) y crrectamente identificados como negativos (TNR).\n",
        "\n",
        "Esto lo hacemos ya que para obtener la **balanced accuracy** es necesario hacer la media entre la TPR y la TNR (TPR + TPN / 2). La idea de hacer este proceso es que se pueda evaluar el rendimiento del modelo de forma justa en el caso de clases desbalanceadas y que el modelo pueda aprender verdaderamente a distinguir entre ambas clases presentes y no la mayoritaria.\n",
        "\n",
        "Teniendo en consideración que se debe obtner el TPR y TPN, entonces también será necesario obtener las matrices de confunsión, las cuales nos permiten saber el rendimiento del modelo de clasificación que vamos a aplicar en los siguientes apartados, ya que nos va a dar información acerca del acierto de las predicciones, clasificándolas como falsos postivos, falsos negativos, verdadero negativo o verdadero positivo. Este procedimiento se realiza para entender los errores del modelo y poder calcular el TPR (definido como TPR = TP / TP + FN) y el TNR (definido como TPR = TN / TN + FP), los cuales son necesarios para verificar que el modelo evalue de forma justa."
      ],
      "metadata": {
        "id": "6ZV-o30ND9TK"
      }
    },
    {
      "cell_type": "markdown",
      "source": [
        "## **3.2. División de Datos entre Train y Test**"
      ],
      "metadata": {
        "id": "au-b_cgGV6mK"
      }
    },
    {
      "cell_type": "markdown",
      "source": [
        "Para poder llevar a cabo el holdout es necesario implementar una división de los datos en dos conjuntos y escogidos de forma aleatoria. La idea principal es establecer un conjunto de datos que serán aquellos con los que entrenaremos el modelo y se realizará con 2/3 de los datos disponibles. Luego tendremos el conjunto de prueba, el cual está compuesto por un 1/3 de los datos disponibles y que van a prbar que el modelo funciona correctamente y hace la estimación correcta.\n",
        "\n",
        "El objetivo principal de realizar esta operación es evitar el sobreajuste o overfitting, el cual se da cuando entrenamos con todos los datos disponibles y el modelo se \"entrena\" memorizando los datos envés de identifacar los patrones principales. Esto va a generar que al momento de introducir nuevos datos al modelo, este sea incapaz de dar una solución, ya que solo tiene solución para los datos con los que practicó y no para cualquier dato.\n",
        "\n",
        "Por ende, es necesario realizar la división en los dos conjuntos, ya que gracias a ella somos capaces de verificar que nuestro modelo no solo hace una buena predicción con los datos de entrenamiento, sino que también lo hace con un conjunto de datos que es nuevo y que el modelo desconoce. Si el modelo hace las predicciones correctas, entonces nuestra estructura considerará un modelo con los datos de train y test.\n",
        "\n",
        "Sabiendo esto, entonces debemos determinar los modelos que se van a evaluar y cuál de ellos es la mejor opción para lo que estamos buscando obtener."
      ],
      "metadata": {
        "id": "wEpjN9E4MeFZ"
      }
    },
    {
      "cell_type": "markdown",
      "source": [
        "## **3.3. Evaluación Interna**"
      ],
      "metadata": {
        "id": "hJ08SeH8pu-h"
      }
    },
    {
      "cell_type": "markdown",
      "source": [
        "Para poder llevar a cabo la evaluación interna es necesario conocer cada uno de los procesos para poder llevarlo a cabo, teniendo en cuenta que es necesario evaluar diferentes tipos de métodos y los cuales tienen especificaciones variadas. Para ello, también es necesario considerar la forma en que se dividen los datos para el entrenamiento de los modelos.\n",
        "\n",
        "Primeramente, es necesario que al conjunto de datos es necesario realizarle un preprocesado con la finalidad de gestionar correctamente las NaN, así como la converción de datos categóricos a numéricos para que lso modelos sean capaces de gestionar los datos.\n",
        "\n",
        "Luego, es importante mencionar que cada modelo se evaluará mediante dos formas. En la primera no se va a modificar ningún hiperparámetro, lo que se conoce como omisión de hiperparámetros. La idea es que se utilicen los parámetros por defecto, entrenar el modelo a través del proceso de validación cruzada y obtener la precisión al realizar el entrenamiento.\n",
        "\n",
        "Por otro lado, la segunda forma de evaluación sería mediante la optimización de los hiperparámetros (HPO), donde se prevee modificar los diferentes elementos que regulan el entrenamiento de los modelos. Cada método de entrenamiento tiene unos hiperparámetros, los cuales se modificarán de forma que mejoren los resultados de precisión de entrenamiento y verificar cual es la mejor combinación. En este caso también se realiza utilizando GridSearch, el cual realiza una validación cruzada pero con cada uno de las combinaciones de hiperparámetros posible.\n",
        "\n",
        "Teniendo en cuenta estos procesos de evaluación, elegiremos un modelo que tenga la mayor precisión de predicción (Balanced-Accuracy), y el cual premita tener una estimación correcta para la empresa. Luego, estos datos se someterán al proceso de evaluación con Holdout con tal de comparar con los datos de train y test para establecer el modelo final. A continuación entonces llevaremos la evaluación de tipo inner en cada uno de los métodos disponibles."
      ],
      "metadata": {
        "id": "K6KGROowjG9h"
      }
    },
    {
      "cell_type": "markdown",
      "source": [
        "# **4. MÉTODOS BÁSICOS: KNN AND TREES**"
      ],
      "metadata": {
        "id": "4g4bFapUp6MY"
      }
    },
    {
      "cell_type": "markdown",
      "source": [
        "## **4.1. Elección de Métodos del KNN**"
      ],
      "metadata": {
        "id": "ETRcSdCzRHvf"
      }
    },
    {
      "cell_type": "markdown",
      "source": [
        "Para iniciar este proceso es necesario dividir en los conjuntos de train y test, como se mencionó en el apartado anterior, donde debemos retirar de esta división aquellas columnas que no agregan ningún valor relevante al entrenamiento del modelo. Estas columnas son aquellas que pudimos revisar en el EDA que son constantes o, mejor definido, que todas las filas de dicha columna tienen el mismo valor.\n",
        "\n",
        "Adicionalmente, se debe retirar la columna que identifica a los empleados, ya que, esta columna no tiene ningún aporte al modelo que deseamos implementar.\n",
        "\n",
        "Por último, pero no menos importante, debemos realizar una modificación a la variable objetivo ya que nos va a permitir saber con un valor binario si se adapta a uno u otro caso, con la finalidad de mostrar el desbalanceo existente en el dataset y poder realizar el preprocesado de los datos."
      ],
      "metadata": {
        "id": "4f1jLrdmyDZb"
      }
    },
    {
      "cell_type": "code",
      "source": [
        "# Columnas constantes y de ID\n",
        "irrelevant_cols = ['Attrition', 'EmployeeID', 'EmployeeCount', 'StandardHours', 'Over18']\n",
        "categorical_vars = [col for col in categorical_vars if col not in irrelevant_cols]\n",
        "numerical_vars = [col for col in numerical_vars if col not in irrelevant_cols]\n",
        "\n",
        "# Retiramos las columnas innecesarias y hacemos la división entre train y test\n",
        "X = df.drop(columns=irrelevant_cols)\n",
        "# Como la variable 'Attrition' es YES o NO, entonces la convertimos a un valor\n",
        "# binario para el modelo\n",
        "y = df['Attrition'].map({'Yes': 1, 'No': 0})\n",
        "X_train, X_test, y_train, y_test = train_test_split(X, y, test_size=1/3, stratify=y, random_state=100477706)"
      ],
      "metadata": {
        "id": "rX4sRfTy2aLD"
      },
      "execution_count": null,
      "outputs": []
    },
    {
      "cell_type": "markdown",
      "source": [
        "Una vez realizada la división de los datos disponibles en los dos conjuntos de train y test, con una pequeña línea de código verificamos que la función se encuentra totalmente desbalanceada. Es importante mencionar que el resultado obtenido es la proporción de cada uno de los valores binarios que se definieron para la columna de 'Attrition' en el apartado anterior.  "
      ],
      "metadata": {
        "id": "B-DyMileX6wj"
      }
    },
    {
      "cell_type": "code",
      "source": [
        "y_train.value_counts(normalize=True)"
      ],
      "metadata": {
        "id": "oGvk__J9cbcX",
        "outputId": "d0ab19c9-c0e8-4b02-ef37-bfe7540eb2aa",
        "colab": {
          "base_uri": "https://localhost:8080/",
          "height": 178
        }
      },
      "execution_count": null,
      "outputs": [
        {
          "output_type": "execute_result",
          "data": {
            "text/plain": [
              "Attrition\n",
              "0    0.838776\n",
              "1    0.161224\n",
              "Name: proportion, dtype: float64"
            ],
            "text/html": [
              "<div>\n",
              "<style scoped>\n",
              "    .dataframe tbody tr th:only-of-type {\n",
              "        vertical-align: middle;\n",
              "    }\n",
              "\n",
              "    .dataframe tbody tr th {\n",
              "        vertical-align: top;\n",
              "    }\n",
              "\n",
              "    .dataframe thead th {\n",
              "        text-align: right;\n",
              "    }\n",
              "</style>\n",
              "<table border=\"1\" class=\"dataframe\">\n",
              "  <thead>\n",
              "    <tr style=\"text-align: right;\">\n",
              "      <th></th>\n",
              "      <th>proportion</th>\n",
              "    </tr>\n",
              "    <tr>\n",
              "      <th>Attrition</th>\n",
              "      <th></th>\n",
              "    </tr>\n",
              "  </thead>\n",
              "  <tbody>\n",
              "    <tr>\n",
              "      <th>0</th>\n",
              "      <td>0.838776</td>\n",
              "    </tr>\n",
              "    <tr>\n",
              "      <th>1</th>\n",
              "      <td>0.161224</td>\n",
              "    </tr>\n",
              "  </tbody>\n",
              "</table>\n",
              "</div><br><label><b>dtype:</b> float64</label>"
            ]
          },
          "metadata": {},
          "execution_count": 14
        }
      ]
    },
    {
      "cell_type": "markdown",
      "source": [
        "Una vez que hacemos este proceso, pasamos al preprocesado de los datos mediante el uso de las Pipelines. Estas van a establecer el tratamiento de los datos de variables categóricas y numéricas en el caso de encontrarse con un NaN, para el modelo KNN.\n",
        "\n",
        "Para poder llevar a cabo el entrenamiento del modelo, primero es imperativo decidir cuál de los modelos es el que da mejores resultados. Para ello usamos el método de validación cruzada para verificar el cuál de los métodos existentes es el más apropiado.\n",
        "\n",
        "Por otro lado, es importante mencionar que en el apartado 3 se mencionó que utilizaríamos el método de Holdout para la fase de entrenamiento, y se puede prestar a confunsión que ahora se mencione el uso de la validación cruzada. Por ello, es importante hacer un insiso en este aspecto, destacando que usamos la validación cruzada para verificar el mejor método, pero al momento de hacer el entrenamiento final, se va a hacer uso del Holdout.\n",
        "\n",
        "Por otro lado, tenemos una modificación importante que se le realiza al dataset que consiste en otorgarle un valor númerico a las variables categóricas, ya que los modelos de Machine Learning no pueden procesar dichas variables. Para lograrlo, se aplica el proceso de One-Hot Encoding, el cual consiste en crear columnas binarias para cada una de las variables categóricas.\n",
        "\n",
        "Teniendo esto en cuenta, en el código que se encuentra a continuación se podrá observar como haremos todas las combinaciones entre los tres métodos de escalado y los dos de imputación."
      ],
      "metadata": {
        "id": "MPhckthz3G3Y"
      }
    },
    {
      "cell_type": "code",
      "source": [
        "# Establecemos una lista de los métodos de escaldo\n",
        "scalers = [MinMaxScaler(), StandardScaler(), RobustScaler()]\n",
        "\n",
        "# Establecemos una lista de los métodos de imputación\n",
        "imputer_strategies = ['mean', 'median']  # Changed to strings\n",
        "\n",
        "# Establecemos un diccionario para el KNN\n",
        "# con la combinación entre el método de escalado y el de imputación.\n",
        "# El resultado de las estimaciones son las claves del diccionario\n",
        "pipelines_knn = {}\n",
        "\n",
        "for scaler in scalers:\n",
        "    for imputer_strategy in imputer_strategies:  # Iterate over strings\n",
        "        # Hacemos el preprocesado\n",
        "        preprocessor = ColumnTransformer(\n",
        "            transformers=[\n",
        "                ('num', Pipeline([\n",
        "                    ('imputer', SimpleImputer(strategy=imputer_strategy)),  # Pass string to strategy\n",
        "                    ('scaler', scaler)\n",
        "                ]), numerical_vars),\n",
        "                ('cat', OneHotEncoder(handle_unknown='ignore', drop='first'), categorical_vars)\n",
        "            ]\n",
        "          )\n",
        "        pipeline_knn = Pipeline([\n",
        "            ('preprocessor', preprocessor),\n",
        "            ('knn', KNeighborsClassifier())\n",
        "        ])\n",
        "\n",
        "    # Guardamos los resultados en el diccionario\n",
        "        pipelines_knn[f\"{scaler.__class__.__name__} + {imputer_strategy}\"] = pipeline_knn"
      ],
      "metadata": {
        "id": "JnCHDONiFDMs"
      },
      "execution_count": null,
      "outputs": []
    },
    {
      "cell_type": "markdown",
      "source": [
        "Una vez establecido el preprocesamiento de los datos y el manejo de variables NaN, entonces podemos llevar a cabo la elección del mejor de los métodos para el KNN, a través del método de validación cruzada."
      ],
      "metadata": {
        "id": "kcfsL4_J9w6e"
      }
    },
    {
      "cell_type": "code",
      "source": [
        "# Evaluación con validación cruzada para encontrar el mejor preprocesamiento\n",
        "cv = StratifiedKFold(n_splits=3, shuffle=True, random_state=100477706)\n",
        "\n",
        "# Guardamos en estas variables el mejor score y preprocesado\n",
        "best_knn_score = 0\n",
        "best_knn_preprocess = None\n",
        "\n",
        "for name in pipelines_knn.keys():\n",
        "    knn_score = np.mean(cross_val_score(pipelines_knn[name], X_train, y_train, cv=cv, scoring='balanced_accuracy'))\n",
        "\n",
        "    if knn_score > best_knn_score:\n",
        "        best_knn_score = knn_score\n",
        "        best_knn_preprocess = name\n",
        "    print(f\"Preprocesado KNN: {name} con balanced accuracy de {knn_score:.4f}\")"
      ],
      "metadata": {
        "id": "MdSQLLjHC7C9",
        "outputId": "5f59fb88-31f7-4b2f-c681-aa5040d20ebf",
        "colab": {
          "base_uri": "https://localhost:8080/"
        }
      },
      "execution_count": null,
      "outputs": [
        {
          "output_type": "stream",
          "name": "stdout",
          "text": [
            "Preprocesado KNN: MinMaxScaler + mean con balanced accuracy de 0.5621\n",
            "Preprocesado KNN: MinMaxScaler + median con balanced accuracy de 0.5618\n",
            "Preprocesado KNN: StandardScaler + mean con balanced accuracy de 0.5596\n",
            "Preprocesado KNN: StandardScaler + median con balanced accuracy de 0.5580\n",
            "Preprocesado KNN: RobustScaler + mean con balanced accuracy de 0.5664\n",
            "Preprocesado KNN: RobustScaler + median con balanced accuracy de 0.5664\n"
          ]
        }
      ]
    },
    {
      "cell_type": "markdown",
      "source": [
        "Se debe mencionar de lo que se puede apreciar de código algunos aspectos importantes que nos van a ayudar a entender el proceso que estamos llevando a cabo. Primeramente, es necesario mencionar que usamos el \"StratifiedKFold\" envés del \"KFold\" ya que sabemos por el EDA que estamos ante un problema desblanceado, por lo que es preferible utilizar el primero de estos dado que ayuda a que la distribución de las clases sea similar y evita el surgimiento de errores futuros.\n",
        "\n",
        "Por otro lado, podemos observar después de su ejecución la cantidad de elementos que se encuentran clasificados correctamente con cada una de las combinaciones entre métodos de escalado y de imputación. De todos los resultados obtenidos, es necesario establecer cuál de las combinaciones es la más idónea.  "
      ],
      "metadata": {
        "id": "9MAGuzIHMFiQ"
      }
    },
    {
      "cell_type": "code",
      "source": [
        "# Establecemos cuál de las combinaciones es la que tiene mejor accuracy\n",
        "print(f\"\\nMejor preprocesamiento para KNN: {best_knn_preprocess} con balanced accuracy de {best_knn_score:.4f}\")"
      ],
      "metadata": {
        "id": "ya93b5_SPzoA",
        "outputId": "2c489bba-8cf3-46c6-cc82-86420241203c",
        "colab": {
          "base_uri": "https://localhost:8080/"
        }
      },
      "execution_count": null,
      "outputs": [
        {
          "output_type": "stream",
          "name": "stdout",
          "text": [
            "\n",
            "Mejor preprocesamiento para KNN: RobustScaler + mean con balanced accuracy de 0.5664\n"
          ]
        }
      ]
    },
    {
      "cell_type": "markdown",
      "source": [
        "Una vez determinado la mejor combinación de métodos para que el modelo a entrenar tenga un mejor accuracy, entonces establecemos que el modelo KNN que se utilizará para el entrenamiento será el de \"RobustScaler\" como método de escalado, combinado con \"mean\" como método de imputación."
      ],
      "metadata": {
        "id": "wbGi9U-ZQd7W"
      }
    },
    {
      "cell_type": "markdown",
      "source": [
        "## **4.2. Comparación entre el KNN y Decision Trees**"
      ],
      "metadata": {
        "id": "Om5OfcwyRg-I"
      }
    },
    {
      "cell_type": "markdown",
      "source": [
        "Una vez que se ha establecido el método KNN que se va a utilizar para el entrenamiento del modelo, vamos a establecer las diferencias entre el uso de KNN y Árboles de Decisión (Trees). Para lograrlo, primero estableceremos una evaluación en la cual no se considera modificar los hiperparámetros y posteriormente otra en la que si se ven modificados. En este caso para el KNN utilizaremos la combinación antes mencionada y consideraremos la validación cruzada para la evaluación del inner. Lo mismo realizaremos con la combinación considerada para el árbol de derivación."
      ],
      "metadata": {
        "id": "BrxFAIDWjMpX"
      }
    },
    {
      "cell_type": "markdown",
      "source": [
        "### **4.2.a. Evaluación con Hiperparámetros por Omisión**"
      ],
      "metadata": {
        "id": "QbAZEa_Rh6yl"
      }
    },
    {
      "cell_type": "markdown",
      "source": [
        "Para realizar la primera evaluación, se debe considerar que simplemente realizamos el entrenamiento del modelo con el método de KNN y luego con los Árboles de Derivación. Es importante mencionar que en el punto 4.1, se adelantó el proceso de división del conjunto de datos disponibles en Train y Test, así como la decisión del método idóneo de preprocesado para cada uno de los modelos que estamos comprobando.\n",
        "\n",
        "Sin embargo, es necesario llevar a cabo nuevamente la ejecución del preprocesado con el uso de las pipelines, para imputar los valores NaN de las variables categóricas y numéricas.\n",
        "\n",
        "Posteriormente se mide el tiempo de entrenamiento del modelo KNN, obtenemos una predicción y verificamos los resulatados."
      ],
      "metadata": {
        "id": "6MBWDuUkiRvk"
      }
    },
    {
      "cell_type": "markdown",
      "source": [
        "#### **· Modelo KNN**"
      ],
      "metadata": {
        "id": "_8yR3uUutMN0"
      }
    },
    {
      "cell_type": "code",
      "source": [
        "# Evaluación con validación cruzada para encontrar el mejor accuracy\n",
        "cv = StratifiedKFold(n_splits=3, shuffle=True, random_state=100477706)\n",
        "\n",
        "# Preprocesador para datos numéricos: imputación con la mediana + escalado robusto\n",
        "num_transformer = Pipeline([\n",
        "    ('imputer', SimpleImputer(strategy='mean')),\n",
        "    ('scaler', RobustScaler())\n",
        "])\n",
        "\n",
        "# Preprocesador para datos categóricos: OneHotEncoding\n",
        "cat_transformer = Pipeline([\n",
        "    ('encoder', OneHotEncoder(handle_unknown='ignore'))\n",
        "])\n",
        "\n",
        "# Combinar ambos en un ColumnTransformer\n",
        "preprocessor = ColumnTransformer([\n",
        "    ('num', num_transformer, numerical_vars),\n",
        "    ('cat', cat_transformer, categorical_vars)\n",
        "])\n",
        "\n",
        "# Pipeline final con preprocesamiento y modelo KNN\n",
        "knn_pipe = Pipeline([\n",
        "    ('preprocessor', preprocessor),\n",
        "    ('knn', KNeighborsClassifier())\n",
        "])\n",
        "\n",
        "# Medimos el tiempo de entrenamiento\n",
        "start_time_KNN = time.time()\n",
        "scores_knn = cross_val_score(knn_pipe, X_train, y_train, scoring='balanced_accuracy', cv=cv)\n",
        "end_time_KNN = time.time()\n",
        "training_time_KNN = end_time_KNN - start_time_KNN\n",
        "\n",
        "# Imprimimos los resultados del cross-validation y el tiempo\n",
        "print(f\"\\033[1mEvaluación del modelo KNN\\033[0m\")\n",
        "print(f\"Todos los accuracies son: {scores_knn}\")\n",
        "print(f\"La precisión promedio de la validación cruzada es: {scores_knn.mean():.2f} ± {scores_knn.std():.2f}\")\n",
        "print(f\"El tiempo de entrenamiento es de {training_time_KNN:.2f} segundos\")"
      ],
      "metadata": {
        "id": "LhGyhMZlmggY",
        "outputId": "dc00ea71-7044-4deb-d4f7-7314054d2ee7",
        "colab": {
          "base_uri": "https://localhost:8080/"
        }
      },
      "execution_count": null,
      "outputs": [
        {
          "output_type": "stream",
          "name": "stdout",
          "text": [
            "\u001b[1mEvaluación del modelo KNN\u001b[0m\n",
            "Todos los accuracies son: [0.57121953 0.58175182 0.57770247]\n",
            "La precisión promedio de la validación cruzada es: 0.58 ± 0.00\n",
            "El tiempo de entrenamiento es de 0.12 segundos\n"
          ]
        }
      ]
    },
    {
      "cell_type": "markdown",
      "source": [
        "Una vez realizamos el entrenamiento del modelo KNN, podemos verificar que la precisión promedio del modelo es de alrededor del 58% y adicionalmente tiene un desviación estándar baja, lo que implica que el modelo es consistente con sus predicciones\n",
        "\n"
      ],
      "metadata": {
        "id": "Yk1ws_E0pqai"
      }
    },
    {
      "cell_type": "markdown",
      "source": [
        "Una vez vistos los resultados obtenidos del entrenamiento con el modelo KNN, entonces procedemos a realizar el mismo procedimiento con Árboles de Derivación. Es importante mencionar que se debe llevar a cabo nuevamente el preporcesado de los datos para poder verificar correctamente los distintos aspectos a evaluar."
      ],
      "metadata": {
        "id": "xhscVNh_sj34"
      }
    },
    {
      "cell_type": "markdown",
      "source": [
        "#### **· Modelo Decision Trees**"
      ],
      "metadata": {
        "id": "JckSUU1itekK"
      }
    },
    {
      "cell_type": "code",
      "source": [
        "# Evaluación con validación cruzada para encontrar el mejor accuracy\n",
        "cv = StratifiedKFold(n_splits=3, shuffle=True, random_state=100477706)\n",
        "\n",
        "# Preprocesador para datos numéricos: imputación con la mediana + escalado robusto\n",
        "num_transformer = Pipeline([\n",
        "    ('imputer', SimpleImputer(strategy='mean')),\n",
        "    ('scaler', RobustScaler())\n",
        "])\n",
        "\n",
        "# Pipeline para datos categóricos: OneHotEncoder para convertir a numérico\n",
        "cat_transformer = Pipeline([\n",
        "    ('encoder', OneHotEncoder(handle_unknown='ignore'))\n",
        "])\n",
        "\n",
        "# Combinamos ambos en un ColumnTransformer\n",
        "preprocessor = ColumnTransformer([\n",
        "    ('num', num_transformer, numerical_vars),\n",
        "    ('cat', cat_transformer, categorical_vars)\n",
        "])\n",
        "\n",
        "# Creamos el pipeline final con preprocesamiento + DecisionTreeClassifier\n",
        "dt_pipe = Pipeline([\n",
        "    ('preprocessor', preprocessor),\n",
        "    ('classifier', DecisionTreeClassifier(random_state=100477706))\n",
        "])\n",
        "\n",
        "# Medimos el tiempo de entrenamiento\n",
        "start_time_dt = time.time()\n",
        "scores_dt = cross_val_score(dt_pipe, X_train, y_train, scoring='balanced_accuracy', cv=cv)\n",
        "end_time_dt = time.time()\n",
        "training_time_dt = end_time_dt - start_time_dt\n",
        "\n",
        "# Imprimimos los resultados del cross-validation y el tiempo\n",
        "print(f\"Todos los accuracies son: {scores_dt}\")\n",
        "print(f\"La precisión promedio de la validación cruzada es: {scores_dt.mean():.2f} ± {scores_dt.std():.2f}\")\n",
        "print(f\"El tiempo de entrenamiento es de {training_time_dt:.2f} segundos\")"
      ],
      "metadata": {
        "id": "VLfvGyGJt4wo",
        "outputId": "2ffab480-f8f6-4adc-b6fb-89212c93e3e8",
        "colab": {
          "base_uri": "https://localhost:8080/"
        }
      },
      "execution_count": null,
      "outputs": [
        {
          "output_type": "stream",
          "name": "stdout",
          "text": [
            "Todos los accuracies son: [0.70422462 0.74231839 0.80382343]\n",
            "La precisión promedio de la validación cruzada es: 0.75 ± 0.04\n",
            "El tiempo de entrenamiento es de 0.13 segundos\n"
          ]
        }
      ]
    },
    {
      "cell_type": "markdown",
      "source": [
        "Una vez realizamos el entrenamiento del modelo de Árboles de Derivación, podemos verificar que la precisión promedio del modelo es de alrededor del 75% y adicionalmente tiene un desviación estándar baja, lo que implica que el modelo es consistente con sus predicciones"
      ],
      "metadata": {
        "id": "OCemr2Fov5LH"
      }
    },
    {
      "cell_type": "markdown",
      "source": [
        "#### **· Evaluación Preliminar de Resultados**"
      ],
      "metadata": {
        "id": "jfYHdfcXtpFG"
      }
    },
    {
      "cell_type": "markdown",
      "source": [
        "Después de obtener ambos resultados, podemos destacar varios aspectos que son evidentes y que son necesarios de considerar. Primeramente se puede observar que el Accuracy del modelo KNN es menor que el que se evidencia en el Derivation Tree, por lo que se puede afirmar que el árbol de derivación tiene mucha mayor probabilidad de acertar la predicción que el KNN.\n",
        "\n",
        "Sin embargo, es necesario mencionar que la desviación estándar obtenida con los árboles de derivación es ligeramente mayor que la del modelo KNN, por lo que el primero tiene una mayor consistencia en sus predicciones que el segundo.\n",
        "\n",
        "Por otro lado, se puede destacar que el coste computacional del modelo KNN es menor al de los árboles de derivación, dado que este último tarda más tiempo en entrenarse que el primero.\n",
        "\n",
        "Con todo esto, podemos proceder a realizar un análisis similar pero modificando los paramétros y con ello, podremos obtener una conclusión clara del mejor modelo a aplicar entre el KNN y los Derivation Trees."
      ],
      "metadata": {
        "id": "BPw9Xv7exsTS"
      }
    },
    {
      "cell_type": "markdown",
      "source": [
        "### **4.2.b. Evaluación con Ajustes de Hiperparámetros**"
      ],
      "metadata": {
        "id": "C6U8xKubxgRf"
      }
    },
    {
      "cell_type": "markdown",
      "source": [
        "Una vez verificado el comportamiento de los modelos teniendo en consideración que los hiperparámetros no se veían modificados, entonces procedemos a modificar ligeramente los hiperparámetros del KNN y de los árboles para verificar en cómo los cambios generan la mejora o el empeoramiento de los resultados del \"balanced-accuray\" y del tiempo de ejecución.\n",
        "\n",
        "Para ello, procedemos a modificar el KNN teniendo en consideración el método seleccionado en el primer apartado de esta sección y considerando la variación solo del número de vecinos. Es decir, vamos a modificar la K del modelo, donde vamos a considerar la evaluación de más vecinos, y para ello es necesario realizar nuevamente el pipeline del KNN."
      ],
      "metadata": {
        "id": "W61l3zuOf6jd"
      }
    },
    {
      "cell_type": "markdown",
      "source": [
        "#### **· Modelo KNN**"
      ],
      "metadata": {
        "id": "TBe3fcZit0FI"
      }
    },
    {
      "cell_type": "code",
      "source": [
        "# Preprocesador para datos numéricos: imputación con la mediana + escalado robusto\n",
        "num_transformer_knn_HPO = Pipeline([\n",
        "    ('imputer', SimpleImputer(strategy='mean')),\n",
        "    ('scaler', RobustScaler())\n",
        "])\n",
        "\n",
        "# Preprocesador para datos categóricos: OneHotEncoding\n",
        "cat_transformer_knn_HPO = Pipeline([\n",
        "    ('encoder', OneHotEncoder(handle_unknown='ignore'))\n",
        "])\n",
        "\n",
        "# Combinar ambos en un ColumnTransformer\n",
        "preprocessor_knn_HPO = ColumnTransformer([\n",
        "    ('num', num_transformer_knn_HPO, numerical_vars),\n",
        "    ('cat', cat_transformer_knn_HPO, categorical_vars)\n",
        "])\n",
        "\n",
        "# Pipeline final con preprocesamiento y modelo KNN\n",
        "knn_pipe_HPO = Pipeline([\n",
        "    ('preprocessor', preprocessor_knn_HPO),\n",
        "    ('knn', KNeighborsClassifier())\n",
        "])"
      ],
      "metadata": {
        "id": "smdTPN29f90b"
      },
      "execution_count": null,
      "outputs": []
    },
    {
      "cell_type": "markdown",
      "source": [
        "A continuación establecemos los hiperparametros que vamos a modificar, así como sus valores. Como para el KNN solo vamos a modificar el número de vecinos, entonces procedemos a establecer los valores que vamos a usar. Para ello, habíamos tomado el valor por defecto de la K en el apartado anterior, pero en este caso usaremos los valores que están en un rango entre 1 y 20.\n",
        "\n",
        "Adicionalmente podremos observar que hacemos el uso del \"grid search\", el cual con la ayuda de la validación cruzada, nos ayuda a comparar la mejor combinación con respecto a la variacón de los hiperparámetros evitando el sobreajuste."
      ],
      "metadata": {
        "id": "VXo6Wmc0gBZi"
      }
    },
    {
      "cell_type": "code",
      "source": [
        "# Establecemos los valores a utilizar en la modificación del hiperparámetro\n",
        "param_grid_knn = {'knn__n_neighbors': range(1, 20)}\n",
        "\n",
        "# Establecemos cómo se va a hacer el cross-validation\n",
        "cv_HPO = StratifiedKFold(n_splits=3, shuffle=True, random_state=100477706)\n",
        "\n",
        "# Hacemos el Grid Search con la variación de los hiperparámetros\n",
        "gs_knn = GridSearchCV(knn_pipe_HPO,\n",
        "                      param_grid_knn,\n",
        "                      cv=cv_HPO,\n",
        "                      scoring='balanced_accuracy',\n",
        "                      n_jobs=1, verbose=1\n",
        "                      )\n",
        "\n",
        "# Medimos el tiempo de entrenamiento del modelo\n",
        "time_start_knn_HPO = time.time()\n",
        "gs_knn.fit(X_train, y_train)\n",
        "time_end_knn_HPO = time.time()\n",
        "knn_training_time_HPO = time_end_knn_HPO - time_start_knn_HPO"
      ],
      "metadata": {
        "id": "_YAFLi4agGMD",
        "outputId": "a5c488ee-76d0-4184-cc7f-b04b35e95614",
        "colab": {
          "base_uri": "https://localhost:8080/"
        }
      },
      "execution_count": null,
      "outputs": [
        {
          "output_type": "stream",
          "name": "stdout",
          "text": [
            "Fitting 3 folds for each of 19 candidates, totalling 57 fits\n"
          ]
        }
      ]
    },
    {
      "cell_type": "markdown",
      "source": [
        "Por último, imprimos los resultados con respecto al tiempo que llevo realizar el proceso de \"grid search\", así como el entrenamiento con dichos hiperparámetros. Adicionalemente, verificamos cuál fue el mejor ajuste de hiperparámetros con respecto a cuál de ellos da un resultado más ajustado a las predicciones."
      ],
      "metadata": {
        "id": "K8tJnO0JgKcR"
      }
    },
    {
      "cell_type": "code",
      "source": [
        "print(f\"\\033[1mEvaluación del modelo KNN con HPO\\033[0m\")\n",
        "print(f\"Mejor KNN n_neighbors: {gs_knn.best_params_}\")\n",
        "print(f\"Balanced Accuracy: {gs_knn.best_score_:.4f}\")\n",
        "print(f\"Tiempo de entrenamiento: {knn_training_time_HPO:.4f} segundos\")"
      ],
      "metadata": {
        "id": "KLTxG-uQgVqb",
        "outputId": "fa259e60-447c-49a3-e72f-a8bd5daee1ef",
        "colab": {
          "base_uri": "https://localhost:8080/"
        }
      },
      "execution_count": null,
      "outputs": [
        {
          "output_type": "stream",
          "name": "stdout",
          "text": [
            "\u001b[1mEvaluación del modelo KNN con HPO\u001b[0m\n",
            "Mejor KNN n_neighbors: {'knn__n_neighbors': 1}\n",
            "Balanced Accuracy: 0.7624\n",
            "Tiempo de entrenamiento: 4.9949 segundos\n"
          ]
        }
      ]
    },
    {
      "cell_type": "markdown",
      "source": [
        "Dados los resultados obtenidos, podemos verificar que con K=1 siendo el mejor ajuste y con respecto al apartado anterior donde los hiperparámetros no se modificaban, tenemos una mejora en la exactitud o ajuste de los resultados a la predicción. Teníamos que antes el \"accuracy\" no llegaba al 60% y ahora es del 76%.\n",
        "\n",
        "Lo único que ha desmejorado significativamente ha sido el tiempo, ya que ahora el entrenamiento tiene un coste computacional mayor y se evidencia en la tardanza del proceso."
      ],
      "metadata": {
        "id": "PHxIqtuEvLvo"
      }
    },
    {
      "cell_type": "markdown",
      "source": [
        "#### **· Modelo Decision Trees**"
      ],
      "metadata": {
        "id": "wDG4aRFQt4qD"
      }
    },
    {
      "cell_type": "markdown",
      "source": [
        "Habiendo visto los resultados con respecto al KNN, procedemos ahora a realizar el mismo proceso con los árboles de derivación. Para ello, procedemos a modificar el árbol de derivación teniendo en consideración la variación de la profundidad del árbol con \"max_depth\" y el número mínimo de muestras para la división de un nodo con \"min_samples_split\"."
      ],
      "metadata": {
        "id": "yitvqUp9va1a"
      }
    },
    {
      "cell_type": "code",
      "source": [
        "# Pipeline para datos numéricos: imputación con la mediana + escalado estándar\n",
        "num_transformer_dt_HPO = Pipeline([\n",
        "    ('imputer', SimpleImputer(strategy='mean')),\n",
        "    ('scaler', RobustScaler())\n",
        "])\n",
        "\n",
        "# Pipeline para datos categóricos: OneHotEncoder para convertir a numérico\n",
        "cat_transformer_dt_HPO = Pipeline([\n",
        "    ('encoder', OneHotEncoder(handle_unknown='ignore'))\n",
        "])\n",
        "\n",
        "# Combinamos ambos en un ColumnTransformer\n",
        "preprocessor_dt_HPO = ColumnTransformer([\n",
        "    ('num', num_transformer_dt_HPO, numerical_vars),\n",
        "    ('cat', cat_transformer_dt_HPO, categorical_vars)\n",
        "])\n",
        "\n",
        "# Creamos el pipeline final con preprocesamiento + DecisionTreeClassifier\n",
        "dt_pipe_HPO = Pipeline([\n",
        "    ('preprocessor', preprocessor_dt_HPO),\n",
        "    ('classifier', DecisionTreeClassifier(random_state=100477706))\n",
        "])"
      ],
      "metadata": {
        "id": "TKUh2Orgvg4n"
      },
      "execution_count": null,
      "outputs": []
    },
    {
      "cell_type": "markdown",
      "source": [
        "Una vez realizado nuevamente el pipeline, entonces procedemos a ejecutar los cambios en los hiperparámetros. Para el \"max_depth\" la idea es verificar cómo se comporta el árbol con variación en su profundiad, dentro de un rango y empezando con valores pequeños de profundidad para terminar con valores bastantes elevados.\n",
        "\n",
        "Por otro lado, usaremos el mismo rango para \"min_samples_split\" de tal forma que se pueda restringir el crecimiento del árbol los nodos internos."
      ],
      "metadata": {
        "id": "D1ipNdlYvmTP"
      }
    },
    {
      "cell_type": "code",
      "source": [
        "# Establecemos los valores a utilizar en la modificación de los hiperparámetros\n",
        "param_grid_dt = {'classifier__max_depth': [2, 4, 6, 8, 10, 12, 14],\n",
        "                 'classifier__min_samples_split': [2, 4, 6, 8, 10, 12, 14]}\n",
        "\n",
        "# Establecemos cómo se va a hacer el cross-validation\n",
        "cv_HPO = StratifiedKFold(n_splits=3, shuffle=True, random_state=100477706)\n",
        "\n",
        "# Hacemos el Grid Search con la variación de los hiperparámetros\n",
        "gs_dt = GridSearchCV(dt_pipe_HPO,\n",
        "                      param_grid_dt,\n",
        "                      cv=cv_HPO,\n",
        "                      scoring='balanced_accuracy',\n",
        "                      n_jobs=1, verbose=1\n",
        "                      )\n",
        "\n",
        "# Medimos el tiempo de entrenamiento\n",
        "start_time_dt_HPO = time.time()\n",
        "gs_dt.fit(X_train, y_train)\n",
        "end_time_dt_HPO = time.time()\n",
        "training_time_dt_HPO = end_time_dt_HPO - start_time_dt_HPO"
      ],
      "metadata": {
        "id": "HKAT-Pp4voVR",
        "outputId": "116e6920-fe37-4262-eb16-34fd91ef19f9",
        "colab": {
          "base_uri": "https://localhost:8080/"
        }
      },
      "execution_count": null,
      "outputs": [
        {
          "output_type": "stream",
          "name": "stdout",
          "text": [
            "Fitting 3 folds for each of 49 candidates, totalling 147 fits\n"
          ]
        }
      ]
    },
    {
      "cell_type": "markdown",
      "source": [
        "Por último, imprimos los resultados con respecto al tiempo que llevo realizar el proceso de \"grid search\", así como el entrenamiento con dichos hiperparámetros. Adicionalemente, verificamos cuál fue el mejor ajuste de hiperparámetros con respecto a cuál de ellos da un resultado más ajustado a las predicciones."
      ],
      "metadata": {
        "id": "C6zaqEb4vygk"
      }
    },
    {
      "cell_type": "code",
      "source": [
        "print(f\"\\033[1mEvaluación del modelo Decision Trees con HPO\\033[0m\")\n",
        "print(\"Mejor KNN max_depth y min_samples_split:\")\n",
        "print(f\"{gs_dt.best_params_}\")\n",
        "print(f\"Balanced_Accuracy: {gs_dt.best_score_:.4f}\")\n",
        "print(f\"Tiempo de entrenamiento: {training_time_dt_HPO:.4f} segundos\")"
      ],
      "metadata": {
        "id": "VAJFEn0yv2UO",
        "outputId": "9a7ad1c8-6e9f-4a63-838c-afc4a1ef1f00",
        "colab": {
          "base_uri": "https://localhost:8080/"
        }
      },
      "execution_count": null,
      "outputs": [
        {
          "output_type": "stream",
          "name": "stdout",
          "text": [
            "\u001b[1mEvaluación del modelo Decision Trees con HPO\u001b[0m\n",
            "Mejor KNN max_depth y min_samples_split:\n",
            "{'classifier__max_depth': 14, 'classifier__min_samples_split': 4}\n",
            "Balanced_Accuracy: 0.7480\n",
            "Tiempo de entrenamiento: 5.6768 segundos\n"
          ]
        }
      ]
    },
    {
      "cell_type": "markdown",
      "source": [
        "Dados los resultados obtenidos, podemos verificar que con una profundidad de 14 y una división de 2, siendo el mejor ajuste y con respecto al apartado anterior donde los hiperparámetros no se modificaban, tenemos una desmejora en la exactitud de la predicción.\n",
        "\n",
        "Asímismo podemos verificar que la precisión del modelo ha disminuído ligeramente con respecto a la evaluación por omisión de hiperparámetros, ya que pasamos de un 75% a un 74% en esta evaluación.\n",
        "\n",
        "También se evidencia una clara desmejoría en el tiempo, ya que ahora el entrenamiento tiene un coste computacional mayor y se evidencia en la tardanza del proceso."
      ],
      "metadata": {
        "id": "RQM_El63weK9"
      }
    },
    {
      "cell_type": "markdown",
      "source": [
        "### **4.2.c. Gráficas de Evaluación de Modelos**\n",
        "\n"
      ],
      "metadata": {
        "id": "kvPtSL0gxlyD"
      }
    },
    {
      "cell_type": "markdown",
      "source": [
        "En este apartado se pretende visualizar un conjunto de gráficas que demuestren como la variación de los hiperparámetros genera una variación en la precisión de los resultados de las predicciones. Para ello, debemos tener en consideración los ánalisis de la mejor cobinación de hiperparámetros del apartado anterior con el KNN y con los Árboles de Decisión."
      ],
      "metadata": {
        "id": "3eJ6fj-_uaIp"
      }
    },
    {
      "cell_type": "markdown",
      "source": [
        "#### **· Modelo KNN**"
      ],
      "metadata": {
        "id": "ySoob6nQuNxS"
      }
    },
    {
      "cell_type": "markdown",
      "source": [
        "Primeramente, revisaremos el caso del modelo KNN en el cual solo se lleva a cabo la modificación del hiperparámetro relacionados al valor de la K o de los vecinos más cercanos donde se hace la predicción. Para ello, levantamos una gráfica en la cual podemos ver como varía el número de hijos con respecto al \"balanced-accuracy\"."
      ],
      "metadata": {
        "id": "huwClshPubZu"
      }
    },
    {
      "cell_type": "code",
      "source": [
        "# Extraemos los resultados del grid search\n",
        "results = gs_knn.cv_results_\n",
        "\n",
        "# Hacemos el plot\n",
        "plt.figure(figsize=(8,6))\n",
        "plt.plot(results['param_knn__n_neighbors'], results['mean_test_score'], marker='o')\n",
        "plt.xlabel('Número de Vecinos (n_neighbors)')\n",
        "plt.ylabel('Balanced Accuracy')\n",
        "plt.title('Efecto del número de vecinos en el rendimiento de KNN')\n",
        "plt.grid(True)\n",
        "plt.show()"
      ],
      "metadata": {
        "colab": {
          "base_uri": "https://localhost:8080/",
          "height": 565
        },
        "id": "DLUIsn_vNqL1",
        "outputId": "2c89daf3-84a2-49cb-f566-1316b3f9def1"
      },
      "execution_count": null,
      "outputs": [
        {
          "output_type": "display_data",
          "data": {
            "text/plain": [
              "<Figure size 800x600 with 1 Axes>"
            ],
            "image/png": "[encoded data removed]"
          },
          "metadata": {}
        }
      ]
    },
    {
      "cell_type": "markdown",
      "source": [
        "Como se puede observar en la gráfica, a mayor número de vecinos, el \"Balanced Accuracy\" desmejora. Esto ocurre debido a que ante pocos vecinos, el modelo es más sensible a detalles locales y puede detectar mejor patrones pequeños. Con respecto a un número de vecinos muy grande, este analiza un número muy grande de datos, incluso aquellos que son muy lejanos, lo que provoca una imprecisión elevada a raíz del desbalanceo que tiene este problema.\n",
        "\n",
        "Sin embargo, es importante destacar que en todos los casos se puede decir que el modelo aprende, ya que siempre se encuentra sobre el umbral del 50% del \"Balanced Accuracy\", pero claramente es mucho mejor tener una precisión mayor al 75% que una más baja.\n",
        "\n",
        "En conclusión, se puede afirmar que el mejor KNN con modificación de parámetros es que la K sea de un solo vecino. Esto también lo pudimos observar en los resultados del apartado anterior."
      ],
      "metadata": {
        "id": "_r-EhAbhup3J"
      }
    },
    {
      "cell_type": "markdown",
      "source": [
        "Adicionalmente para el caso del KNN vamos a considerar una gráfica que nos permite hacer una comparación entre los resultados del KNN obtenido por el GridSearch y aquel por omisión de hiperparámetros."
      ],
      "metadata": {
        "id": "yVFnLLnFuqtM"
      }
    },
    {
      "cell_type": "code",
      "source": [
        "# Obtenemos el mejor score del GridSearch\n",
        "best_accuracy_gridsearch = gs_knn.best_score_\n",
        "\n",
        "# Obtenemos el promedio de accuracy del cross_val_score\n",
        "mean_accuracy_crossval = scores_knn.mean()\n",
        "\n",
        "# Creamos el gráfico\n",
        "fig, ax = plt.subplots(figsize=(8, 5))\n",
        "\n",
        "# Establecemos los datos a graficar\n",
        "models = ['KNN con Optimización de Hiperparámetros (HPO)', 'KNN con Omisión de Hiperparámetros']\n",
        "accuracies = [best_accuracy_gridsearch, mean_accuracy_crossval]\n",
        "\n",
        "# Creamos el barplot\n",
        "bars = ax.bar(models, accuracies, color=['royalblue', 'seagreen'])\n",
        "\n",
        "# Agregamos etiquetas encima de las barras\n",
        "for bar in bars:\n",
        "    height = bar.get_height()\n",
        "    ax.annotate(f'{height:.2f}',\n",
        "                xy=(bar.get_x() + bar.get_width() / 2, height),\n",
        "                xytext=(0, 3),  # Separación hacia arriba\n",
        "                textcoords=\"offset points\",\n",
        "                ha='center', va='bottom', fontsize=10)\n",
        "\n",
        "# Personalizamos el gráfico\n",
        "ax.set_ylim(0, 1)\n",
        "ax.set_ylabel('Balanced Accuracy')\n",
        "ax.set_title('Comparación de rendimiento KNN\\n(Optimización de Hiperparámetros (HPO) vs Omisión de Hiperparámetros)')\n",
        "plt.grid(axis='y', linestyle='--', alpha=0.7)\n",
        "\n",
        "# Mostramos el gráfico\n",
        "plt.tight_layout()\n",
        "plt.show()"
      ],
      "metadata": {
        "id": "3civEfVZuyPa",
        "outputId": "6e2ca228-816b-4553-b616-1f458d6b9eb2",
        "colab": {
          "base_uri": "https://localhost:8080/",
          "height": 507
        }
      },
      "execution_count": null,
      "outputs": [
        {
          "output_type": "display_data",
          "data": {
            "text/plain": [
              "<Figure size 800x500 with 1 Axes>"
            ],
            "image/png": "[encoded data removed]"
          },
          "metadata": {}
        }
      ]
    },
    {
      "cell_type": "markdown",
      "source": [
        "Mediante este gráfico podemos observar como los resultados obtenidos mediante el método de variación de hiperparámetros tiene un mejor \"Balanced Accuracy\" que aquel realizado por omisión de hiperparámetros. Por ello podemos afirmar que con el método GridSearch y analizando un solo vecino, obtenemos un modelo más preciso en las predicciones."
      ],
      "metadata": {
        "id": "GU74Q7wcu3TM"
      }
    },
    {
      "cell_type": "markdown",
      "source": [
        "#### **· Modelo Decision Trees**"
      ],
      "metadata": {
        "id": "IdTY9V0cuO6C"
      }
    },
    {
      "cell_type": "markdown",
      "source": [
        "Por otro lado, analizaremos en este apartado el caso de los árboles de decisión y el cómo surte efecto la variación de los hiperparámetros realizada en el apartado anterior. Es importante recordar que para este caso, se llevó a cabo la modificación de \"max-depth\" y de \"min-samples-split\"."
      ],
      "metadata": {
        "id": "D2-qoeMdu-J-"
      }
    },
    {
      "cell_type": "code",
      "source": [
        "# Extraemos los resultados del GridSearchCV de Decision Tree\n",
        "results_dt = pd.DataFrame(gs_dt.cv_results_)\n",
        "\n",
        "# Creamos una tabla dinámica para el heatmap\n",
        "pivot_dt = results_dt.pivot_table(\n",
        "    index='param_classifier__max_depth',\n",
        "    columns='param_classifier__min_samples_split',\n",
        "    values='mean_test_score'\n",
        ")\n",
        "\n",
        "# Plot del heatmap\n",
        "plt.figure(figsize=(10, 6))\n",
        "sns.heatmap(pivot_dt, annot=True, fmt=\".3f\", cmap='viridis')\n",
        "plt.title('Efecto de max_depth y min_samples_split en Decision Tree\\n(Balanced Accuracy)')\n",
        "plt.xlabel('min_samples_split')\n",
        "plt.ylabel('max_depth')\n",
        "plt.show()"
      ],
      "metadata": {
        "id": "-X5ldP1uvBXq",
        "outputId": "91e15a71-114e-4059-af7b-269d45231aea",
        "colab": {
          "base_uri": "https://localhost:8080/",
          "height": 585
        }
      },
      "execution_count": null,
      "outputs": [
        {
          "output_type": "display_data",
          "data": {
            "text/plain": [
              "<Figure size 1000x600 with 2 Axes>"
            ],
            "image/png": "[encoded data removed]"
          },
          "metadata": {}
        }
      ]
    },
    {
      "cell_type": "markdown",
      "source": [
        "Teniendo en cuenta el gráfico mostrado, podemos observar que en el eje de las ordenadas tenemos los distintos valores del hiperparámetro de \"max-depth\", el cual se encuentra en orden descendente. Por otro lado, tenemos que el eje de las abscisas se encuentran los diferentes valores del hiperparámetro \"min-samples-split\" y el cual está ordenado de forma ascendente. Por último podemos ver que cada casilla cuenta con el \"Balanced-Accuracy\" que se genera con el aporte de ambos hiperparámetros y el color de cada una representa que tan bueno es la precisión, siendo el color morado la más baja y el amarillo la más alta como se observa en la leyenda.\n",
        "\n",
        "Como se puede obsrvar del gráfico generado, podemos afirmar que la mejor configuración de hiperparámetros es cuando la profundidad tiene un valor de 14 y el \"min-samples-split\" un valor de 4, lo que provoca que la precisión se posicione con el mayor de los valores de la tabla.\n",
        "\n",
        "El valor de la profundidad es bastante elevado ya que con valores bajos, el modelo no puede capturar la verdadera complejidad de los datos y eso es lo que provoca la baja precisión en la parte superior de la gráfica. También es importante mencionar que ante altas profundidades, el árbol puede tender al sobreajuste, por lo que habiendo llegado a la profundidad de 14, es suficiente para verificar toda la complejidad de los datos sin llegar a un sobreajuste.\n",
        "\n",
        "Por otro lado, teniendo en cuenta el hiperparámetro que regula el número de muestras necesarias para poder dividir, podemos verificar que ante un número bajo de muestras, se tiene más flexibilidad y libertad para hacer divisiones. Además, esto provoca considerar toda la complejidad de los datos sin entrar en el sobreajuste.\n",
        "\n",
        "La combinación de estos dos datos, genera que el árbol esté preparado y entrenado para datos de alta complejidad sin entrar en un problema de sobreajuste del modelo a los mismos."
      ],
      "metadata": {
        "id": "DKHyRfxqvGDR"
      }
    },
    {
      "cell_type": "code",
      "source": [
        "# Obtenemos el mejor score del GridSearch\n",
        "best_accuracy_gridsearch = gs_dt.best_score_\n",
        "\n",
        "# Obtenemos el promedio de accuracy del cross_val_score\n",
        "mean_accuracy_crossval = scores_dt.mean()\n",
        "\n",
        "# Creamos el gráfico\n",
        "fig, ax = plt.subplots(figsize=(8, 5))\n",
        "\n",
        "# Establecemos los datos a graficar\n",
        "models = ['Árbol de Decisión con\\nOptimización de Hiperparámetros (HPO)', 'Árbol de Decisión con\\nOmisión de Hiperparámetros']\n",
        "accuracies = [best_accuracy_gridsearch, mean_accuracy_crossval]\n",
        "\n",
        "# Creamos el barplot\n",
        "bars = ax.bar(models, accuracies, color=['royalblue', 'seagreen'])\n",
        "\n",
        "# Agregamos etiquetas encima de las barras\n",
        "for bar in bars:\n",
        "    height = bar.get_height()\n",
        "    ax.annotate(f'{height:.3f}',\n",
        "                xy=(bar.get_x() + bar.get_width() / 2, height),\n",
        "                xytext=(0, 3),  # Separación hacia arriba\n",
        "                textcoords=\"offset points\",\n",
        "                ha='center', va='bottom', fontsize=10)\n",
        "\n",
        "# Personalizamos el gráfico\n",
        "ax.set_ylim(0, 1)\n",
        "ax.set_ylabel('Balanced Accuracy')\n",
        "ax.set_title('Comparación de rendimiento de los Árboles de Decisión\\n(Optimización de Hiperparámetros (HPO) vs Omisión de Hiperparámetros)')\n",
        "plt.grid(axis='y', linestyle='--', alpha=0.7)\n",
        "\n",
        "# Mostramos el gráfico\n",
        "plt.tight_layout()\n",
        "plt.show()"
      ],
      "metadata": {
        "id": "VCUU1GCtvKjs",
        "outputId": "56acff01-aa8b-4be3-cb4c-8c299109860b",
        "colab": {
          "base_uri": "https://localhost:8080/",
          "height": 507
        }
      },
      "execution_count": null,
      "outputs": [
        {
          "output_type": "display_data",
          "data": {
            "text/plain": [
              "<Figure size 800x500 with 1 Axes>"
            ],
            "image/png": "[encoded data removed]"
          },
          "metadata": {}
        }
      ]
    },
    {
      "cell_type": "markdown",
      "source": [
        "Por último, se puede observar en la gráfica que la diferencia entre ambos resultados es bastante cercana, por lo que podemos decir que usar cualquiera de las dos formas es indeferente. Sin embargo, es importante decir que aquella que se hace con omisión de parámetros, tiene una mejor precisión al predeicir los datos, pero tiene una desviación típica de 0,04. Esto hace que este modelo tenga ligeros errores en la predicción, pero por el tiempo de ejecución, es mucho mejor utilizar el de omisión de parámetros, ya que como podremos ver a continuación, el tiempo de ejecución del HPO es mucho mayor."
      ],
      "metadata": {
        "id": "tgo02tCNviWh"
      }
    },
    {
      "cell_type": "code",
      "source": [
        "# Creamos el gráfico\n",
        "fig, ax = plt.subplots(figsize=(8, 5))\n",
        "\n",
        "# Establecemos los datos a graficar\n",
        "models = ['Árbol de Decisión con\\nOptimización de Hiperparámetros (HPO)', 'Árbol de Decisión con\\nOmisión de Hiperparámetros']\n",
        "accuracies = [training_time_dt_HPO, training_time_dt]\n",
        "\n",
        "# Creamos el barplot\n",
        "bars = ax.bar(models, accuracies, color=['royalblue', 'seagreen'])\n",
        "\n",
        "# Agregamos etiquetas encima de las barras\n",
        "for bar in bars:\n",
        "    height = bar.get_height()\n",
        "    ax.annotate(f'{height:.2f}',\n",
        "                xy=(bar.get_x() + bar.get_width() / 2, height),\n",
        "                xytext=(0, 3),  # Separación hacia arriba\n",
        "                textcoords=\"offset points\",\n",
        "                ha='center', va='bottom', fontsize=10)\n",
        "\n",
        "# Personalizamos el gráfico\n",
        "ax.set_ylim(0, 10)\n",
        "ax.set_ylabel('Tiempo de Entrenamiento (segundos)')\n",
        "ax.set_title('Comparación de Tiempos de los Árboles de Decisión\\n(Optimización de Hiperparámetros (HPO) vs Omisión de Hiperparámetros)')\n",
        "plt.grid(axis='y', linestyle='--', alpha=0.7)\n",
        "\n",
        "# Mostramos el gráfico\n",
        "plt.tight_layout()\n",
        "plt.show()"
      ],
      "metadata": {
        "id": "oMyLwkbGvlqW",
        "outputId": "fc72f43f-3f58-4355-b8e0-d621f85f02a8",
        "colab": {
          "base_uri": "https://localhost:8080/",
          "height": 507
        }
      },
      "execution_count": null,
      "outputs": [
        {
          "output_type": "display_data",
          "data": {
            "text/plain": [
              "<Figure size 800x500 with 1 Axes>"
            ],
            "image/png": "[encoded data removed]"
          },
          "metadata": {}
        }
      ]
    },
    {
      "cell_type": "markdown",
      "source": [
        "#### **· Evaluación Preliminar de Gráficas**"
      ],
      "metadata": {
        "id": "k6TDwjmRHbYX"
      }
    },
    {
      "cell_type": "markdown",
      "source": [
        "Una vez vistos la representación gráfica de cada uno de los casos, podemos realizar una última representación en la cual podremos observar la diferencia entre los dos mejores modelos obtenidos entre el KNN y los Árboles de Derivación. Esto nos va a permitir tener un panorama más claro para la conclusión final acerca de los modelos básicos.\n",
        "\n",
        "Para ello, vamos a tomar las conclusiones preliminares de cada uno de los modelos como lo hemos observado anteriormente y planteamos una representación en donde tenemos el \"Balanced Accuracy\" del modelo KNN realizado con optimización de hiperparámetros, considerando un solo vecino, y el modelo de los árboles de decisión con omisión de hiperparámetros."
      ],
      "metadata": {
        "id": "uN5LF__dHcAs"
      }
    },
    {
      "cell_type": "code",
      "source": [
        "# Obtenemos el mejor modelo de KNN\n",
        "best_accuracy_knn = gs_knn.best_score_\n",
        "\n",
        "# Obtenemos el mejor modelo de los Decision Trees\n",
        "best_accuracy_dt = scores_dt.mean()\n",
        "\n",
        "# Creamos el gráfico\n",
        "fig, ax = plt.subplots(figsize=(8, 5))\n",
        "\n",
        "# Establecemos los datos a graficar\n",
        "models = ['Mejor Modelo de los Árboles de Decisión\\n(Con Omisión de Hiperparámetros)', 'Mejor Modelo de los KNN\\n(Con Optimización de Hiperparámetros)']\n",
        "accuracies = [best_accuracy_dt, best_accuracy_knn]\n",
        "\n",
        "# Creamos el barplot\n",
        "bars = ax.bar(models, accuracies, color=['royalblue', 'seagreen'])\n",
        "\n",
        "# Agregamos etiquetas encima de las barras\n",
        "for bar in bars:\n",
        "    height = bar.get_height()\n",
        "    ax.annotate(f'{height:.3f}',\n",
        "                xy=(bar.get_x() + bar.get_width() / 2, height),\n",
        "                xytext=(0, 3),  # Separación hacia arriba\n",
        "                textcoords=\"offset points\",\n",
        "                ha='center', va='bottom', fontsize=10)\n",
        "\n",
        "# Personalizamos el gráfico\n",
        "ax.set_ylim(0, 1)\n",
        "ax.set_ylabel('Balanced Accuracy')\n",
        "ax.set_title('Comparación de rendimiento de los Árboles de Decisión vs KNN)')\n",
        "plt.grid(axis='y', linestyle='--', alpha=0.7)\n",
        "\n",
        "# Mostramos el gráfico\n",
        "plt.tight_layout()\n",
        "plt.show()"
      ],
      "metadata": {
        "id": "3siip7GoJBb7",
        "outputId": "9df4d157-ccc3-48cb-acb3-f592c03b4d72",
        "colab": {
          "base_uri": "https://localhost:8080/",
          "height": 507
        }
      },
      "execution_count": null,
      "outputs": [
        {
          "output_type": "display_data",
          "data": {
            "text/plain": [
              "<Figure size 800x500 with 1 Axes>"
            ],
            "image/png": "[encoded data removed]"
          },
          "metadata": {}
        }
      ]
    },
    {
      "cell_type": "markdown",
      "source": [
        "Como podemos observar en el gráfico, se puede afirmar que por una ligera diferencia de un 1.2%, el modelo KNN con optimización de hiperparámetros es el modelo que predice de forma más precisa los resultados, teniendo en cuenta solamente la evaluación de tipo inner.\n",
        "\n",
        "Sin embargo, es necesario saber que aunque sea más precisa, es un modelo que tiene una carga computacional mucho mayor al otro. Por ende en la conclusión se debe analizar si la carga computacional compensa la ligera mejoría en la precisión\n",
        "\n",
        "Por ahora, entonces lo último que mostraremos es la carga computacional que tiene el modelo KNN con respecto al de los árboles."
      ],
      "metadata": {
        "id": "0Ktf-t2CKXst"
      }
    },
    {
      "cell_type": "code",
      "source": [
        "# Creamos el gráfico\n",
        "fig, ax = plt.subplots(figsize=(8, 5))\n",
        "\n",
        "# Establecemos los datos a graficar\n",
        "models = ['Mejor Modelo de Árbol de Decisión\\n(Con Omisión de Hiperparámetros)', 'Mejor Modelo de KNN\\n(Con Optimización de Hiperparámetros)']\n",
        "accuracies = [training_time_dt, knn_training_time_HPO]\n",
        "\n",
        "# Creamos el barplot\n",
        "bars = ax.bar(models, accuracies, color=['royalblue', 'seagreen'])\n",
        "\n",
        "# Agregamos etiquetas encima de las barras\n",
        "for bar in bars:\n",
        "    height = bar.get_height()\n",
        "    ax.annotate(f'{height:.2f}',\n",
        "                xy=(bar.get_x() + bar.get_width() / 2, height),\n",
        "                xytext=(0, 3),  # Separación hacia arriba\n",
        "                textcoords=\"offset points\",\n",
        "                ha='center', va='bottom', fontsize=10)\n",
        "\n",
        "# Personalizamos el gráfico\n",
        "ax.set_ylim(0, 10)\n",
        "ax.set_ylabel('Tiempo de Entrenamiento (segundos)')\n",
        "ax.set_title('Comparación de Tiempos entre los dos mejores modelos\\n')\n",
        "plt.grid(axis='y', linestyle='--', alpha=0.7)\n",
        "\n",
        "# Mostramos el gráfico\n",
        "plt.tight_layout()\n",
        "plt.show()"
      ],
      "metadata": {
        "id": "5ncrRd8NNA9K",
        "outputId": "5495ea51-620b-460c-8919-a4b0c7e0a683",
        "colab": {
          "base_uri": "https://localhost:8080/",
          "height": 506
        }
      },
      "execution_count": null,
      "outputs": [
        {
          "output_type": "display_data",
          "data": {
            "text/plain": [
              "<Figure size 800x500 with 1 Axes>"
            ],
            "image/png": "[encoded data removed]"
          },
          "metadata": {}
        }
      ]
    },
    {
      "cell_type": "markdown",
      "source": [
        "Teniendo todo lo mencinado anteriormente, entonces procedemos a concluir cuál de los modelos que se nos han presentado en esta fase es mejor para llevar a cabo las predicciones y que tenga la mejor precisión."
      ],
      "metadata": {
        "id": "hojjQmhWvtnA"
      }
    },
    {
      "cell_type": "markdown",
      "source": [
        "## **4.3. Conclusión de los Métodos Básicos**"
      ],
      "metadata": {
        "id": "mCo_Wv99v43n"
      }
    },
    {
      "cell_type": "markdown",
      "source": [
        "Después de haber analizado todos los métodos básicos, entonces es necesario explicar brevemente las conclusiones finales dados los resultados obtenidos a partir de las representaciones gráficas y del entrenamiento de difrentes modelos con distintas especificaciones.\n",
        "\n",
        "Primeramente es necesario establecer que todos los modelos que se producieron tenían un mínimo de aprendizaje. Esto lo sabemos gracias a que los resultados del \"Balanced Accuracy\" arrojaron que todos se encontraban por encima del umbral del 50%, lo que permite afirmar que todos los modelos son mejores que los triviales/naive/dummy, ya que estos tienen una precisión de aproximadamente el 50%. Gracias a esta referencia podemos medir que tan bueno es un modelo o que tan malo puede ser.\n",
        "\n",
        "Dado que los mejores modelos de cada uno de los tipos de métodos básicos, su precisioón supera o es igual al 75%, entonces podemos afirmar que estos modelos aprendieron de los datos y son mucho mejores que lso métodos triviales.\n",
        "\n",
        "Por otro lado, con respecto a la mejora que se produce a raíz de la optimización de hiperparámetros, es necesario decir que depende del valor que se le otorgue al hiperparámetro. No en todos los casos existía una mejora importante de la precisión, ya que por ejemplo en el caso del KNN, cuando se aumentaba el número de vecinos a más de 3, los resultados eran extremadamente peores que los obtenidos mediante la omisión de hiperparámetros.\n",
        "\n",
        "Sin embargo, sí que es cierto que los resultados mejoraban significativamente teniendo en cuenta menos de cuatro vecinos, lo que provocó que el mejor modelo KNN fuese optimizando el hiperparámetro del número de vecinos y situándolo con el valor de 1. El único problema es que esta mejora solo se produce teniendo un coste computacional mayor que en el caso de omitir los parámetros.\n",
        "\n",
        "En el caso de los árboles de decisión, todas las combinaciones resultantes eran peor que omitir los hiperparámetros, ya que ninguna pudo superar el 75% de precisión que este último alcanzaba. Por ello, se puede afirmar que en el caso de los árboles no hizo ningún efecto modificar los hiperparámetros.\n",
        "\n",
        "Por último, pero no menos importante, pudimos estudiar en el apartado anterior los mejores modelos de cada uno de los tipos básicos. Pudimos observar que el mejor modelo es el KNN Optimizando el Hiperparámetro de número de vecinos a uno, pero el cual tiene un coste computacional bastante elevado en comparación al árbol de decisión con omisión de hiperparámetros.\n",
        "\n",
        "Teniendo en cuenta estos aspectos y después de un riguroso análisis, pudimos concluir que el mejor modelo a elegir sería el KNN con HPO, ya que de cara a la empresa que requiere un modelo para predecir el abandono de sus empleados, creemos que debe imperar la precisión de la predicción sobre el coste computacional elevado."
      ],
      "metadata": {
        "id": "PTGb6jb7PBt7"
      }
    },
    {
      "cell_type": "markdown",
      "source": [
        "# **5. MÉTODOS AVANZADOS: LINEALES Y SVMs**"
      ],
      "metadata": {
        "id": "9BoePKewwesC"
      }
    },
    {
      "cell_type": "markdown",
      "source": [
        "**explicación**"
      ],
      "metadata": {
        "id": "O3rD0n-KwloR"
      }
    },
    {
      "cell_type": "markdown",
      "source": [
        "Una vez evaluados los modelos básicos de aprendizaje, entonces precedemos a verificar aquellos métodos que tienen un procesamiento un poco más complejo que los antes vistos...."
      ],
      "metadata": {
        "id": "UYFoCPr9Z9zB"
      }
    },
    {
      "cell_type": "markdown",
      "source": [
        "##**5.1 Evaluación con parámetros por omisión**"
      ],
      "metadata": {
        "id": "vVMwQvA9w5_h"
      }
    },
    {
      "cell_type": "markdown",
      "source": [
        "###**5.1.a Modelos lineal sin regularización L1**"
      ],
      "metadata": {
        "id": "0AhOMDtdxEya"
      }
    },
    {
      "cell_type": "code",
      "source": [
        "# Evaluación con validación cruzada para encontrar el mejor accuracy\n",
        "cv = StratifiedKFold(n_splits=3, shuffle=True, random_state=100477706)\n",
        "\n",
        "# Preprocesador para datos numéricos: imputación con la mediana + escalado robusto\n",
        "num_transformer = Pipeline([\n",
        "    ('imputer', SimpleImputer(strategy='mean')),\n",
        "    ('scaler', RobustScaler())\n",
        "])\n",
        "\n",
        "# Preprocesador para datos categóricos: OneHotEncoding\n",
        "cat_transformer = Pipeline([\n",
        "    ('encoder', OneHotEncoder(handle_unknown='ignore'))\n",
        "])\n",
        "\n",
        "# Combinar ambos en un ColumnTransformer\n",
        "preprocessor = ColumnTransformer([\n",
        "    ('num', num_transformer, numerical_vars),\n",
        "    ('cat', cat_transformer, categorical_vars)\n",
        "])\n",
        "\n",
        "# Pipeline final con preprocesamiento y modelo de regresión lineal sin regularización (penalty=None)\n",
        "linear_pipe = Pipeline([\n",
        "    ('preprocessor', preprocessor),\n",
        "    ('clasiffier', LogisticRegression(penalty=None))\n",
        "])\n",
        "\n",
        "# Medimos el tiempo de entrenamiento\n",
        "start_time_Linear = time.time()\n",
        "scores_linear = cross_val_score(linear_pipe, X_train, y_train, scoring='balanced_accuracy', cv=cv, error_score='raise')\n",
        "end_time_Linear = time.time()\n",
        "training_time_Linear = end_time_Linear - start_time_Linear\n",
        "\n",
        "# Imprimimos los resultados del cross-validation y el tiempo\n",
        "print(f\"\\033[1mEvaluación del modelo de regresión lineal sin regularización\\033[0m\")\n",
        "print(f\"Todos los accuracies son: {scores_linear}\")\n",
        "print(f\"La precisión promedio de la validación cruzada es: {scores_linear.mean():.2f} ± {scores_linear.std():.2f}\")\n",
        "print(f\"El tiempo de entrenamiento es de {training_time_Linear:.2f} segundos\")"
      ],
      "metadata": {
        "colab": {
          "base_uri": "https://localhost:8080/"
        },
        "id": "RmNzPvP3xLUG",
        "outputId": "6e8d5674-4050-43fc-cfa3-4a648778771e"
      },
      "execution_count": null,
      "outputs": [
        {
          "output_type": "stream",
          "name": "stdout",
          "text": [
            "\u001b[1mEvaluación del modelo de regresión lineal sin regularización\u001b[0m\n",
            "Todos los accuracies son: [0.61184754 0.61548488 0.61306048]\n",
            "La precisión promedio de la validación cruzada es: 0.61 ± 0.00\n",
            "El tiempo de entrenamiento es de 0.15 segundos\n"
          ]
        }
      ]
    },
    {
      "cell_type": "markdown",
      "source": [
        "###**5.1.b Modelos lineal con regularización L1**"
      ],
      "metadata": {
        "id": "dIgxNTPL2aRy"
      }
    },
    {
      "cell_type": "code",
      "source": [
        "# Evaluación con validación cruzada para encontrar el mejor accuracy\n",
        "cv = StratifiedKFold(n_splits=3, shuffle=True, random_state=100477706)\n",
        "\n",
        "# Preprocesador para datos numéricos: imputación con la mediana + escalado robusto\n",
        "num_transformer = Pipeline([\n",
        "    ('imputer', SimpleImputer(strategy='mean')),\n",
        "    ('scaler', RobustScaler())\n",
        "])\n",
        "\n",
        "# Preprocesador para datos categóricos: OneHotEncoding\n",
        "cat_transformer = Pipeline([\n",
        "    ('encoder', OneHotEncoder(handle_unknown='ignore'))\n",
        "])\n",
        "\n",
        "# Combinar ambos en un ColumnTransformer\n",
        "preprocessor = ColumnTransformer([\n",
        "    ('num', num_transformer, numerical_vars),\n",
        "    ('cat', cat_transformer, categorical_vars)\n",
        "])\n",
        "\n",
        "# Pipeline final con preprocesamiento y modelo de regresión lineal con regularización L1 (penalty='l1')\n",
        "L1_pipe = Pipeline([\n",
        "    ('preprocessor', preprocessor),\n",
        "    ('clasiffier', LogisticRegression(penalty='l1', solver='liblinear'))\n",
        "])\n",
        "\n",
        "# Medimos el tiempo de entrenamiento\n",
        "start_time_L1 = time.time()\n",
        "scores_L1 = cross_val_score(L1_pipe, X_train, y_train, scoring='balanced_accuracy', cv=cv, error_score='raise')\n",
        "end_time_L1 = time.time()\n",
        "training_time_L1 = end_time_L1 - start_time_L1\n",
        "\n",
        "# Imprimimos los resultados del cross-validation y el tiempo\n",
        "print(f\"\\033[1mEvaluación del modelo de regresión lineal con regularización L1\\033[0m\")\n",
        "print(f\"Todos los accuracies son: {scores_L1}\")\n",
        "print(f\"La precisión promedio de la validación cruzada es: {scores_L1.mean():.2f} ± {scores_L1.std():.2f}\")\n",
        "print(f\"El tiempo de entrenamiento es de {training_time_L1:.2f} segundos\")"
      ],
      "metadata": {
        "colab": {
          "base_uri": "https://localhost:8080/"
        },
        "outputId": "ac18acc5-f034-4713-c0a6-4126b5f696f4",
        "id": "vc_qSSVm31sp"
      },
      "execution_count": null,
      "outputs": [
        {
          "output_type": "stream",
          "name": "stdout",
          "text": [
            "\u001b[1mEvaluación del modelo de regresión lineal con regularización L1\u001b[0m\n",
            "Todos los accuracies son: [0.60606321 0.6048488  0.60738617]\n",
            "La precisión promedio de la validación cruzada es: 0.61 ± 0.00\n",
            "El tiempo de entrenamiento es de 0.53 segundos\n"
          ]
        }
      ]
    },
    {
      "cell_type": "markdown",
      "source": [
        "###**5.1.c SVMs**"
      ],
      "metadata": {
        "id": "tyz_J0mo5bgL"
      }
    },
    {
      "cell_type": "code",
      "source": [
        "# Evaluación con validación cruzada para encontrar el mejor accuracy\n",
        "cv = StratifiedKFold(n_splits=3, shuffle=True, random_state=100477706)\n",
        "\n",
        "# Preprocesador para datos numéricos: imputación con la mediana + escalado robusto\n",
        "num_transformer = Pipeline([\n",
        "    ('imputer', SimpleImputer(strategy='mean')),\n",
        "    ('scaler', RobustScaler())\n",
        "])\n",
        "\n",
        "# Preprocesador para datos categóricos: OneHotEncoding\n",
        "cat_transformer = Pipeline([\n",
        "    ('encoder', OneHotEncoder(handle_unknown='ignore'))\n",
        "])\n",
        "\n",
        "# Combinar ambos en un ColumnTransformer\n",
        "preprocessor = ColumnTransformer([\n",
        "    ('num', num_transformer, numerical_vars),\n",
        "    ('cat', cat_transformer, categorical_vars)\n",
        "])\n",
        "\n",
        "# Pipeline final con preprocesamiento y la SVM\n",
        "svc_pipe = Pipeline([\n",
        "    ('preprocessor', preprocessor),\n",
        "    ('clasiffier', SVC())\n",
        "])\n",
        "\n",
        "# Medimos el tiempo de entrenamiento\n",
        "start_time_svc = time.time()\n",
        "scores_svc = cross_val_score(svc_pipe, X_train, y_train, scoring='balanced_accuracy', cv=cv, error_score='raise')\n",
        "end_time_svc = time.time()\n",
        "training_time_svc = end_time_svc - start_time_svc\n",
        "\n",
        "# Imprimimos los resultados del cross-validation y el tiempo\n",
        "print(f\"\\033[1mEvaluación de la SVM\\033[0m\")\n",
        "print(f\"Todos los accuracies son: {scores_svc}\")\n",
        "print(f\"La precisión promedio de la validación cruzada es: {scores_svc.mean():.2f} ± {scores_svc.std():.2f}\")\n",
        "print(f\"El tiempo de entrenamiento es de {training_time_svc:.2f} segundos\")"
      ],
      "metadata": {
        "colab": {
          "base_uri": "https://localhost:8080/"
        },
        "outputId": "c47d7275-8ac4-49cc-a03c-285b35de9c43",
        "id": "9QEjtpie547e"
      },
      "execution_count": null,
      "outputs": [
        {
          "output_type": "stream",
          "name": "stdout",
          "text": [
            "\u001b[1mEvaluación de la SVM\u001b[0m\n",
            "Todos los accuracies son: [0.60955791 0.59361314 0.6086114 ]\n",
            "La precisión promedio de la validación cruzada es: 0.60 ± 0.01\n",
            "El tiempo de entrenamiento es de 0.61 segundos\n"
          ]
        }
      ]
    },
    {
      "cell_type": "markdown",
      "source": [
        "# **ANEXO: DECLARACIÓN DE USO DE IA**"
      ],
      "metadata": {
        "id": "2QvMooWkbsve"
      }
    },
    {
      "cell_type": "markdown",
      "source": [
        "Para esta labor se utilizó la Inteligencia Artificial para la realización de las representaciones gráficas referentes a la comparación de los resultados obtenidos en la optimización de hiperparámetros con respecto a los datos de omisión de hiperparámetros. En esa misma línea se utilizaron para el gráfico que representa la modificación dos hiperparámetros al mismo tiempo, como en el caso de los árboles de decisión."
      ],
      "metadata": {
        "id": "4jVTloCDb5gA"
      }
    }
  ]
}