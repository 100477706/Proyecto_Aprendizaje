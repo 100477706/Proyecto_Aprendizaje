{
  "nbformat": 4,
  "nbformat_minor": 0,
  "metadata": {
    "colab": {
      "provenance": [],
      "toc_visible": true,
      "include_colab_link": true
    },
    "kernelspec": {
      "name": "python3",
      "display_name": "Python 3"
    },
    "language_info": {
      "name": "python"
    }
  },
  "cells": [
    {
      "cell_type": "markdown",
      "metadata": {
        "id": "view-in-github",
        "colab_type": "text"
      },
      "source": [
        "<a href=\"https://colab.research.google.com/github/100477706/Proyecto_Aprendizaje/blob/main/predicciones.ipynb\" target=\"_parent\"><img src=\"https://colab.research.google.com/assets/colab-badge.svg\" alt=\"Open In Colab\"/></a>"
      ]
    },
    {
      "cell_type": "markdown",
      "source": [
        "# **0. IDENTIFICACIÓN DE ESTUDIANTES**"
      ],
      "metadata": {
        "id": "tLbz2k0luldN"
      }
    },
    {
      "cell_type": "markdown",
      "source": [
        "**Grupo de Trabajo**: 27\n",
        "\n",
        "Gabriel José Rivera Amor - 100477706@alumnos.uc3m.es\n",
        "\n",
        "Santiago José Díaz Rodríguez - 100479095@alumnos.uc3m.es"
      ],
      "metadata": {
        "id": "lyywb4iZutrG"
      }
    },
    {
      "cell_type": "markdown",
      "source": [
        "# **1. CARGA DE DATOS**"
      ],
      "metadata": {
        "id": "VsFQb7K87--1"
      }
    },
    {
      "cell_type": "markdown",
      "source": [
        "Mediante este apartado realizamos la carga de datos al Google Collab teniendo en cuenta que en cada ingreso a la aplicación se debe realizar la carga del dataset.\n",
        "\n",
        "En este apartado se descomprime el archivo que se ha subido y se muestran los datos por pantalla."
      ],
      "metadata": {
        "id": "kGkSuHrw8X-b"
      }
    },
    {
      "cell_type": "code",
      "source": [
        "!ls"
      ],
      "metadata": {
        "colab": {
          "base_uri": "https://localhost:8080/"
        },
        "id": "e1Rosui8-Xxz",
        "outputId": "5bb5cc29-bb7b-4dad-d669-77c7def01782"
      },
      "execution_count": null,
      "outputs": [
        {
          "output_type": "stream",
          "name": "stdout",
          "text": [
            "attrition_availabledata_06.csv.gz  sample_data\n"
          ]
        }
      ]
    },
    {
      "cell_type": "code",
      "source": [
        "import pandas as pd\n",
        "import matplotlib.pyplot as plt\n",
        "import seaborn as sns\n",
        "from sklearn.model_selection import train_test_split, StratifiedKFold, cross_val_score\n",
        "from sklearn.metrics import balanced_accuracy_score, confusion_matrix, accuracy_score, recall_score\n",
        "from sklearn.tree import DecisionTreeClassifier\n",
        "from sklearn.neighbors import KNeighborsClassifier\n",
        "from sklearn.preprocessing import MinMaxScaler, StandardScaler, RobustScaler, OneHotEncoder\n",
        "from sklearn.impute import SimpleImputer\n",
        "from sklearn.pipeline import Pipeline\n",
        "from sklearn import tree\n",
        "import numpy as np\n",
        "import time"
      ],
      "metadata": {
        "id": "temLwOfbV6aV"
      },
      "execution_count": 60,
      "outputs": []
    },
    {
      "cell_type": "code",
      "execution_count": null,
      "metadata": {
        "id": "I4HtGQpt-rIO",
        "colab": {
          "base_uri": "https://localhost:8080/",
          "height": 325
        },
        "outputId": "6421b175-1dc8-4354-c9b7-3530d5b2becb"
      },
      "outputs": [
        {
          "output_type": "execute_result",
          "data": {
            "text/plain": [
              "        hrs  absences  JobInvolvement  PerformanceRating  \\\n",
              "0  5.896431         5               3                  3   \n",
              "1  6.114877        19               3                  3   \n",
              "2  6.396730        11               3                  3   \n",
              "3  5.722452        22               4                  3   \n",
              "4  5.663001        21               3                  3   \n",
              "\n",
              "   EnvironmentSatisfaction  JobSatisfaction  WorkLifeBalance  Age  \\\n",
              "0                      2.0              4.0              3.0   33   \n",
              "1                      3.0              3.0              3.0   20   \n",
              "2                      1.0              4.0              4.0   46   \n",
              "3                      1.0              1.0              4.0   40   \n",
              "4                      4.0              4.0              3.0   38   \n",
              "\n",
              "      BusinessTravel              Department  ...  Over18  PercentSalaryHike  \\\n",
              "0      Travel_Rarely  Research & Development  ...       Y                 13   \n",
              "1      Travel_Rarely  Research & Development  ...       Y                 13   \n",
              "2      Travel_Rarely  Research & Development  ...       Y                 11   \n",
              "3      Travel_Rarely                   Sales  ...       Y                 13   \n",
              "4  Travel_Frequently  Research & Development  ...       Y                 17   \n",
              "\n",
              "  StandardHours  StockOptionLevel  TotalWorkingYears TrainingTimesLastYear  \\\n",
              "0             8                 0                6.0                     3   \n",
              "1             8                 1                2.0                     2   \n",
              "2             8                 1               28.0                     2   \n",
              "3             8                 1                9.0                     2   \n",
              "4             8                 3               10.0                     2   \n",
              "\n",
              "   YearsAtCompany YearsSinceLastPromotion YearsWithCurrManager  Attrition  \n",
              "0               5                       1                    4         No  \n",
              "1               2                       2                    2         No  \n",
              "2               7                       4                    3        Yes  \n",
              "3               8                       7                    1         No  \n",
              "4              10                       9                    9         No  \n",
              "\n",
              "[5 rows x 31 columns]"
            ],
            "text/html": [
              "\n",
              "  <div id=\"df-a40f1e31-585f-4fcd-86e8-047a1cbf88d4\" class=\"colab-df-container\">\n",
              "    <div>\n",
              "<style scoped>\n",
              "    .dataframe tbody tr th:only-of-type {\n",
              "        vertical-align: middle;\n",
              "    }\n",
              "\n",
              "    .dataframe tbody tr th {\n",
              "        vertical-align: top;\n",
              "    }\n",
              "\n",
              "    .dataframe thead th {\n",
              "        text-align: right;\n",
              "    }\n",
              "</style>\n",
              "<table border=\"1\" class=\"dataframe\">\n",
              "  <thead>\n",
              "    <tr style=\"text-align: right;\">\n",
              "      <th></th>\n",
              "      <th>hrs</th>\n",
              "      <th>absences</th>\n",
              "      <th>JobInvolvement</th>\n",
              "      <th>PerformanceRating</th>\n",
              "      <th>EnvironmentSatisfaction</th>\n",
              "      <th>JobSatisfaction</th>\n",
              "      <th>WorkLifeBalance</th>\n",
              "      <th>Age</th>\n",
              "      <th>BusinessTravel</th>\n",
              "      <th>Department</th>\n",
              "      <th>...</th>\n",
              "      <th>Over18</th>\n",
              "      <th>PercentSalaryHike</th>\n",
              "      <th>StandardHours</th>\n",
              "      <th>StockOptionLevel</th>\n",
              "      <th>TotalWorkingYears</th>\n",
              "      <th>TrainingTimesLastYear</th>\n",
              "      <th>YearsAtCompany</th>\n",
              "      <th>YearsSinceLastPromotion</th>\n",
              "      <th>YearsWithCurrManager</th>\n",
              "      <th>Attrition</th>\n",
              "    </tr>\n",
              "  </thead>\n",
              "  <tbody>\n",
              "    <tr>\n",
              "      <th>0</th>\n",
              "      <td>5.896431</td>\n",
              "      <td>5</td>\n",
              "      <td>3</td>\n",
              "      <td>3</td>\n",
              "      <td>2.0</td>\n",
              "      <td>4.0</td>\n",
              "      <td>3.0</td>\n",
              "      <td>33</td>\n",
              "      <td>Travel_Rarely</td>\n",
              "      <td>Research &amp; Development</td>\n",
              "      <td>...</td>\n",
              "      <td>Y</td>\n",
              "      <td>13</td>\n",
              "      <td>8</td>\n",
              "      <td>0</td>\n",
              "      <td>6.0</td>\n",
              "      <td>3</td>\n",
              "      <td>5</td>\n",
              "      <td>1</td>\n",
              "      <td>4</td>\n",
              "      <td>No</td>\n",
              "    </tr>\n",
              "    <tr>\n",
              "      <th>1</th>\n",
              "      <td>6.114877</td>\n",
              "      <td>19</td>\n",
              "      <td>3</td>\n",
              "      <td>3</td>\n",
              "      <td>3.0</td>\n",
              "      <td>3.0</td>\n",
              "      <td>3.0</td>\n",
              "      <td>20</td>\n",
              "      <td>Travel_Rarely</td>\n",
              "      <td>Research &amp; Development</td>\n",
              "      <td>...</td>\n",
              "      <td>Y</td>\n",
              "      <td>13</td>\n",
              "      <td>8</td>\n",
              "      <td>1</td>\n",
              "      <td>2.0</td>\n",
              "      <td>2</td>\n",
              "      <td>2</td>\n",
              "      <td>2</td>\n",
              "      <td>2</td>\n",
              "      <td>No</td>\n",
              "    </tr>\n",
              "    <tr>\n",
              "      <th>2</th>\n",
              "      <td>6.396730</td>\n",
              "      <td>11</td>\n",
              "      <td>3</td>\n",
              "      <td>3</td>\n",
              "      <td>1.0</td>\n",
              "      <td>4.0</td>\n",
              "      <td>4.0</td>\n",
              "      <td>46</td>\n",
              "      <td>Travel_Rarely</td>\n",
              "      <td>Research &amp; Development</td>\n",
              "      <td>...</td>\n",
              "      <td>Y</td>\n",
              "      <td>11</td>\n",
              "      <td>8</td>\n",
              "      <td>1</td>\n",
              "      <td>28.0</td>\n",
              "      <td>2</td>\n",
              "      <td>7</td>\n",
              "      <td>4</td>\n",
              "      <td>3</td>\n",
              "      <td>Yes</td>\n",
              "    </tr>\n",
              "    <tr>\n",
              "      <th>3</th>\n",
              "      <td>5.722452</td>\n",
              "      <td>22</td>\n",
              "      <td>4</td>\n",
              "      <td>3</td>\n",
              "      <td>1.0</td>\n",
              "      <td>1.0</td>\n",
              "      <td>4.0</td>\n",
              "      <td>40</td>\n",
              "      <td>Travel_Rarely</td>\n",
              "      <td>Sales</td>\n",
              "      <td>...</td>\n",
              "      <td>Y</td>\n",
              "      <td>13</td>\n",
              "      <td>8</td>\n",
              "      <td>1</td>\n",
              "      <td>9.0</td>\n",
              "      <td>2</td>\n",
              "      <td>8</td>\n",
              "      <td>7</td>\n",
              "      <td>1</td>\n",
              "      <td>No</td>\n",
              "    </tr>\n",
              "    <tr>\n",
              "      <th>4</th>\n",
              "      <td>5.663001</td>\n",
              "      <td>21</td>\n",
              "      <td>3</td>\n",
              "      <td>3</td>\n",
              "      <td>4.0</td>\n",
              "      <td>4.0</td>\n",
              "      <td>3.0</td>\n",
              "      <td>38</td>\n",
              "      <td>Travel_Frequently</td>\n",
              "      <td>Research &amp; Development</td>\n",
              "      <td>...</td>\n",
              "      <td>Y</td>\n",
              "      <td>17</td>\n",
              "      <td>8</td>\n",
              "      <td>3</td>\n",
              "      <td>10.0</td>\n",
              "      <td>2</td>\n",
              "      <td>10</td>\n",
              "      <td>9</td>\n",
              "      <td>9</td>\n",
              "      <td>No</td>\n",
              "    </tr>\n",
              "  </tbody>\n",
              "</table>\n",
              "<p>5 rows × 31 columns</p>\n",
              "</div>\n",
              "    <div class=\"colab-df-buttons\">\n",
              "\n",
              "  <div class=\"colab-df-container\">\n",
              "    <button class=\"colab-df-convert\" onclick=\"convertToInteractive('df-a40f1e31-585f-4fcd-86e8-047a1cbf88d4')\"\n",
              "            title=\"Convert this dataframe to an interactive table.\"\n",
              "            style=\"display:none;\">\n",
              "\n",
              "  <svg xmlns=\"http://www.w3.org/2000/svg\" height=\"24px\" viewBox=\"0 -960 960 960\">\n",
              "    <path d=\"M120-120v-720h720v720H120Zm60-500h600v-160H180v160Zm220 220h160v-160H400v160Zm0 220h160v-160H400v160ZM180-400h160v-160H180v160Zm440 0h160v-160H620v160ZM180-180h160v-160H180v160Zm440 0h160v-160H620v160Z\"/>\n",
              "  </svg>\n",
              "    </button>\n",
              "\n",
              "  <style>\n",
              "    .colab-df-container {\n",
              "      display:flex;\n",
              "      gap: 12px;\n",
              "    }\n",
              "\n",
              "    .colab-df-convert {\n",
              "      background-color: #E8F0FE;\n",
              "      border: none;\n",
              "      border-radius: 50%;\n",
              "      cursor: pointer;\n",
              "      display: none;\n",
              "      fill: #1967D2;\n",
              "      height: 32px;\n",
              "      padding: 0 0 0 0;\n",
              "      width: 32px;\n",
              "    }\n",
              "\n",
              "    .colab-df-convert:hover {\n",
              "      background-color: #E2EBFA;\n",
              "      box-shadow: 0px 1px 2px rgba(60, 64, 67, 0.3), 0px 1px 3px 1px rgba(60, 64, 67, 0.15);\n",
              "      fill: #174EA6;\n",
              "    }\n",
              "\n",
              "    .colab-df-buttons div {\n",
              "      margin-bottom: 4px;\n",
              "    }\n",
              "\n",
              "    [theme=dark] .colab-df-convert {\n",
              "      background-color: #3B4455;\n",
              "      fill: #D2E3FC;\n",
              "    }\n",
              "\n",
              "    [theme=dark] .colab-df-convert:hover {\n",
              "      background-color: #434B5C;\n",
              "      box-shadow: 0px 1px 3px 1px rgba(0, 0, 0, 0.15);\n",
              "      filter: drop-shadow(0px 1px 2px rgba(0, 0, 0, 0.3));\n",
              "      fill: #FFFFFF;\n",
              "    }\n",
              "  </style>\n",
              "\n",
              "    <script>\n",
              "      const buttonEl =\n",
              "        document.querySelector('#df-a40f1e31-585f-4fcd-86e8-047a1cbf88d4 button.colab-df-convert');\n",
              "      buttonEl.style.display =\n",
              "        google.colab.kernel.accessAllowed ? 'block' : 'none';\n",
              "\n",
              "      async function convertToInteractive(key) {\n",
              "        const element = document.querySelector('#df-a40f1e31-585f-4fcd-86e8-047a1cbf88d4');\n",
              "        const dataTable =\n",
              "          await google.colab.kernel.invokeFunction('convertToInteractive',\n",
              "                                                    [key], {});\n",
              "        if (!dataTable) return;\n",
              "\n",
              "        const docLinkHtml = 'Like what you see? Visit the ' +\n",
              "          '<a target=\"_blank\" href=https://colab.research.google.com/notebooks/data_table.ipynb>data table notebook</a>'\n",
              "          + ' to learn more about interactive tables.';\n",
              "        element.innerHTML = '';\n",
              "        dataTable['output_type'] = 'display_data';\n",
              "        await google.colab.output.renderOutput(dataTable, element);\n",
              "        const docLink = document.createElement('div');\n",
              "        docLink.innerHTML = docLinkHtml;\n",
              "        element.appendChild(docLink);\n",
              "      }\n",
              "    </script>\n",
              "  </div>\n",
              "\n",
              "\n",
              "<div id=\"df-6d33b9f4-1e87-4c8e-ad4a-58c438ff3377\">\n",
              "  <button class=\"colab-df-quickchart\" onclick=\"quickchart('df-6d33b9f4-1e87-4c8e-ad4a-58c438ff3377')\"\n",
              "            title=\"Suggest charts\"\n",
              "            style=\"display:none;\">\n",
              "\n",
              "<svg xmlns=\"http://www.w3.org/2000/svg\" height=\"24px\"viewBox=\"0 0 24 24\"\n",
              "     width=\"24px\">\n",
              "    <g>\n",
              "        <path d=\"M19 3H5c-1.1 0-2 .9-2 2v14c0 1.1.9 2 2 2h14c1.1 0 2-.9 2-2V5c0-1.1-.9-2-2-2zM9 17H7v-7h2v7zm4 0h-2V7h2v10zm4 0h-2v-4h2v4z\"/>\n",
              "    </g>\n",
              "</svg>\n",
              "  </button>\n",
              "\n",
              "<style>\n",
              "  .colab-df-quickchart {\n",
              "      --bg-color: #E8F0FE;\n",
              "      --fill-color: #1967D2;\n",
              "      --hover-bg-color: #E2EBFA;\n",
              "      --hover-fill-color: #174EA6;\n",
              "      --disabled-fill-color: #AAA;\n",
              "      --disabled-bg-color: #DDD;\n",
              "  }\n",
              "\n",
              "  [theme=dark] .colab-df-quickchart {\n",
              "      --bg-color: #3B4455;\n",
              "      --fill-color: #D2E3FC;\n",
              "      --hover-bg-color: #434B5C;\n",
              "      --hover-fill-color: #FFFFFF;\n",
              "      --disabled-bg-color: #3B4455;\n",
              "      --disabled-fill-color: #666;\n",
              "  }\n",
              "\n",
              "  .colab-df-quickchart {\n",
              "    background-color: var(--bg-color);\n",
              "    border: none;\n",
              "    border-radius: 50%;\n",
              "    cursor: pointer;\n",
              "    display: none;\n",
              "    fill: var(--fill-color);\n",
              "    height: 32px;\n",
              "    padding: 0;\n",
              "    width: 32px;\n",
              "  }\n",
              "\n",
              "  .colab-df-quickchart:hover {\n",
              "    background-color: var(--hover-bg-color);\n",
              "    box-shadow: 0 1px 2px rgba(60, 64, 67, 0.3), 0 1px 3px 1px rgba(60, 64, 67, 0.15);\n",
              "    fill: var(--button-hover-fill-color);\n",
              "  }\n",
              "\n",
              "  .colab-df-quickchart-complete:disabled,\n",
              "  .colab-df-quickchart-complete:disabled:hover {\n",
              "    background-color: var(--disabled-bg-color);\n",
              "    fill: var(--disabled-fill-color);\n",
              "    box-shadow: none;\n",
              "  }\n",
              "\n",
              "  .colab-df-spinner {\n",
              "    border: 2px solid var(--fill-color);\n",
              "    border-color: transparent;\n",
              "    border-bottom-color: var(--fill-color);\n",
              "    animation:\n",
              "      spin 1s steps(1) infinite;\n",
              "  }\n",
              "\n",
              "  @keyframes spin {\n",
              "    0% {\n",
              "      border-color: transparent;\n",
              "      border-bottom-color: var(--fill-color);\n",
              "      border-left-color: var(--fill-color);\n",
              "    }\n",
              "    20% {\n",
              "      border-color: transparent;\n",
              "      border-left-color: var(--fill-color);\n",
              "      border-top-color: var(--fill-color);\n",
              "    }\n",
              "    30% {\n",
              "      border-color: transparent;\n",
              "      border-left-color: var(--fill-color);\n",
              "      border-top-color: var(--fill-color);\n",
              "      border-right-color: var(--fill-color);\n",
              "    }\n",
              "    40% {\n",
              "      border-color: transparent;\n",
              "      border-right-color: var(--fill-color);\n",
              "      border-top-color: var(--fill-color);\n",
              "    }\n",
              "    60% {\n",
              "      border-color: transparent;\n",
              "      border-right-color: var(--fill-color);\n",
              "    }\n",
              "    80% {\n",
              "      border-color: transparent;\n",
              "      border-right-color: var(--fill-color);\n",
              "      border-bottom-color: var(--fill-color);\n",
              "    }\n",
              "    90% {\n",
              "      border-color: transparent;\n",
              "      border-bottom-color: var(--fill-color);\n",
              "    }\n",
              "  }\n",
              "</style>\n",
              "\n",
              "  <script>\n",
              "    async function quickchart(key) {\n",
              "      const quickchartButtonEl =\n",
              "        document.querySelector('#' + key + ' button');\n",
              "      quickchartButtonEl.disabled = true;  // To prevent multiple clicks.\n",
              "      quickchartButtonEl.classList.add('colab-df-spinner');\n",
              "      try {\n",
              "        const charts = await google.colab.kernel.invokeFunction(\n",
              "            'suggestCharts', [key], {});\n",
              "      } catch (error) {\n",
              "        console.error('Error during call to suggestCharts:', error);\n",
              "      }\n",
              "      quickchartButtonEl.classList.remove('colab-df-spinner');\n",
              "      quickchartButtonEl.classList.add('colab-df-quickchart-complete');\n",
              "    }\n",
              "    (() => {\n",
              "      let quickchartButtonEl =\n",
              "        document.querySelector('#df-6d33b9f4-1e87-4c8e-ad4a-58c438ff3377 button');\n",
              "      quickchartButtonEl.style.display =\n",
              "        google.colab.kernel.accessAllowed ? 'block' : 'none';\n",
              "    })();\n",
              "  </script>\n",
              "</div>\n",
              "\n",
              "    </div>\n",
              "  </div>\n"
            ],
            "application/vnd.google.colaboratory.intrinsic+json": {
              "type": "dataframe",
              "variable_name": "df"
            }
          },
          "metadata": {},
          "execution_count": 2
        }
      ],
      "source": [
        "df = pd.read_csv(\"attrition_availabledata_06.csv.gz\", compression=\"gzip\", sep=\",\") #subir el archivo comprimido\n",
        "df.head()"
      ]
    },
    {
      "cell_type": "markdown",
      "source": [
        "# **2. EDA**"
      ],
      "metadata": {
        "id": "xwsz0Qh19Xvv"
      }
    },
    {
      "cell_type": "markdown",
      "source": [
        "En este apartado vamos a llevar a cabo Exploratory Data Analysis (EDA), el cual nos va a ayudar a entender el conjunto de datos antes de aplicar cualquier modelo o hipótesis de prueba. El EDA nos va a permitir establecer las tendencias, correlaciones y anomalías que se pueden encontar en los datos. Con este tipo de análisis podemos determinar cuál son los métodos a implementar y cuáles son las features indicadas a utilizar y que den una información relevante al momento de evaluar el modelo a desarrollar.\n",
        "\n",
        "A continuación mostramos el contenido del archivo para verificar la cantidad de filas y columnas que tenemos, donde adicionalmente queremos verificar el tipo de datos que tenemos en nuestra base de datos. Para ello mostramos la información referente al contenido de la tabla."
      ],
      "metadata": {
        "id": "Id9UJlLoETr2"
      }
    },
    {
      "cell_type": "code",
      "source": [
        "# Información general del dataset\n",
        "print(\"\\nInformación del dataset:\")\n",
        "df.info()"
      ],
      "metadata": {
        "colab": {
          "base_uri": "https://localhost:8080/"
        },
        "id": "1tcAgrQqE991",
        "outputId": "ec238922-6e22-43b7-cb14-798e61f42e0b"
      },
      "execution_count": null,
      "outputs": [
        {
          "output_type": "stream",
          "name": "stdout",
          "text": [
            "\n",
            "Información del dataset:\n",
            "<class 'pandas.core.frame.DataFrame'>\n",
            "RangeIndex: 2940 entries, 0 to 2939\n",
            "Data columns (total 31 columns):\n",
            " #   Column                   Non-Null Count  Dtype  \n",
            "---  ------                   --------------  -----  \n",
            " 0   hrs                      2940 non-null   float64\n",
            " 1   absences                 2940 non-null   int64  \n",
            " 2   JobInvolvement           2940 non-null   int64  \n",
            " 3   PerformanceRating        2940 non-null   int64  \n",
            " 4   EnvironmentSatisfaction  2921 non-null   float64\n",
            " 5   JobSatisfaction          2928 non-null   float64\n",
            " 6   WorkLifeBalance          2913 non-null   float64\n",
            " 7   Age                      2940 non-null   int64  \n",
            " 8   BusinessTravel           2940 non-null   object \n",
            " 9   Department               2940 non-null   object \n",
            " 10  DistanceFromHome         2940 non-null   int64  \n",
            " 11  Education                2940 non-null   int64  \n",
            " 12  EducationField           2940 non-null   object \n",
            " 13  EmployeeCount            2940 non-null   int64  \n",
            " 14  EmployeeID               2940 non-null   int64  \n",
            " 15  Gender                   2940 non-null   object \n",
            " 16  JobLevel                 2940 non-null   int64  \n",
            " 17  JobRole                  2940 non-null   object \n",
            " 18  MaritalStatus            2940 non-null   object \n",
            " 19  MonthlyIncome            2940 non-null   int64  \n",
            " 20  NumCompaniesWorked       2926 non-null   float64\n",
            " 21  Over18                   2940 non-null   object \n",
            " 22  PercentSalaryHike        2940 non-null   int64  \n",
            " 23  StandardHours            2940 non-null   int64  \n",
            " 24  StockOptionLevel         2940 non-null   int64  \n",
            " 25  TotalWorkingYears        2936 non-null   float64\n",
            " 26  TrainingTimesLastYear    2940 non-null   int64  \n",
            " 27  YearsAtCompany           2940 non-null   int64  \n",
            " 28  YearsSinceLastPromotion  2940 non-null   int64  \n",
            " 29  YearsWithCurrManager     2940 non-null   int64  \n",
            " 30  Attrition                2940 non-null   object \n",
            "dtypes: float64(6), int64(17), object(8)\n",
            "memory usage: 712.2+ KB\n"
          ]
        }
      ]
    },
    {
      "cell_type": "markdown",
      "source": [
        "A continuación utilizamos la función de descripción del dataset para que por cada una de las features (Columnas), podamos obtener valores estadísticos que nos permiten describir la función sabiendo los valores medios, la desviación y el cómo se distribuye los datos por cada feature. Adicionalmente es útil para el Exploratory Data Analysis (EDA), ya que nos ayuda a comprender las características de los datos antes de implementar el modelo."
      ],
      "metadata": {
        "id": "Z5bjwPIcoTBp"
      }
    },
    {
      "cell_type": "code",
      "source": [
        "# Información total del dataset\n",
        "print(\"\\nContenido del Dataset:\")\n",
        "df.describe()"
      ],
      "metadata": {
        "colab": {
          "base_uri": "https://localhost:8080/",
          "height": 384
        },
        "id": "nBGTdeCDFo5g",
        "outputId": "8ba75e6a-bb22-4673-d840-1d682a575f82"
      },
      "execution_count": null,
      "outputs": [
        {
          "output_type": "stream",
          "name": "stdout",
          "text": [
            "\n",
            "Contenido del Dataset:\n"
          ]
        },
        {
          "output_type": "execute_result",
          "data": {
            "text/plain": [
              "               hrs     absences  JobInvolvement  PerformanceRating  \\\n",
              "count  2940.000000  2940.000000     2940.000000        2940.000000   \n",
              "mean      7.311828    12.688095        2.734014           3.156463   \n",
              "std       1.340066     5.494808        0.714883           0.363355   \n",
              "min       5.416880     1.000000        1.000000           3.000000   \n",
              "25%       6.262869     8.000000        2.000000           3.000000   \n",
              "50%       6.997414    13.000000        3.000000           3.000000   \n",
              "75%       7.896439    17.000000        3.000000           3.000000   \n",
              "max      10.937261    24.000000        4.000000           4.000000   \n",
              "\n",
              "       EnvironmentSatisfaction  JobSatisfaction  WorkLifeBalance          Age  \\\n",
              "count              2921.000000      2928.000000      2913.000000  2940.000000   \n",
              "mean                  2.716878         2.705601         2.766564    36.959864   \n",
              "std                   1.090252         1.098222         0.703519     9.137364   \n",
              "min                   1.000000         1.000000         1.000000    18.000000   \n",
              "25%                   2.000000         2.000000         2.000000    30.000000   \n",
              "50%                   3.000000         3.000000         3.000000    36.000000   \n",
              "75%                   4.000000         4.000000         3.000000    43.000000   \n",
              "max                   4.000000         4.000000         4.000000    60.000000   \n",
              "\n",
              "       DistanceFromHome    Education  ...  MonthlyIncome  NumCompaniesWorked  \\\n",
              "count       2940.000000  2940.000000  ...    2940.000000         2926.000000   \n",
              "mean           9.271088     2.909864  ...   64855.948980            2.713260   \n",
              "std            8.113162     1.024888  ...   46800.380469            2.493371   \n",
              "min            1.000000     1.000000  ...   10090.000000            0.000000   \n",
              "25%            2.000000     2.000000  ...   29405.000000            1.000000   \n",
              "50%            7.000000     3.000000  ...   49070.000000            2.000000   \n",
              "75%           14.000000     4.000000  ...   82240.000000            4.000000   \n",
              "max           29.000000     5.000000  ...  199990.000000            9.000000   \n",
              "\n",
              "       PercentSalaryHike  StandardHours  StockOptionLevel  TotalWorkingYears  \\\n",
              "count        2940.000000         2940.0       2940.000000        2936.000000   \n",
              "mean           15.256463            8.0          0.803741          11.469005   \n",
              "std             3.652041            0.0          0.858827           7.837689   \n",
              "min            11.000000            8.0          0.000000           0.000000   \n",
              "25%            12.000000            8.0          0.000000           6.000000   \n",
              "50%            14.000000            8.0          1.000000          10.000000   \n",
              "75%            18.000000            8.0          1.000000          16.000000   \n",
              "max            25.000000            8.0          3.000000          40.000000   \n",
              "\n",
              "       TrainingTimesLastYear  YearsAtCompany  YearsSinceLastPromotion  \\\n",
              "count            2940.000000     2940.000000              2940.000000   \n",
              "mean                2.789456        7.042177                 2.215986   \n",
              "std                 1.279125        6.125843                 3.269241   \n",
              "min                 0.000000        0.000000                 0.000000   \n",
              "25%                 2.000000        3.000000                 0.000000   \n",
              "50%                 3.000000        5.000000                 1.000000   \n",
              "75%                 3.000000       10.000000                 3.000000   \n",
              "max                 6.000000       40.000000                15.000000   \n",
              "\n",
              "       YearsWithCurrManager  \n",
              "count           2940.000000  \n",
              "mean               4.117347  \n",
              "std                3.563764  \n",
              "min                0.000000  \n",
              "25%                2.000000  \n",
              "50%                3.000000  \n",
              "75%                7.000000  \n",
              "max               17.000000  \n",
              "\n",
              "[8 rows x 23 columns]"
            ],
            "text/html": [
              "\n",
              "  <div id=\"df-4795dba7-1110-487e-90c1-71d9564a9dfc\" class=\"colab-df-container\">\n",
              "    <div>\n",
              "<style scoped>\n",
              "    .dataframe tbody tr th:only-of-type {\n",
              "        vertical-align: middle;\n",
              "    }\n",
              "\n",
              "    .dataframe tbody tr th {\n",
              "        vertical-align: top;\n",
              "    }\n",
              "\n",
              "    .dataframe thead th {\n",
              "        text-align: right;\n",
              "    }\n",
              "</style>\n",
              "<table border=\"1\" class=\"dataframe\">\n",
              "  <thead>\n",
              "    <tr style=\"text-align: right;\">\n",
              "      <th></th>\n",
              "      <th>hrs</th>\n",
              "      <th>absences</th>\n",
              "      <th>JobInvolvement</th>\n",
              "      <th>PerformanceRating</th>\n",
              "      <th>EnvironmentSatisfaction</th>\n",
              "      <th>JobSatisfaction</th>\n",
              "      <th>WorkLifeBalance</th>\n",
              "      <th>Age</th>\n",
              "      <th>DistanceFromHome</th>\n",
              "      <th>Education</th>\n",
              "      <th>...</th>\n",
              "      <th>MonthlyIncome</th>\n",
              "      <th>NumCompaniesWorked</th>\n",
              "      <th>PercentSalaryHike</th>\n",
              "      <th>StandardHours</th>\n",
              "      <th>StockOptionLevel</th>\n",
              "      <th>TotalWorkingYears</th>\n",
              "      <th>TrainingTimesLastYear</th>\n",
              "      <th>YearsAtCompany</th>\n",
              "      <th>YearsSinceLastPromotion</th>\n",
              "      <th>YearsWithCurrManager</th>\n",
              "    </tr>\n",
              "  </thead>\n",
              "  <tbody>\n",
              "    <tr>\n",
              "      <th>count</th>\n",
              "      <td>2940.000000</td>\n",
              "      <td>2940.000000</td>\n",
              "      <td>2940.000000</td>\n",
              "      <td>2940.000000</td>\n",
              "      <td>2921.000000</td>\n",
              "      <td>2928.000000</td>\n",
              "      <td>2913.000000</td>\n",
              "      <td>2940.000000</td>\n",
              "      <td>2940.000000</td>\n",
              "      <td>2940.000000</td>\n",
              "      <td>...</td>\n",
              "      <td>2940.000000</td>\n",
              "      <td>2926.000000</td>\n",
              "      <td>2940.000000</td>\n",
              "      <td>2940.0</td>\n",
              "      <td>2940.000000</td>\n",
              "      <td>2936.000000</td>\n",
              "      <td>2940.000000</td>\n",
              "      <td>2940.000000</td>\n",
              "      <td>2940.000000</td>\n",
              "      <td>2940.000000</td>\n",
              "    </tr>\n",
              "    <tr>\n",
              "      <th>mean</th>\n",
              "      <td>7.311828</td>\n",
              "      <td>12.688095</td>\n",
              "      <td>2.734014</td>\n",
              "      <td>3.156463</td>\n",
              "      <td>2.716878</td>\n",
              "      <td>2.705601</td>\n",
              "      <td>2.766564</td>\n",
              "      <td>36.959864</td>\n",
              "      <td>9.271088</td>\n",
              "      <td>2.909864</td>\n",
              "      <td>...</td>\n",
              "      <td>64855.948980</td>\n",
              "      <td>2.713260</td>\n",
              "      <td>15.256463</td>\n",
              "      <td>8.0</td>\n",
              "      <td>0.803741</td>\n",
              "      <td>11.469005</td>\n",
              "      <td>2.789456</td>\n",
              "      <td>7.042177</td>\n",
              "      <td>2.215986</td>\n",
              "      <td>4.117347</td>\n",
              "    </tr>\n",
              "    <tr>\n",
              "      <th>std</th>\n",
              "      <td>1.340066</td>\n",
              "      <td>5.494808</td>\n",
              "      <td>0.714883</td>\n",
              "      <td>0.363355</td>\n",
              "      <td>1.090252</td>\n",
              "      <td>1.098222</td>\n",
              "      <td>0.703519</td>\n",
              "      <td>9.137364</td>\n",
              "      <td>8.113162</td>\n",
              "      <td>1.024888</td>\n",
              "      <td>...</td>\n",
              "      <td>46800.380469</td>\n",
              "      <td>2.493371</td>\n",
              "      <td>3.652041</td>\n",
              "      <td>0.0</td>\n",
              "      <td>0.858827</td>\n",
              "      <td>7.837689</td>\n",
              "      <td>1.279125</td>\n",
              "      <td>6.125843</td>\n",
              "      <td>3.269241</td>\n",
              "      <td>3.563764</td>\n",
              "    </tr>\n",
              "    <tr>\n",
              "      <th>min</th>\n",
              "      <td>5.416880</td>\n",
              "      <td>1.000000</td>\n",
              "      <td>1.000000</td>\n",
              "      <td>3.000000</td>\n",
              "      <td>1.000000</td>\n",
              "      <td>1.000000</td>\n",
              "      <td>1.000000</td>\n",
              "      <td>18.000000</td>\n",
              "      <td>1.000000</td>\n",
              "      <td>1.000000</td>\n",
              "      <td>...</td>\n",
              "      <td>10090.000000</td>\n",
              "      <td>0.000000</td>\n",
              "      <td>11.000000</td>\n",
              "      <td>8.0</td>\n",
              "      <td>0.000000</td>\n",
              "      <td>0.000000</td>\n",
              "      <td>0.000000</td>\n",
              "      <td>0.000000</td>\n",
              "      <td>0.000000</td>\n",
              "      <td>0.000000</td>\n",
              "    </tr>\n",
              "    <tr>\n",
              "      <th>25%</th>\n",
              "      <td>6.262869</td>\n",
              "      <td>8.000000</td>\n",
              "      <td>2.000000</td>\n",
              "      <td>3.000000</td>\n",
              "      <td>2.000000</td>\n",
              "      <td>2.000000</td>\n",
              "      <td>2.000000</td>\n",
              "      <td>30.000000</td>\n",
              "      <td>2.000000</td>\n",
              "      <td>2.000000</td>\n",
              "      <td>...</td>\n",
              "      <td>29405.000000</td>\n",
              "      <td>1.000000</td>\n",
              "      <td>12.000000</td>\n",
              "      <td>8.0</td>\n",
              "      <td>0.000000</td>\n",
              "      <td>6.000000</td>\n",
              "      <td>2.000000</td>\n",
              "      <td>3.000000</td>\n",
              "      <td>0.000000</td>\n",
              "      <td>2.000000</td>\n",
              "    </tr>\n",
              "    <tr>\n",
              "      <th>50%</th>\n",
              "      <td>6.997414</td>\n",
              "      <td>13.000000</td>\n",
              "      <td>3.000000</td>\n",
              "      <td>3.000000</td>\n",
              "      <td>3.000000</td>\n",
              "      <td>3.000000</td>\n",
              "      <td>3.000000</td>\n",
              "      <td>36.000000</td>\n",
              "      <td>7.000000</td>\n",
              "      <td>3.000000</td>\n",
              "      <td>...</td>\n",
              "      <td>49070.000000</td>\n",
              "      <td>2.000000</td>\n",
              "      <td>14.000000</td>\n",
              "      <td>8.0</td>\n",
              "      <td>1.000000</td>\n",
              "      <td>10.000000</td>\n",
              "      <td>3.000000</td>\n",
              "      <td>5.000000</td>\n",
              "      <td>1.000000</td>\n",
              "      <td>3.000000</td>\n",
              "    </tr>\n",
              "    <tr>\n",
              "      <th>75%</th>\n",
              "      <td>7.896439</td>\n",
              "      <td>17.000000</td>\n",
              "      <td>3.000000</td>\n",
              "      <td>3.000000</td>\n",
              "      <td>4.000000</td>\n",
              "      <td>4.000000</td>\n",
              "      <td>3.000000</td>\n",
              "      <td>43.000000</td>\n",
              "      <td>14.000000</td>\n",
              "      <td>4.000000</td>\n",
              "      <td>...</td>\n",
              "      <td>82240.000000</td>\n",
              "      <td>4.000000</td>\n",
              "      <td>18.000000</td>\n",
              "      <td>8.0</td>\n",
              "      <td>1.000000</td>\n",
              "      <td>16.000000</td>\n",
              "      <td>3.000000</td>\n",
              "      <td>10.000000</td>\n",
              "      <td>3.000000</td>\n",
              "      <td>7.000000</td>\n",
              "    </tr>\n",
              "    <tr>\n",
              "      <th>max</th>\n",
              "      <td>10.937261</td>\n",
              "      <td>24.000000</td>\n",
              "      <td>4.000000</td>\n",
              "      <td>4.000000</td>\n",
              "      <td>4.000000</td>\n",
              "      <td>4.000000</td>\n",
              "      <td>4.000000</td>\n",
              "      <td>60.000000</td>\n",
              "      <td>29.000000</td>\n",
              "      <td>5.000000</td>\n",
              "      <td>...</td>\n",
              "      <td>199990.000000</td>\n",
              "      <td>9.000000</td>\n",
              "      <td>25.000000</td>\n",
              "      <td>8.0</td>\n",
              "      <td>3.000000</td>\n",
              "      <td>40.000000</td>\n",
              "      <td>6.000000</td>\n",
              "      <td>40.000000</td>\n",
              "      <td>15.000000</td>\n",
              "      <td>17.000000</td>\n",
              "    </tr>\n",
              "  </tbody>\n",
              "</table>\n",
              "<p>8 rows × 23 columns</p>\n",
              "</div>\n",
              "    <div class=\"colab-df-buttons\">\n",
              "\n",
              "  <div class=\"colab-df-container\">\n",
              "    <button class=\"colab-df-convert\" onclick=\"convertToInteractive('df-4795dba7-1110-487e-90c1-71d9564a9dfc')\"\n",
              "            title=\"Convert this dataframe to an interactive table.\"\n",
              "            style=\"display:none;\">\n",
              "\n",
              "  <svg xmlns=\"http://www.w3.org/2000/svg\" height=\"24px\" viewBox=\"0 -960 960 960\">\n",
              "    <path d=\"M120-120v-720h720v720H120Zm60-500h600v-160H180v160Zm220 220h160v-160H400v160Zm0 220h160v-160H400v160ZM180-400h160v-160H180v160Zm440 0h160v-160H620v160ZM180-180h160v-160H180v160Zm440 0h160v-160H620v160Z\"/>\n",
              "  </svg>\n",
              "    </button>\n",
              "\n",
              "  <style>\n",
              "    .colab-df-container {\n",
              "      display:flex;\n",
              "      gap: 12px;\n",
              "    }\n",
              "\n",
              "    .colab-df-convert {\n",
              "      background-color: #E8F0FE;\n",
              "      border: none;\n",
              "      border-radius: 50%;\n",
              "      cursor: pointer;\n",
              "      display: none;\n",
              "      fill: #1967D2;\n",
              "      height: 32px;\n",
              "      padding: 0 0 0 0;\n",
              "      width: 32px;\n",
              "    }\n",
              "\n",
              "    .colab-df-convert:hover {\n",
              "      background-color: #E2EBFA;\n",
              "      box-shadow: 0px 1px 2px rgba(60, 64, 67, 0.3), 0px 1px 3px 1px rgba(60, 64, 67, 0.15);\n",
              "      fill: #174EA6;\n",
              "    }\n",
              "\n",
              "    .colab-df-buttons div {\n",
              "      margin-bottom: 4px;\n",
              "    }\n",
              "\n",
              "    [theme=dark] .colab-df-convert {\n",
              "      background-color: #3B4455;\n",
              "      fill: #D2E3FC;\n",
              "    }\n",
              "\n",
              "    [theme=dark] .colab-df-convert:hover {\n",
              "      background-color: #434B5C;\n",
              "      box-shadow: 0px 1px 3px 1px rgba(0, 0, 0, 0.15);\n",
              "      filter: drop-shadow(0px 1px 2px rgba(0, 0, 0, 0.3));\n",
              "      fill: #FFFFFF;\n",
              "    }\n",
              "  </style>\n",
              "\n",
              "    <script>\n",
              "      const buttonEl =\n",
              "        document.querySelector('#df-4795dba7-1110-487e-90c1-71d9564a9dfc button.colab-df-convert');\n",
              "      buttonEl.style.display =\n",
              "        google.colab.kernel.accessAllowed ? 'block' : 'none';\n",
              "\n",
              "      async function convertToInteractive(key) {\n",
              "        const element = document.querySelector('#df-4795dba7-1110-487e-90c1-71d9564a9dfc');\n",
              "        const dataTable =\n",
              "          await google.colab.kernel.invokeFunction('convertToInteractive',\n",
              "                                                    [key], {});\n",
              "        if (!dataTable) return;\n",
              "\n",
              "        const docLinkHtml = 'Like what you see? Visit the ' +\n",
              "          '<a target=\"_blank\" href=https://colab.research.google.com/notebooks/data_table.ipynb>data table notebook</a>'\n",
              "          + ' to learn more about interactive tables.';\n",
              "        element.innerHTML = '';\n",
              "        dataTable['output_type'] = 'display_data';\n",
              "        await google.colab.output.renderOutput(dataTable, element);\n",
              "        const docLink = document.createElement('div');\n",
              "        docLink.innerHTML = docLinkHtml;\n",
              "        element.appendChild(docLink);\n",
              "      }\n",
              "    </script>\n",
              "  </div>\n",
              "\n",
              "\n",
              "<div id=\"df-370abeec-f00b-4e12-94f0-4562b4a223a6\">\n",
              "  <button class=\"colab-df-quickchart\" onclick=\"quickchart('df-370abeec-f00b-4e12-94f0-4562b4a223a6')\"\n",
              "            title=\"Suggest charts\"\n",
              "            style=\"display:none;\">\n",
              "\n",
              "<svg xmlns=\"http://www.w3.org/2000/svg\" height=\"24px\"viewBox=\"0 0 24 24\"\n",
              "     width=\"24px\">\n",
              "    <g>\n",
              "        <path d=\"M19 3H5c-1.1 0-2 .9-2 2v14c0 1.1.9 2 2 2h14c1.1 0 2-.9 2-2V5c0-1.1-.9-2-2-2zM9 17H7v-7h2v7zm4 0h-2V7h2v10zm4 0h-2v-4h2v4z\"/>\n",
              "    </g>\n",
              "</svg>\n",
              "  </button>\n",
              "\n",
              "<style>\n",
              "  .colab-df-quickchart {\n",
              "      --bg-color: #E8F0FE;\n",
              "      --fill-color: #1967D2;\n",
              "      --hover-bg-color: #E2EBFA;\n",
              "      --hover-fill-color: #174EA6;\n",
              "      --disabled-fill-color: #AAA;\n",
              "      --disabled-bg-color: #DDD;\n",
              "  }\n",
              "\n",
              "  [theme=dark] .colab-df-quickchart {\n",
              "      --bg-color: #3B4455;\n",
              "      --fill-color: #D2E3FC;\n",
              "      --hover-bg-color: #434B5C;\n",
              "      --hover-fill-color: #FFFFFF;\n",
              "      --disabled-bg-color: #3B4455;\n",
              "      --disabled-fill-color: #666;\n",
              "  }\n",
              "\n",
              "  .colab-df-quickchart {\n",
              "    background-color: var(--bg-color);\n",
              "    border: none;\n",
              "    border-radius: 50%;\n",
              "    cursor: pointer;\n",
              "    display: none;\n",
              "    fill: var(--fill-color);\n",
              "    height: 32px;\n",
              "    padding: 0;\n",
              "    width: 32px;\n",
              "  }\n",
              "\n",
              "  .colab-df-quickchart:hover {\n",
              "    background-color: var(--hover-bg-color);\n",
              "    box-shadow: 0 1px 2px rgba(60, 64, 67, 0.3), 0 1px 3px 1px rgba(60, 64, 67, 0.15);\n",
              "    fill: var(--button-hover-fill-color);\n",
              "  }\n",
              "\n",
              "  .colab-df-quickchart-complete:disabled,\n",
              "  .colab-df-quickchart-complete:disabled:hover {\n",
              "    background-color: var(--disabled-bg-color);\n",
              "    fill: var(--disabled-fill-color);\n",
              "    box-shadow: none;\n",
              "  }\n",
              "\n",
              "  .colab-df-spinner {\n",
              "    border: 2px solid var(--fill-color);\n",
              "    border-color: transparent;\n",
              "    border-bottom-color: var(--fill-color);\n",
              "    animation:\n",
              "      spin 1s steps(1) infinite;\n",
              "  }\n",
              "\n",
              "  @keyframes spin {\n",
              "    0% {\n",
              "      border-color: transparent;\n",
              "      border-bottom-color: var(--fill-color);\n",
              "      border-left-color: var(--fill-color);\n",
              "    }\n",
              "    20% {\n",
              "      border-color: transparent;\n",
              "      border-left-color: var(--fill-color);\n",
              "      border-top-color: var(--fill-color);\n",
              "    }\n",
              "    30% {\n",
              "      border-color: transparent;\n",
              "      border-left-color: var(--fill-color);\n",
              "      border-top-color: var(--fill-color);\n",
              "      border-right-color: var(--fill-color);\n",
              "    }\n",
              "    40% {\n",
              "      border-color: transparent;\n",
              "      border-right-color: var(--fill-color);\n",
              "      border-top-color: var(--fill-color);\n",
              "    }\n",
              "    60% {\n",
              "      border-color: transparent;\n",
              "      border-right-color: var(--fill-color);\n",
              "    }\n",
              "    80% {\n",
              "      border-color: transparent;\n",
              "      border-right-color: var(--fill-color);\n",
              "      border-bottom-color: var(--fill-color);\n",
              "    }\n",
              "    90% {\n",
              "      border-color: transparent;\n",
              "      border-bottom-color: var(--fill-color);\n",
              "    }\n",
              "  }\n",
              "</style>\n",
              "\n",
              "  <script>\n",
              "    async function quickchart(key) {\n",
              "      const quickchartButtonEl =\n",
              "        document.querySelector('#' + key + ' button');\n",
              "      quickchartButtonEl.disabled = true;  // To prevent multiple clicks.\n",
              "      quickchartButtonEl.classList.add('colab-df-spinner');\n",
              "      try {\n",
              "        const charts = await google.colab.kernel.invokeFunction(\n",
              "            'suggestCharts', [key], {});\n",
              "      } catch (error) {\n",
              "        console.error('Error during call to suggestCharts:', error);\n",
              "      }\n",
              "      quickchartButtonEl.classList.remove('colab-df-spinner');\n",
              "      quickchartButtonEl.classList.add('colab-df-quickchart-complete');\n",
              "    }\n",
              "    (() => {\n",
              "      let quickchartButtonEl =\n",
              "        document.querySelector('#df-370abeec-f00b-4e12-94f0-4562b4a223a6 button');\n",
              "      quickchartButtonEl.style.display =\n",
              "        google.colab.kernel.accessAllowed ? 'block' : 'none';\n",
              "    })();\n",
              "  </script>\n",
              "</div>\n",
              "\n",
              "    </div>\n",
              "  </div>\n"
            ],
            "application/vnd.google.colaboratory.intrinsic+json": {
              "type": "dataframe"
            }
          },
          "metadata": {},
          "execution_count": 22
        }
      ]
    },
    {
      "cell_type": "markdown",
      "source": [
        "A continuación, procedemos con la contabilizacón de la cantidad de variables e instancias distintas que tenemos en el dataset, de tal forma de darnos una idea general de los datos con los que procederemos a trabajar."
      ],
      "metadata": {
        "id": "1qL-EUZwywyX"
      }
    },
    {
      "cell_type": "code",
      "source": [
        "# Cantidad de variables e instancias\n",
        "print(f\"\\nEl dataset tiene {df.shape[0]} instancias y {df.shape[1]} variables.\")"
      ],
      "metadata": {
        "id": "ggjkqs5lzQf4",
        "outputId": "b8a7a921-ba0e-4a39-d2a4-7d67794c8f6d",
        "colab": {
          "base_uri": "https://localhost:8080/"
        }
      },
      "execution_count": null,
      "outputs": [
        {
          "output_type": "stream",
          "name": "stdout",
          "text": [
            "\n",
            "El dataset tiene 2940 instancias y 31 variables.\n"
          ]
        }
      ]
    },
    {
      "cell_type": "markdown",
      "source": [
        "Sabiendo los datos que tenemos a disposición, entonces vamos a proceder con identificar las variables que tiene nuestro modelo, clasificándolas como categóricas o numéricas. Este proceso nos va a permitir determinar si es necesaria una estandarización, decidir cuál es el mejor modelo para evaluar los datos que se tienen y corregir las variables numéricas en el caso de tener datos erróneos."
      ],
      "metadata": {
        "id": "4HXlaLWc0lPc"
      }
    },
    {
      "cell_type": "code",
      "source": [
        "# Identificar tipos de variables\n",
        "categorical_vars = df.select_dtypes(include=['object']).columns.tolist()\n",
        "numerical_vars = df.select_dtypes(include=['int64', 'float64']).columns.tolist()\n",
        "print(f\"\\nVariables categóricas: {categorical_vars}\")\n",
        "print(f\"\\nVariables numéricas: {numerical_vars}\")"
      ],
      "metadata": {
        "id": "xpMIFIT62FV3",
        "outputId": "3126e916-bd32-4e1d-e54e-d38e118e5725",
        "colab": {
          "base_uri": "https://localhost:8080/"
        }
      },
      "execution_count": null,
      "outputs": [
        {
          "output_type": "stream",
          "name": "stdout",
          "text": [
            "\n",
            "Variables categóricas: ['BusinessTravel', 'Department', 'EducationField', 'Gender', 'JobRole', 'MaritalStatus', 'Over18', 'Attrition']\n",
            "\n",
            "Variables numéricas: ['hrs', 'absences', 'JobInvolvement', 'PerformanceRating', 'EnvironmentSatisfaction', 'JobSatisfaction', 'WorkLifeBalance', 'Age', 'DistanceFromHome', 'Education', 'EmployeeCount', 'EmployeeID', 'JobLevel', 'MonthlyIncome', 'NumCompaniesWorked', 'PercentSalaryHike', 'StandardHours', 'StockOptionLevel', 'TotalWorkingYears', 'TrainingTimesLastYear', 'YearsAtCompany', 'YearsSinceLastPromotion', 'YearsWithCurrManager']\n"
          ]
        }
      ]
    },
    {
      "cell_type": "markdown",
      "source": [
        "Sabiendo y conociendo bien los diferentes tipos de variables que tenemos presente, ahora procedemos a identificar aquellas variables categóricas que tengan una alta cardinalidad. Es importante recordar que aquellas variables que tienen una alta cardinalidad son aquellas que tienen un gran número de valores únicos y lo cual nos ayuda a conocer si es necesario hacer agrupamientos para evitar que el entrenamiento del modelo se dificulte."
      ],
      "metadata": {
        "id": "iz7AWLaj2viW"
      }
    },
    {
      "cell_type": "code",
      "source": [
        "# Identificar variables categóricas con alta cardinalidad\n",
        "high_cardinality_vars = [col for col in categorical_vars if df[col].nunique() > 10]\n",
        "print(f\"\\nVariables categóricas con alta cardinalidad: {high_cardinality_vars}\")"
      ],
      "metadata": {
        "id": "y3QIdDMg5CP1",
        "outputId": "1019d787-ba6e-48f3-eb28-2ba2de398b7e",
        "colab": {
          "base_uri": "https://localhost:8080/"
        }
      },
      "execution_count": null,
      "outputs": [
        {
          "output_type": "stream",
          "name": "stdout",
          "text": [
            "\n",
            "Variables categóricas con alta cardinalidad: []\n"
          ]
        }
      ]
    },
    {
      "cell_type": "code",
      "source": [
        "# Identificar variables numéricas con alta cardinalidad (muchos valores únicos)\n",
        "high_cardinality_numerical = [col for col in numerical_vars if df[col].nunique() > df.shape[0] * 0.9]\n",
        "print(f\"\\nVariables numéricas con alta cardinalidad: {high_cardinality_numerical}\")"
      ],
      "metadata": {
        "id": "37POVOpG6cpr",
        "outputId": "14c71456-f733-48a9-82cd-89869f4322da",
        "colab": {
          "base_uri": "https://localhost:8080/"
        }
      },
      "execution_count": null,
      "outputs": [
        {
          "output_type": "stream",
          "name": "stdout",
          "text": [
            "\n",
            "Variables numéricas con alta cardinalidad: ['hrs', 'EmployeeID']\n"
          ]
        }
      ]
    },
    {
      "cell_type": "markdown",
      "source": [
        "Posteriormente para realizar la limpieza de los datos, es necesario detectar aquellos valores que sean nulos, ya que estos pueden gerar inconvenientes al momento de hacer el entrenamiento del modelo. Luego de tener esta información, podemos decidir eliminar, imputar o gestionar dichos datos de tal forma que no generen errores al momento de contruir el modelo. Mediante la siguinte implementación, podemos conocer por cada una de las features, el número de valores nulos existentes.  "
      ],
      "metadata": {
        "id": "beZ2QWhK-Db_"
      }
    },
    {
      "cell_type": "code",
      "source": [
        "# Valores nulos\n",
        "def missing_values(df):\n",
        "    missing = df.isnull().sum()\n",
        "    missing = missing[missing > 0]\n",
        "    if not missing.empty:\n",
        "        print(\"\\nValores nulos por columna:\")\n",
        "        print(missing)\n",
        "    else:\n",
        "        print(\"\\nNo hay valores nulos en el dataset.\")\n",
        "missing_values(df)"
      ],
      "metadata": {
        "id": "eQ8jkmBl-5fR",
        "outputId": "851d6f5f-adb0-403e-a80c-3c0a3a50a190",
        "colab": {
          "base_uri": "https://localhost:8080/"
        }
      },
      "execution_count": null,
      "outputs": [
        {
          "output_type": "stream",
          "name": "stdout",
          "text": [
            "\n",
            "Valores nulos por columna:\n",
            "EnvironmentSatisfaction    19\n",
            "JobSatisfaction            12\n",
            "WorkLifeBalance            27\n",
            "NumCompaniesWorked         14\n",
            "TotalWorkingYears           4\n",
            "dtype: int64\n"
          ]
        }
      ]
    },
    {
      "cell_type": "markdown",
      "source": [
        "Luego, evaluamos si existe alguna columna de las presentes en el dataset proporcionado que tenga la condición de ser constante. Es importante mencionar que una columna constante es aquella que todas sus filas contienen un mismo valor. Por otro lado también tenemos la verificación de la existencia de una columna que contiene un código de verificación que identifica de alguna forma a los empleados de la empresa, siendo este un ID.\n",
        "\n",
        "La identificación de estos dos tipos de columnas nos va a servir para retirarlas de la muestra con la que se entrenará el modelo, ya que estos dos tipos antes mencinados no genera ningún tipo de valor al modelo que se desea construir."
      ],
      "metadata": {
        "id": "RacsKw2hBjrc"
      }
    },
    {
      "cell_type": "code",
      "source": [
        "# Identificar columnas constantes\n",
        "constant_cols = [col for col in df.columns if df[col].nunique() == 1]\n",
        "print(f\"\\nColumnas constantes: {constant_cols}\")\n",
        "\n",
        "# Identificar columnas de ID\n",
        "id_cols = [col for col in df.columns if 'id' in col.lower() or df[col].is_unique]\n",
        "print(f\"\\nColumnas de ID: {id_cols}\")"
      ],
      "metadata": {
        "id": "a3VtLe5GEvmg",
        "outputId": "38e26400-6303-4719-83de-9c503b720cd5",
        "colab": {
          "base_uri": "https://localhost:8080/"
        }
      },
      "execution_count": null,
      "outputs": [
        {
          "output_type": "stream",
          "name": "stdout",
          "text": [
            "\n",
            "Columnas constantes: ['EmployeeCount', 'Over18', 'StandardHours']\n",
            "\n",
            "Columnas de ID: ['EmployeeID']\n"
          ]
        }
      ]
    },
    {
      "cell_type": "markdown",
      "source": [
        "Con este último apartado, pretendemos establecer si el problema al que nos estamos enfretando es de clasificación o de regresión. Con ello buscamos definir correctamente el modelo que queremos implementar y los elementos que se deben considerar para lograrlo, por lo que verificamos si \"Attrition\" es categórica o numérica. Adicionalmente, verificamos la distribución de la función objetivo de tal forma de verificar si esta se encuentra desbalancaeda o no.\n",
        "\n",
        "Como se puede verificar a continuación, dado que la variable Attrition es categórica, entonces estamos ante un problema de clasificación, donde se puede verificar que nuestra función objetivo está desbalanceada, ya que tenemos un número muy alto de \"No\" contra muy pocos \"Yes\". Esto último nos va a permitir saber si el modelo debe ajustarse o no."
      ],
      "metadata": {
        "id": "th0831zAGmyw"
      }
    },
    {
      "cell_type": "code",
      "source": [
        "# Determinar si es un problema de clasificación o regresión\n",
        "if df['Attrition'].dtype == 'object' or df['Attrition'].nunique() < 10:\n",
        "    print(\"\\nEl problema es de clasificación.\")\n",
        "\n",
        "    # Evaluar desbalance de clases\n",
        "    class_counts = df['Attrition'].value_counts(normalize=True)\n",
        "    print(\"\\nDistribución de la variable objetivo:\")\n",
        "    print(class_counts)\n",
        "    if class_counts.min() < 0.3:\n",
        "        print(\"\\nLa variable objetivo está desbalanceada.\")\n",
        "else:\n",
        "    print(\"\\nEl problema es de regresión.\")\n",
        "\n",
        "# Visualización de la variable objetivo\n",
        "plt.figure(figsize=(6,4))\n",
        "sns.countplot(x=df['Attrition'], palette='coolwarm')\n",
        "plt.title('Distribución de Attrition')\n",
        "plt.show()\n"
      ],
      "metadata": {
        "id": "8WpAuIG060nf",
        "colab": {
          "base_uri": "https://localhost:8080/",
          "height": 690
        },
        "outputId": "9409425e-493e-422d-b1e9-de39d093e536"
      },
      "execution_count": null,
      "outputs": [
        {
          "output_type": "stream",
          "name": "stdout",
          "text": [
            "\n",
            "El problema es de clasificación.\n",
            "\n",
            "Distribución de la variable objetivo:\n",
            "Attrition\n",
            "No     0.838776\n",
            "Yes    0.161224\n",
            "Name: proportion, dtype: float64\n",
            "\n",
            "La variable objetivo está desbalanceada.\n"
          ]
        },
        {
          "output_type": "stream",
          "name": "stderr",
          "text": [
            "<ipython-input-29-1dd7eb712a7c>:16: FutureWarning: \n",
            "\n",
            "Passing `palette` without assigning `hue` is deprecated and will be removed in v0.14.0. Assign the `x` variable to `hue` and set `legend=False` for the same effect.\n",
            "\n",
            "  sns.countplot(x=df['Attrition'], palette='coolwarm')\n"
          ]
        },
        {
          "output_type": "display_data",
          "data": {
            "text/plain": [
              "<Figure size 600x400 with 1 Axes>"
            ],
            "image/png": "[encoded data removed]"
          },
          "metadata": {}
        }
      ]
    },
    {
      "cell_type": "markdown",
      "source": [
        "# **3. PROCESO DE EVALUACIÓN**"
      ],
      "metadata": {
        "id": "Z3vSTOSeKRxp"
      }
    },
    {
      "cell_type": "markdown",
      "source": [
        "## **3.1. Estimacion del Rendimiento Futuro**"
      ],
      "metadata": {
        "id": "iHorYBuwDNeH"
      }
    },
    {
      "cell_type": "markdown",
      "source": [
        "Para este apartado es necesario considerar el proceso utilizado para la estimación del rendmiento futuro, buscando asegurar que nuestro modelo se evalúe de manera realista en datos que no ha analizado con anterioridad. La idea principal es enterenar al modelo con un conjunto de datos y evaluarlo con otro, ya que si se hiciera con el mismo, puede dar una estimación sesgada del rendimiento real.\n",
        "\n",
        "Para lograr esto, hacemos una partición entre los elementos del dataset que disponemos, donde dividimos el conjunto de ejemplos se va a dividir en dos conjuntos y cuyos elementos se escogen aleatoriamente del conjunto disponible. Esto nos va a permitir establecer un conjunto de métricras que van a permitir evaluar el problema de forma consecuente y concreta.\n",
        "\n",
        "La primera de estás métricas se conoce como **balanced accuracy**, la cual utilizaremos ya que conocemos del EDA que las clases se encuentran desbalanceadas. Este procedimiento nos va a permitir que el modelo no prediga que los datos de prueba siempre dan como resultado \"NO\", sino que le coloque el mismo peso al \"SI\" como al \"NO\". Para ello, es necesario tener en consideración la métrica de los datos que indica que los datos han sido correctamente identificados como positivos (TPR) y crrectamente identificados como negativos (TNR).\n",
        "\n",
        "Esto lo hacemos ya que para obtener la **balanced accuracy** es necesario hacer la media entre la TPR y la TNR (TPR + TPN / 2). La idea de hacer este proceso es que se pueda evaluar el rendimiento del modelo de forma justa en el caso de clases desbalanceadas y que el modelo pueda aprender verdaderamente a distinguir entre ambas clases presentes y no la mayoritaria.\n",
        "\n",
        "Teniendo en consideración que se debe obtner el TPR y TPN, entonces también será necesario obtener las matrices de confunsión, las cuales nos permiten saber el rendimiento del modelo de clasificación que vamos a aplicar en los siguientes apartados, ya que nos va a dar información acerca del acierto de las predicciones, clasificándolas como falsos postivos, falsos negativos, verdadero negativo o verdadero positivo. Este procedimiento se realiza para entender los errores del modelo y poder calcular el TPR (definido como TPR = TP / TP + FN) y el TNR (definido como TPR = TN / TN + FP), los cuales son necesarios para verificar que el modelo evalue de forma justa."
      ],
      "metadata": {
        "id": "6ZV-o30ND9TK"
      }
    },
    {
      "cell_type": "markdown",
      "source": [
        "## **3.2. División de Datos entre Train y Test**"
      ],
      "metadata": {
        "id": "au-b_cgGV6mK"
      }
    },
    {
      "cell_type": "markdown",
      "source": [
        "Para poder llevar a cabo el holdout es necesario implementar una división de los datos en dos conjuntos y escogidos de forma aleatoria. La idea principal es establecer un conjunto de datos que serán aquellos con los que entrenaremos el modelo y se realizará con 2/3 de los datos disponibles. Luego tendremos el conjunto de prueba, el cual está compuesto por un 1/3 de los datos disponibles y que van a prbar que el modelo funciona correctamente y hace la estimación correcta.\n",
        "\n",
        "El objetivo principal de realizar esta operación es evitar el sobreajuste o overfitting, el cual se da cuando entrenamos con todos los datos disponibles y el modelo se \"entrena\" memorizando los datos envés de identifacar los patrones principales. Esto va a generar que al momento de introducir nuevos datos al modelo, este sea incapaz de dar una solución, ya que solo tiene solución para los datos con los que practicó y no para cualquier dato.\n",
        "\n",
        "Por ende, es necesario realizar la división en los dos conjuntos, ya que gracias a ella somos capaces de verificar que nuestro modelo no solo hace una buena predicción con los datos de entrenamiento, sino que también lo hace con un conjunto de datos que es nuevo y que el modelo desconoce. Si el modelo hace las predicciones correctas, entonces nuestra estructura considerará un modelo con los datos de train y test.\n",
        "\n",
        "Sabiendo esto, entonces debemos determinar los modelos que se van a evaluar y cuál de ellos es la mejor opción para lo que estamos buscando obtener."
      ],
      "metadata": {
        "id": "wEpjN9E4MeFZ"
      }
    },
    {
      "cell_type": "markdown",
      "source": [
        "## **3.3. Evaluación interna**"
      ],
      "metadata": {
        "id": "hJ08SeH8pu-h"
      }
    },
    {
      "cell_type": "markdown",
      "source": [
        "# **4. MÉTODOS BÁSICOS: KNN AND TREES**"
      ],
      "metadata": {
        "id": "4g4bFapUp6MY"
      }
    },
    {
      "cell_type": "markdown",
      "source": [
        "## **4.1. Elección de Métodos del KNN**"
      ],
      "metadata": {
        "id": "ETRcSdCzRHvf"
      }
    },
    {
      "cell_type": "markdown",
      "source": [
        "Para iniciar este proceso es necesario dividir en los conjuntos de train y test, como se mencionó en el apartado anterior, donde debemos retirar de esta división aquellas columnas que no agregan ningún valor relevante al entrenamiento del modelo. Estas columnas son aquellas que pudimos revisar en el EDA que son constantes o, mejor definido, que todas las filas de dicha columna tienen el mismo valor.\n",
        "\n",
        "Adicionalmente, se debe retirar la columna que identifica a los empleados, ya que, esta columna no tiene ningún aporte al modelo que deseamos implementar.\n",
        "\n",
        "Por último, pero no menos importante, debemos realizar dos modificaciones importantes con las variables categóricas. La primera de ellas consiste en que es necesario retirar los NaN que se encuentran en las variables categóricas, ya que no podrán ser procesadas. Para ello es necesario realizar una imputación en las que se coloque una denominación que sea \"Desconocido\" para evitar un sesgo que pudiera generarse si la imputación se realizace por el más frecuente.\n",
        "\n",
        "Por otro lado, la segunda de las modificaciones consiste en otorgarle un valor númerico a las variables categóricas, ya que los modelos de Machine Learning no pueden procesar dichas variables. Para lograrlo, se aplica el proceso de One-Hot Encoding, el cual consiste en crear columnas binarias para cada una de las variables categóricas."
      ],
      "metadata": {
        "id": "4f1jLrdmyDZb"
      }
    },
    {
      "cell_type": "code",
      "source": [
        "# Quitamos los NaN de las variables categóricas\n",
        "cat_imputer = SimpleImputer(strategy='constant', fill_value='Desconocido')\n",
        "df[categorical_vars] = cat_imputer.fit_transform(df[categorical_vars])\n",
        "\n",
        "# One-Hot Encoding para las variables categóricas\n",
        "categorical_vars = [col for col in categorical_vars if col not in ['Attrition', 'EmployeeID', 'Over18']]\n",
        "df_encoded = pd.get_dummies(df, columns=categorical_vars, drop_first=True)\n",
        "\n",
        "# Quitamos columnas irrelevantes\n",
        "X = df_encoded.drop(columns = ['Attrition', 'EmployeeCount', 'Over18', 'StandardHours', 'EmployeeID'])\n",
        "# Como la variable 'Attrition' es YES o NO, entonces la convertimos a un valor\n",
        "# binario para el modelo\n",
        "y = df['Attrition'].map({'Yes': 1, 'No': 0})\n",
        "\n",
        "# Hacemos la división entre train y test\n",
        "X_train, X_test, y_train, y_test = train_test_split(\n",
        "    X, y, test_size=0.33, stratify=y, random_state=42)\n"
      ],
      "metadata": {
        "id": "Gm4EO24rU70r"
      },
      "execution_count": null,
      "outputs": []
    },
    {
      "cell_type": "markdown",
      "source": [
        "Una vez realizada la división de los datos disponibles en los dos conjuntos de train y test, con una pequeña línea de código verificamos que la función se encuentra totalmente desbalanceada. Es importante mencionar que el resultado obtenido es la proporción de cada uno de los valores binarios que se definieron para la columna de 'Attrition' en el apartado anterior.  "
      ],
      "metadata": {
        "id": "B-DyMileX6wj"
      }
    },
    {
      "cell_type": "code",
      "source": [
        "y_train.value_counts(normalize=True)"
      ],
      "metadata": {
        "id": "oGvk__J9cbcX",
        "outputId": "aeb1acb2-d3ba-4961-f091-94dc28913701",
        "colab": {
          "base_uri": "https://localhost:8080/",
          "height": 178
        }
      },
      "execution_count": null,
      "outputs": [
        {
          "output_type": "execute_result",
          "data": {
            "text/plain": [
              "Attrition\n",
              "0    0.839005\n",
              "1    0.160995\n",
              "Name: proportion, dtype: float64"
            ],
            "text/html": [
              "<div>\n",
              "<style scoped>\n",
              "    .dataframe tbody tr th:only-of-type {\n",
              "        vertical-align: middle;\n",
              "    }\n",
              "\n",
              "    .dataframe tbody tr th {\n",
              "        vertical-align: top;\n",
              "    }\n",
              "\n",
              "    .dataframe thead th {\n",
              "        text-align: right;\n",
              "    }\n",
              "</style>\n",
              "<table border=\"1\" class=\"dataframe\">\n",
              "  <thead>\n",
              "    <tr style=\"text-align: right;\">\n",
              "      <th></th>\n",
              "      <th>proportion</th>\n",
              "    </tr>\n",
              "    <tr>\n",
              "      <th>Attrition</th>\n",
              "      <th></th>\n",
              "    </tr>\n",
              "  </thead>\n",
              "  <tbody>\n",
              "    <tr>\n",
              "      <th>0</th>\n",
              "      <td>0.839005</td>\n",
              "    </tr>\n",
              "    <tr>\n",
              "      <th>1</th>\n",
              "      <td>0.160995</td>\n",
              "    </tr>\n",
              "  </tbody>\n",
              "</table>\n",
              "</div><br><label><b>dtype:</b> float64</label>"
            ]
          },
          "metadata": {},
          "execution_count": 23
        }
      ]
    },
    {
      "cell_type": "markdown",
      "source": [
        "Una vez que hacemos este prerocesado de los datos, entonces procesedemos a aplicar los algoritmos correspondientes al modelo KNN de clasificación. Para ello, debemos cosiderar todas las posibilidades con respecto a los modelos de escalado y de imputación que considera el KNN.\n",
        "\n",
        "Para poder llevar a cabo el entrenamiento del modelo, primero es imperativo decidir cuál de los modelos es el que da mejores resultados. Para ello usamos el método de validación cruzada para verificar el cuál de los métodos existentes es el más apropiado.\n",
        "\n",
        "Por otro lado, es importante mencionar que en el apartado 3 se mencionó que utilizaríamos el método de Holdout para la fase de entrenamiento, y se puede prestar a confunsión que ahora se mencione el uso de la validación cruzada. Por ello, es importante hacer un insiso en este aspecto, destacando que usamos la validación cruzada para verificar el mejor método, pero al momento de hacer el entrenamiento final, se va a hacer uso del Holdout.\n",
        "\n",
        "Teniendo esto en cuenta, en el código que se encuentra a continuación se podrá observar como haremos todas las combinaciones entre los tres métodos de escalado y los dos de imputación."
      ],
      "metadata": {
        "id": "MPhckthz3G3Y"
      }
    },
    {
      "cell_type": "code",
      "source": [
        "# Establecemos una lista de los métodos de escaldo\n",
        "scalers = [MinMaxScaler(), StandardScaler(), RobustScaler()]\n",
        "\n",
        "# Establecemos una lista de los métodos de imputación\n",
        "imputers = [SimpleImputer(strategy='mean'), SimpleImputer(strategy='median')]\n",
        "\n",
        "# Establecemos un diccionario con la combinación entre el método de escalado,\n",
        "# el método de imputación y el resultado de la estimación como claves del diccionario\n",
        "results = {}\n",
        "# Establecemos la validación cruzada\n",
        "cv = StratifiedKFold(n_splits=5, shuffle=True, random_state=42)\n",
        "# Realizamos la validación cruzada para cada combinación de escalado y imputación\n",
        "for scaler in scalers:\n",
        "    for imputer in imputers:\n",
        "        pipe = Pipeline([\n",
        "            ('imputer', imputer),\n",
        "            ('scaler', scaler),\n",
        "            ('knn', KNeighborsClassifier())\n",
        "        ])\n",
        "\n",
        "        scores = cross_val_score(pipe, X, y, scoring='accuracy', cv=cv)\n",
        "        results[f\"{scaler.__class__.__name__} + {imputer.strategy}\"] = np.mean(scores)\n",
        "        print(f\"{scaler.__class__.__name__} + {imputer.strategy}: {np.mean(scores)}\")"
      ],
      "metadata": {
        "id": "8CJoBrLz-qhQ",
        "outputId": "054bdc01-0092-498c-b85f-16293901e1f2",
        "colab": {
          "base_uri": "https://localhost:8080/"
        }
      },
      "execution_count": 42,
      "outputs": [
        {
          "output_type": "stream",
          "name": "stdout",
          "text": [
            "MinMaxScaler + mean: 0.838095238095238\n",
            "MinMaxScaler + median: 0.8377551020408163\n",
            "StandardScaler + mean: 0.8428571428571429\n",
            "StandardScaler + median: 0.8428571428571429\n",
            "RobustScaler + mean: 0.8496598639455784\n",
            "RobustScaler + median: 0.85\n"
          ]
        }
      ]
    },
    {
      "cell_type": "markdown",
      "source": [
        "Se debe mencionar de lo que se puede apreciar de código algunos aspectos importantes que nos van a ayudar a entender el proceso que estamos llevando a cabo. Primeramente, es necesario mencionar que usamos el \"StratifiedKFold\" envés del \"KFold\" ya que sabemos por el EDA que estamos ante un problema desblanceado, por lo que es preferible utilizar el primero de estos dado que ayuda a que la distribución de las clases sea similar y evita el surgimiento de errores futuros.\n",
        "\n",
        "Por otro lado, podemos observar después de su ejecución la cantidad de elementos que se encuentran clasificados correctamente con cada una de las combinaciones entre métodos de escalado y de imputación. De todos los resultados obtenidos, es necesario establecer cuál de las combinaciones es la más idónea.  "
      ],
      "metadata": {
        "id": "9MAGuzIHMFiQ"
      }
    },
    {
      "cell_type": "code",
      "source": [
        "# Establecemos cuál de las combinaciones es la que tiene mejor accuracy\n",
        "best_method = max(results, key=results.get)\n",
        "print(\"\\nMejor combinación de escalado e imputación:\", best_method)"
      ],
      "metadata": {
        "id": "ya93b5_SPzoA",
        "outputId": "5486e9aa-194c-47f6-873e-0a4d3624e12a",
        "colab": {
          "base_uri": "https://localhost:8080/"
        }
      },
      "execution_count": 43,
      "outputs": [
        {
          "output_type": "stream",
          "name": "stdout",
          "text": [
            "\n",
            "Mejor combinación de escalado e imputación: RobustScaler + median\n"
          ]
        }
      ]
    },
    {
      "cell_type": "markdown",
      "source": [
        "Una vez determinado la mejor combinación de métodos para que el modelo a entrenar tenga un mejor accuracy, entonces establecemos que el modelo KNN que se utilizará para el entrenamiento será el de \"RobustScaler\" como método de escalado, combinado con \"median\" como método de imputación."
      ],
      "metadata": {
        "id": "wbGi9U-ZQd7W"
      }
    },
    {
      "cell_type": "markdown",
      "source": [
        "## **4.2. Comparación entre el KNN y Trees**"
      ],
      "metadata": {
        "id": "Om5OfcwyRg-I"
      }
    },
    {
      "cell_type": "markdown",
      "source": [
        "Una vez que se ha establecido el método KNN que se va a utilizar para el entrenamiento del modelo, vamos a establecer las diferencias entre el uso de KNN y Árboles de Decisión (Trees). Para lograrlo, primero estableceremos una evaluación en la cual no se considera modificar los hiperparámetros y posteriormente otra en la que si se ven modificados. En este caso para el KNN utilizaremos la combinación antes mencionada y considerando que se hace el método de Holdout."
      ],
      "metadata": {
        "id": "BrxFAIDWjMpX"
      }
    },
    {
      "cell_type": "markdown",
      "source": [
        "### **4.2.a. Evaluación con Hiperparámetros por Omisión**"
      ],
      "metadata": {
        "id": "QbAZEa_Rh6yl"
      }
    },
    {
      "cell_type": "markdown",
      "source": [
        "Para realizar la primera evaluación, se debe considerar que simplemente realizamos el entrenamiento del modelo con el método de KNN y luego con los Árboles de Derivación. Es importante mencionar que en el punto 4.1, se adelantó el proceso de división del conjunto de datos disponibles en Train y Test, por lo que lo único que nosotros debemos realizar en este apartado es retirar los NaN de las variables numéricas y hacer el entrenamiento.\n",
        "\n",
        "El retiro de las NaN de las variables numéricas se realiza por el método de imputación anteriormente establecido, el cual es \"median\". Esta misma especificación se utilizará para el entrenamiento del KNN como se puede apreciar a continuación.  "
      ],
      "metadata": {
        "id": "6MBWDuUkiRvk"
      }
    },
    {
      "cell_type": "code",
      "source": [
        "# Retiramos las NaN de las variables numéricas\n",
        "# Aseguramos que numerical_vars solo contenga columnas existentes\n",
        "numerical_vars = [col for col in numerical_vars if col in X_train.columns]\n",
        "\n",
        "# Aplicamos imputación solo a las variables numéricas presentes\n",
        "num_imputer = SimpleImputer(strategy='median')\n",
        "X_train[numerical_vars] = num_imputer.fit_transform(X_train[numerical_vars])\n",
        "X_test[numerical_vars] = num_imputer.transform(X_test[numerical_vars])\n",
        "\n",
        "# Modelo KNN con hiperparámetros por omisión\n",
        "knn_pipe = Pipeline([\n",
        "    ('imputer', SimpleImputer(strategy='median')),\n",
        "    ('scaler', RobustScaler()),\n",
        "    ('knn', KNeighborsClassifier())\n",
        "])\n",
        "\n",
        "# Medimos el tiempo de entrenamiento\n",
        "start_time_KNN = time.time()\n",
        "knn_pipe.fit(X_train, y_train)\n",
        "end_time_KNN = time.time()\n",
        "training_time_KNN = end_time_KNN - start_time_KNN\n",
        "\n",
        "# Establecemos la predicción del modelo\n",
        "y_pred_knn = knn_pipe.predict(X_test)\n",
        "\n",
        "# Verificamos el accuracy del modelo\n",
        "accuracy_knn = accuracy_score(y_test, y_pred_knn)"
      ],
      "metadata": {
        "id": "LhGyhMZlmggY"
      },
      "execution_count": 53,
      "outputs": []
    },
    {
      "cell_type": "markdown",
      "source": [
        "Una vez realizamos el entrenamiento del modelo KNN, procedemos a imprimir por pantalla los resultados obtenidos. Adicionalmente se procede a imprimir la matriz de confusión, la cual nos va mostrar los verdaderos positivos (TPR), los falsos negativos (FNR), los falsos positivos (FPR) y los verdaderos negativos (TNR) respectivamente. Estos datos nos van a servir, junto al resto, para determinar si el modelo se ajusta más a las necesidades del problema cuando se realice la comparación los Árboles de Decisión."
      ],
      "metadata": {
        "id": "Yk1ws_E0pqai"
      }
    },
    {
      "cell_type": "code",
      "source": [
        "print(f\"\\033[1mEvaluación del modelo KNN\\033[0m\")\n",
        "print(f\"Accuracy: {accuracy_knn:.4f}\")\n",
        "print(f\"Tiempo de entrenamiento: {training_time_KNN:.4f} segundos\")\n",
        "print(f\"Matriz de Confusión:\\n{confusion_matrix(y_test, y_pred_knn)}\")"
      ],
      "metadata": {
        "id": "BFGK_278roBa",
        "outputId": "25453bc1-ceec-4ad6-e6d5-0b595ec40318",
        "colab": {
          "base_uri": "https://localhost:8080/"
        }
      },
      "execution_count": 63,
      "outputs": [
        {
          "output_type": "stream",
          "name": "stdout",
          "text": [
            "\u001b[1mEvaluación del modelo KNN\u001b[0m\n",
            "Accuracy: 0.8610\n",
            "Tiempo de entrenamiento: 0.0793 segundos\n",
            "Matriz de Confusión:\n",
            "[[793  21]\n",
            " [114  43]]\n"
          ]
        }
      ]
    },
    {
      "cell_type": "markdown",
      "source": [
        "Una vez vistos los resultados obtenidos del entrenamiento con el modelo KNN, entonces procedemos a realizar el mismo procedimiento con Árboles de Derivación. Es importante mencionar que los datos de entrenamiento son los mismos que los utilizados para el KNN, por lo que no es necesario volver a ejecutar el código de eliminación de las NaN. El procedimiento de entrenamiento se visualiza a continuación."
      ],
      "metadata": {
        "id": "xhscVNh_sj34"
      }
    },
    {
      "cell_type": "code",
      "source": [
        "# Modelo Derivation Tree con hiperparámetros por omisión\n",
        "dt = tree.DecisionTreeClassifier(random_state=42)\n",
        "\n",
        "# Medimos el tiempo de entrenamiento\n",
        "start_time_dt = time.time()\n",
        "dt.fit(X_train, y_train)\n",
        "end_time_dt = time.time()\n",
        "training_time_dt = end_time_dt - start_time_dt\n",
        "\n",
        "# Establecemos la predicción del modelo\n",
        "y_pred_dt = dt.predict(X_test)\n",
        "\n",
        "# Verificamos el accuracy del modelo\n",
        "accuracy_dt = accuracy_score(y_test, y_pred_dt)"
      ],
      "metadata": {
        "id": "VLfvGyGJt4wo"
      },
      "execution_count": 61,
      "outputs": []
    },
    {
      "cell_type": "markdown",
      "source": [
        "Una vez realizado el entrenamiento del Árbol de Derivación, procedemos a verificar los resultados obtenidos de la misma manera en que lo hemos realizado con el modelo KNN. Para ello, nuevamente es necesario verificar los mismos aspectos que antes como el tiempo de entrenamiento o la matriz de confunsión."
      ],
      "metadata": {
        "id": "OCemr2Fov5LH"
      }
    },
    {
      "cell_type": "code",
      "source": [
        "print(f\"\\033[1mEvaluación del modelo Derivation Tree\\033[0m\")\n",
        "print(f\"Accuracy: {accuracy_dt:.4f}\")\n",
        "print(f\"Tiempo de entrenamiento: {training_time_dt:.4f} segundos\")\n",
        "print(f\"Matriz de Confusión:\\n{confusion_matrix(y_test, y_pred_dt)}\")"
      ],
      "metadata": {
        "id": "wu72C3PowfJw",
        "outputId": "a92b4fee-ebeb-4483-f2c9-824bbca146f0",
        "colab": {
          "base_uri": "https://localhost:8080/"
        }
      },
      "execution_count": 64,
      "outputs": [
        {
          "output_type": "stream",
          "name": "stdout",
          "text": [
            "\u001b[1mEvaluación del modelo Derivation Tree\u001b[0m\n",
            "Accuracy: 0.8939\n",
            "Tiempo de entrenamiento: 0.0304 segundos\n",
            "Matriz de Confusión:\n",
            "[[751  63]\n",
            " [ 40 117]]\n"
          ]
        }
      ]
    },
    {
      "cell_type": "markdown",
      "source": [
        "#*Código Boceto*"
      ],
      "metadata": {
        "id": "Zk6QD6ZN-rJ9"
      }
    },
    {
      "cell_type": "markdown",
      "source": [
        "**---------------------------------------------------------------------------------------------------------------**"
      ],
      "metadata": {
        "id": "KVPG_A64Tz5J"
      }
    },
    {
      "cell_type": "code",
      "source": [
        "# Implementación de modelos básicos con tiempo de entrenamiento\n",
        "\n",
        "def train_model(model, X_train, y_train, X_test, y_test, model_name):\n",
        "    start_time = time.time()\n",
        "    model.fit(X_train, y_train)\n",
        "    end_time = time.time()\n",
        "    training_time = end_time - start_time\n",
        "\n",
        "    y_pred = model.predict(X_test)\n",
        "    print(f\"\\nEvaluación del modelo {model_name}:\")\n",
        "    print(f\"Balanced Accuracy: {balanced_accuracy_score(y_test, y_pred):.4f}\")\n",
        "    print(f\"Accuracy: {accuracy_score(y_test, y_pred):.4f}\")\n",
        "    print(f\"Recall (TPR): {recall_score(y_test, y_pred):.4f}\")\n",
        "    print(f\"Confusion Matrix:\\n{confusion_matrix(y_test, y_pred)}\")\n",
        "    print(f\"Tiempo de entrenamiento: {training_time:.4f} segundos\")\n",
        "\n",
        "# Asegurar que numerical_vars solo contenga columnas existentes\n",
        "numerical_vars = [col for col in numerical_vars if col in X_train.columns]\n",
        "\n",
        "# Aplicar imputación solo a las variables numéricas presentes\n",
        "num_imputer = SimpleImputer(strategy='median')\n",
        "X_train[numerical_vars] = num_imputer.fit_transform(X_train[numerical_vars])\n",
        "X_test[numerical_vars] = num_imputer.transform(X_test[numerical_vars])\n",
        "\n",
        "# Modelos con hiperparámetros por omisión\n",
        "dt = DecisionTreeClassifier(random_state=42)\n",
        "knn_pipeline = Pipeline([\n",
        "    ('imputer', SimpleImputer(strategy='median')),\n",
        "    ('scaler', RobustScaler()),\n",
        "    ('knn', KNeighborsClassifier())\n",
        "])\n",
        "\n",
        "train_model(dt, X_train, y_train, X_test, y_test, \"Decision Tree\")\n",
        "train_model(knn_pipeline, X_train, y_train, X_test, y_test, \"KNN con Imputación y Escalado\")"
      ],
      "metadata": {
        "id": "8cTiL4fbTygQ",
        "outputId": "3ad7ed52-f7fb-4968-b881-1fade6daab9a",
        "colab": {
          "base_uri": "https://localhost:8080/"
        }
      },
      "execution_count": 49,
      "outputs": [
        {
          "output_type": "stream",
          "name": "stdout",
          "text": [
            "\n",
            "Evaluación del modelo Decision Tree:\n",
            "Balanced Accuracy: 0.8339\n",
            "Accuracy: 0.8939\n",
            "Recall (TPR): 0.7452\n",
            "Confusion Matrix:\n",
            "[[751  63]\n",
            " [ 40 117]]\n",
            "Tiempo de entrenamiento: 0.0287 segundos\n",
            "\n",
            "Evaluación del modelo KNN con Imputación y Escalado:\n",
            "Balanced Accuracy: 0.6240\n",
            "Accuracy: 0.8610\n",
            "Recall (TPR): 0.2739\n",
            "Confusion Matrix:\n",
            "[[793  21]\n",
            " [114  43]]\n",
            "Tiempo de entrenamiento: 0.0247 segundos\n"
          ]
        }
      ]
    },
    {
      "cell_type": "markdown",
      "source": [
        "**--------------------------------------------------------**"
      ],
      "metadata": {
        "id": "Vvf_8zcQMhLG"
      }
    },
    {
      "cell_type": "code",
      "source": [
        "# Modelos con hiperparámetros por omisión\n",
        "dt = DecisionTreeClassifier(random_state=42)\n",
        "knn = KNeighborsClassifier()\n",
        "train_model(dt, X_train, y_train, X_test, y_test, \"Decision Tree\")\n",
        "train_model(knn, X_train, y_train, X_test, y_test, \"KNN\")\n",
        "\n",
        "# Ajuste de hiperparámetros\n",
        "dt_params = {'max_depth': [3, 5, 10, None], 'min_samples_split': [2, 5, 10]}\n",
        "knn_params = {'n_neighbors': [3, 5, 7, 10], 'weights': ['uniform', 'distance']}\n",
        "\n",
        "dt_grid = GridSearchCV(DecisionTreeClassifier(random_state=42), dt_params, cv=5, scoring='balanced_accuracy')\n",
        "knn_grid = GridSearchCV(KNeighborsClassifier(), knn_params, cv=5, scoring='balanced_accuracy')\n",
        "\n",
        "train_model(dt_grid, X_train, y_train, X_test, y_test, \"Decision Tree (HPO)\")\n",
        "train_model(knn_grid, X_train, y_train, X_test, y_test, \"KNN (HPO)\")\n",
        "\n",
        "# Visualización del efecto de los hiperparámetros\n",
        "def plot_hyperparameter_effects(results, param_name, title):\n",
        "    plt.figure(figsize=(8, 6))\n",
        "    sns.lineplot(x=results[param_name], y=results['mean_test_score'])\n",
        "    plt.xlabel(param_name)\n",
        "    plt.ylabel('Balanced Accuracy')\n",
        "    plt.title(title)\n",
        "    plt.show()\n",
        "\n",
        "plot_hyperparameter_effects(pd.DataFrame(dt_grid.cv_results_), 'param_max_depth', 'Efecto de max_depth en Decision Tree')\n",
        "plot_hyperparameter_effects(pd.DataFrame(knn_grid.cv_results_), 'param_n_neighbors', 'Efecto de n_neighbors en KNN')\n"
      ],
      "metadata": {
        "id": "HBvpVVquRomu"
      },
      "execution_count": null,
      "outputs": []
    }
  ]
}