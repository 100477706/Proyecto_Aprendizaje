{
  "nbformat": 4,
  "nbformat_minor": 0,
  "metadata": {
    "colab": {
      "provenance": [],
      "include_colab_link": true
    },
    "kernelspec": {
      "name": "python3",
      "display_name": "Python 3"
    },
    "language_info": {
      "name": "python"
    }
  },
  "cells": [
    {
      "cell_type": "markdown",
      "metadata": {
        "id": "view-in-github",
        "colab_type": "text"
      },
      "source": [
        "<a href=\"https://colab.research.google.com/github/100477706/Proyecto_Aprendizaje/blob/main/modelo_final.ipynb\" target=\"_parent\"><img src=\"https://colab.research.google.com/assets/colab-badge.svg\" alt=\"Open In Colab\"/></a>"
      ]
    },
    {
      "cell_type": "markdown",
      "source": [
        "# **0. IDENTIFICACIÓN DE ESTUDIANTES**\n",
        "\n",
        "---\n"
      ],
      "metadata": {
        "id": "hA2601svZbm6"
      }
    },
    {
      "cell_type": "markdown",
      "source": [
        "**Grupo de Trabajo**: 27\n",
        "\n",
        "Gabriel José Rivera Amor - 100477706@alumnos.uc3m.es\n",
        "\n",
        "Santiago José Díaz Rodríguez - 100479095@alumnos.uc3m.es"
      ],
      "metadata": {
        "id": "kJqW3egKZcmE"
      }
    },
    {
      "cell_type": "markdown",
      "source": [
        "#**MODELO FINAL**"
      ],
      "metadata": {
        "id": "UKTGO00hoRWK"
      }
    },
    {
      "cell_type": "markdown",
      "source": [
        "En el notebook de predicciones entrenamos distintos modelos, ajustando sus hiperparámetros, y los evaluamos utilizando el método de validación cruzada (inner) para escoger el mejor de ellos. El modélo escogido termino siendo la SVM con los parámetros 'C' = 1.4, 'class_weight' = 'balanced' y 'kernel'= 'rbf', el cuál evaluamos con el método holdout (outer) para obtener la prédicción de cómo va a desepeñarse el mismo en el futuro y en la competición, este score fue de 85%. Ahora debemos pasar a entrenar el modelo con todos los datos disponibles y realizar nuestras predicciones para la competición."
      ],
      "metadata": {
        "id": "xQ_SAutdoVgC"
      }
    },
    {
      "cell_type": "markdown",
      "source": [
        "#**CARGA DE DATOS**"
      ],
      "metadata": {
        "id": "2amzDI8cvz9F"
      }
    },
    {
      "cell_type": "markdown",
      "source": [
        "Para poder entrenar el modelo primero debemos importar todas las librearías que vamos a utilizar al igual que cargar los datos que vayamos a utilizar para el entrenamiento. También descargaremos la bibliteca joblib para poder pasar nuestro modelo a un ichero pkl."
      ],
      "metadata": {
        "id": "VaZmfuTIv8dT"
      }
    },
    {
      "cell_type": "code",
      "source": [
        "!pip install joblib==1.3.2"
      ],
      "metadata": {
        "id": "aAJrHIVoYk-5",
        "outputId": "c81e96cd-cb85-40c0-f139-3b3c5d1c5903",
        "colab": {
          "base_uri": "https://localhost:8080/"
        }
      },
      "execution_count": 1,
      "outputs": [
        {
          "output_type": "stream",
          "name": "stdout",
          "text": [
            "Requirement already satisfied: joblib==1.3.2 in /usr/local/lib/python3.11/dist-packages (1.3.2)\n"
          ]
        }
      ]
    },
    {
      "cell_type": "code",
      "execution_count": 2,
      "metadata": {
        "id": "l6SLrYw6BMup"
      },
      "outputs": [],
      "source": [
        "import pandas as pd\n",
        "import matplotlib.pyplot as plt\n",
        "from sklearn.metrics import balanced_accuracy_score\n",
        "from sklearn.svm import SVC\n",
        "from sklearn.preprocessing import RobustScaler, OneHotEncoder\n",
        "from sklearn.impute import SimpleImputer\n",
        "from sklearn.pipeline import Pipeline\n",
        "from sklearn.metrics import precision_score\n",
        "from sklearn.compose import ColumnTransformer\n",
        "from sklearn import metrics\n",
        "import numpy as np\n",
        "import joblib"
      ]
    },
    {
      "cell_type": "code",
      "source": [
        "df = pd.read_csv(\"attrition_availabledata_06.csv.gz\", compression=\"gzip\", sep=\",\") #subir el archivo comprimido\n",
        "df.head()"
      ],
      "metadata": {
        "id": "plaAgLqPwaCA",
        "colab": {
          "base_uri": "https://localhost:8080/",
          "height": 325
        },
        "outputId": "42102ab8-aa50-4a32-c4f2-8104fbb670ed"
      },
      "execution_count": 3,
      "outputs": [
        {
          "output_type": "execute_result",
          "data": {
            "text/plain": [
              "        hrs  absences  JobInvolvement  PerformanceRating  \\\n",
              "0  5.896431         5               3                  3   \n",
              "1  6.114877        19               3                  3   \n",
              "2  6.396730        11               3                  3   \n",
              "3  5.722452        22               4                  3   \n",
              "4  5.663001        21               3                  3   \n",
              "\n",
              "   EnvironmentSatisfaction  JobSatisfaction  WorkLifeBalance  Age  \\\n",
              "0                      2.0              4.0              3.0   33   \n",
              "1                      3.0              3.0              3.0   20   \n",
              "2                      1.0              4.0              4.0   46   \n",
              "3                      1.0              1.0              4.0   40   \n",
              "4                      4.0              4.0              3.0   38   \n",
              "\n",
              "      BusinessTravel              Department  ...  Over18  PercentSalaryHike  \\\n",
              "0      Travel_Rarely  Research & Development  ...       Y                 13   \n",
              "1      Travel_Rarely  Research & Development  ...       Y                 13   \n",
              "2      Travel_Rarely  Research & Development  ...       Y                 11   \n",
              "3      Travel_Rarely                   Sales  ...       Y                 13   \n",
              "4  Travel_Frequently  Research & Development  ...       Y                 17   \n",
              "\n",
              "  StandardHours  StockOptionLevel  TotalWorkingYears TrainingTimesLastYear  \\\n",
              "0             8                 0                6.0                     3   \n",
              "1             8                 1                2.0                     2   \n",
              "2             8                 1               28.0                     2   \n",
              "3             8                 1                9.0                     2   \n",
              "4             8                 3               10.0                     2   \n",
              "\n",
              "   YearsAtCompany YearsSinceLastPromotion YearsWithCurrManager  Attrition  \n",
              "0               5                       1                    4         No  \n",
              "1               2                       2                    2         No  \n",
              "2               7                       4                    3        Yes  \n",
              "3               8                       7                    1         No  \n",
              "4              10                       9                    9         No  \n",
              "\n",
              "[5 rows x 31 columns]"
            ],
            "text/html": [
              "\n",
              "  <div id=\"df-2e71f728-5997-4d62-9312-0d408ace58ab\" class=\"colab-df-container\">\n",
              "    <div>\n",
              "<style scoped>\n",
              "    .dataframe tbody tr th:only-of-type {\n",
              "        vertical-align: middle;\n",
              "    }\n",
              "\n",
              "    .dataframe tbody tr th {\n",
              "        vertical-align: top;\n",
              "    }\n",
              "\n",
              "    .dataframe thead th {\n",
              "        text-align: right;\n",
              "    }\n",
              "</style>\n",
              "<table border=\"1\" class=\"dataframe\">\n",
              "  <thead>\n",
              "    <tr style=\"text-align: right;\">\n",
              "      <th></th>\n",
              "      <th>hrs</th>\n",
              "      <th>absences</th>\n",
              "      <th>JobInvolvement</th>\n",
              "      <th>PerformanceRating</th>\n",
              "      <th>EnvironmentSatisfaction</th>\n",
              "      <th>JobSatisfaction</th>\n",
              "      <th>WorkLifeBalance</th>\n",
              "      <th>Age</th>\n",
              "      <th>BusinessTravel</th>\n",
              "      <th>Department</th>\n",
              "      <th>...</th>\n",
              "      <th>Over18</th>\n",
              "      <th>PercentSalaryHike</th>\n",
              "      <th>StandardHours</th>\n",
              "      <th>StockOptionLevel</th>\n",
              "      <th>TotalWorkingYears</th>\n",
              "      <th>TrainingTimesLastYear</th>\n",
              "      <th>YearsAtCompany</th>\n",
              "      <th>YearsSinceLastPromotion</th>\n",
              "      <th>YearsWithCurrManager</th>\n",
              "      <th>Attrition</th>\n",
              "    </tr>\n",
              "  </thead>\n",
              "  <tbody>\n",
              "    <tr>\n",
              "      <th>0</th>\n",
              "      <td>5.896431</td>\n",
              "      <td>5</td>\n",
              "      <td>3</td>\n",
              "      <td>3</td>\n",
              "      <td>2.0</td>\n",
              "      <td>4.0</td>\n",
              "      <td>3.0</td>\n",
              "      <td>33</td>\n",
              "      <td>Travel_Rarely</td>\n",
              "      <td>Research &amp; Development</td>\n",
              "      <td>...</td>\n",
              "      <td>Y</td>\n",
              "      <td>13</td>\n",
              "      <td>8</td>\n",
              "      <td>0</td>\n",
              "      <td>6.0</td>\n",
              "      <td>3</td>\n",
              "      <td>5</td>\n",
              "      <td>1</td>\n",
              "      <td>4</td>\n",
              "      <td>No</td>\n",
              "    </tr>\n",
              "    <tr>\n",
              "      <th>1</th>\n",
              "      <td>6.114877</td>\n",
              "      <td>19</td>\n",
              "      <td>3</td>\n",
              "      <td>3</td>\n",
              "      <td>3.0</td>\n",
              "      <td>3.0</td>\n",
              "      <td>3.0</td>\n",
              "      <td>20</td>\n",
              "      <td>Travel_Rarely</td>\n",
              "      <td>Research &amp; Development</td>\n",
              "      <td>...</td>\n",
              "      <td>Y</td>\n",
              "      <td>13</td>\n",
              "      <td>8</td>\n",
              "      <td>1</td>\n",
              "      <td>2.0</td>\n",
              "      <td>2</td>\n",
              "      <td>2</td>\n",
              "      <td>2</td>\n",
              "      <td>2</td>\n",
              "      <td>No</td>\n",
              "    </tr>\n",
              "    <tr>\n",
              "      <th>2</th>\n",
              "      <td>6.396730</td>\n",
              "      <td>11</td>\n",
              "      <td>3</td>\n",
              "      <td>3</td>\n",
              "      <td>1.0</td>\n",
              "      <td>4.0</td>\n",
              "      <td>4.0</td>\n",
              "      <td>46</td>\n",
              "      <td>Travel_Rarely</td>\n",
              "      <td>Research &amp; Development</td>\n",
              "      <td>...</td>\n",
              "      <td>Y</td>\n",
              "      <td>11</td>\n",
              "      <td>8</td>\n",
              "      <td>1</td>\n",
              "      <td>28.0</td>\n",
              "      <td>2</td>\n",
              "      <td>7</td>\n",
              "      <td>4</td>\n",
              "      <td>3</td>\n",
              "      <td>Yes</td>\n",
              "    </tr>\n",
              "    <tr>\n",
              "      <th>3</th>\n",
              "      <td>5.722452</td>\n",
              "      <td>22</td>\n",
              "      <td>4</td>\n",
              "      <td>3</td>\n",
              "      <td>1.0</td>\n",
              "      <td>1.0</td>\n",
              "      <td>4.0</td>\n",
              "      <td>40</td>\n",
              "      <td>Travel_Rarely</td>\n",
              "      <td>Sales</td>\n",
              "      <td>...</td>\n",
              "      <td>Y</td>\n",
              "      <td>13</td>\n",
              "      <td>8</td>\n",
              "      <td>1</td>\n",
              "      <td>9.0</td>\n",
              "      <td>2</td>\n",
              "      <td>8</td>\n",
              "      <td>7</td>\n",
              "      <td>1</td>\n",
              "      <td>No</td>\n",
              "    </tr>\n",
              "    <tr>\n",
              "      <th>4</th>\n",
              "      <td>5.663001</td>\n",
              "      <td>21</td>\n",
              "      <td>3</td>\n",
              "      <td>3</td>\n",
              "      <td>4.0</td>\n",
              "      <td>4.0</td>\n",
              "      <td>3.0</td>\n",
              "      <td>38</td>\n",
              "      <td>Travel_Frequently</td>\n",
              "      <td>Research &amp; Development</td>\n",
              "      <td>...</td>\n",
              "      <td>Y</td>\n",
              "      <td>17</td>\n",
              "      <td>8</td>\n",
              "      <td>3</td>\n",
              "      <td>10.0</td>\n",
              "      <td>2</td>\n",
              "      <td>10</td>\n",
              "      <td>9</td>\n",
              "      <td>9</td>\n",
              "      <td>No</td>\n",
              "    </tr>\n",
              "  </tbody>\n",
              "</table>\n",
              "<p>5 rows × 31 columns</p>\n",
              "</div>\n",
              "    <div class=\"colab-df-buttons\">\n",
              "\n",
              "  <div class=\"colab-df-container\">\n",
              "    <button class=\"colab-df-convert\" onclick=\"convertToInteractive('df-2e71f728-5997-4d62-9312-0d408ace58ab')\"\n",
              "            title=\"Convert this dataframe to an interactive table.\"\n",
              "            style=\"display:none;\">\n",
              "\n",
              "  <svg xmlns=\"http://www.w3.org/2000/svg\" height=\"24px\" viewBox=\"0 -960 960 960\">\n",
              "    <path d=\"M120-120v-720h720v720H120Zm60-500h600v-160H180v160Zm220 220h160v-160H400v160Zm0 220h160v-160H400v160ZM180-400h160v-160H180v160Zm440 0h160v-160H620v160ZM180-180h160v-160H180v160Zm440 0h160v-160H620v160Z\"/>\n",
              "  </svg>\n",
              "    </button>\n",
              "\n",
              "  <style>\n",
              "    .colab-df-container {\n",
              "      display:flex;\n",
              "      gap: 12px;\n",
              "    }\n",
              "\n",
              "    .colab-df-convert {\n",
              "      background-color: #E8F0FE;\n",
              "      border: none;\n",
              "      border-radius: 50%;\n",
              "      cursor: pointer;\n",
              "      display: none;\n",
              "      fill: #1967D2;\n",
              "      height: 32px;\n",
              "      padding: 0 0 0 0;\n",
              "      width: 32px;\n",
              "    }\n",
              "\n",
              "    .colab-df-convert:hover {\n",
              "      background-color: #E2EBFA;\n",
              "      box-shadow: 0px 1px 2px rgba(60, 64, 67, 0.3), 0px 1px 3px 1px rgba(60, 64, 67, 0.15);\n",
              "      fill: #174EA6;\n",
              "    }\n",
              "\n",
              "    .colab-df-buttons div {\n",
              "      margin-bottom: 4px;\n",
              "    }\n",
              "\n",
              "    [theme=dark] .colab-df-convert {\n",
              "      background-color: #3B4455;\n",
              "      fill: #D2E3FC;\n",
              "    }\n",
              "\n",
              "    [theme=dark] .colab-df-convert:hover {\n",
              "      background-color: #434B5C;\n",
              "      box-shadow: 0px 1px 3px 1px rgba(0, 0, 0, 0.15);\n",
              "      filter: drop-shadow(0px 1px 2px rgba(0, 0, 0, 0.3));\n",
              "      fill: #FFFFFF;\n",
              "    }\n",
              "  </style>\n",
              "\n",
              "    <script>\n",
              "      const buttonEl =\n",
              "        document.querySelector('#df-2e71f728-5997-4d62-9312-0d408ace58ab button.colab-df-convert');\n",
              "      buttonEl.style.display =\n",
              "        google.colab.kernel.accessAllowed ? 'block' : 'none';\n",
              "\n",
              "      async function convertToInteractive(key) {\n",
              "        const element = document.querySelector('#df-2e71f728-5997-4d62-9312-0d408ace58ab');\n",
              "        const dataTable =\n",
              "          await google.colab.kernel.invokeFunction('convertToInteractive',\n",
              "                                                    [key], {});\n",
              "        if (!dataTable) return;\n",
              "\n",
              "        const docLinkHtml = 'Like what you see? Visit the ' +\n",
              "          '<a target=\"_blank\" href=https://colab.research.google.com/notebooks/data_table.ipynb>data table notebook</a>'\n",
              "          + ' to learn more about interactive tables.';\n",
              "        element.innerHTML = '';\n",
              "        dataTable['output_type'] = 'display_data';\n",
              "        await google.colab.output.renderOutput(dataTable, element);\n",
              "        const docLink = document.createElement('div');\n",
              "        docLink.innerHTML = docLinkHtml;\n",
              "        element.appendChild(docLink);\n",
              "      }\n",
              "    </script>\n",
              "  </div>\n",
              "\n",
              "\n",
              "<div id=\"df-a3581ce8-70d0-4b3f-81a0-146cda6fc7d7\">\n",
              "  <button class=\"colab-df-quickchart\" onclick=\"quickchart('df-a3581ce8-70d0-4b3f-81a0-146cda6fc7d7')\"\n",
              "            title=\"Suggest charts\"\n",
              "            style=\"display:none;\">\n",
              "\n",
              "<svg xmlns=\"http://www.w3.org/2000/svg\" height=\"24px\"viewBox=\"0 0 24 24\"\n",
              "     width=\"24px\">\n",
              "    <g>\n",
              "        <path d=\"M19 3H5c-1.1 0-2 .9-2 2v14c0 1.1.9 2 2 2h14c1.1 0 2-.9 2-2V5c0-1.1-.9-2-2-2zM9 17H7v-7h2v7zm4 0h-2V7h2v10zm4 0h-2v-4h2v4z\"/>\n",
              "    </g>\n",
              "</svg>\n",
              "  </button>\n",
              "\n",
              "<style>\n",
              "  .colab-df-quickchart {\n",
              "      --bg-color: #E8F0FE;\n",
              "      --fill-color: #1967D2;\n",
              "      --hover-bg-color: #E2EBFA;\n",
              "      --hover-fill-color: #174EA6;\n",
              "      --disabled-fill-color: #AAA;\n",
              "      --disabled-bg-color: #DDD;\n",
              "  }\n",
              "\n",
              "  [theme=dark] .colab-df-quickchart {\n",
              "      --bg-color: #3B4455;\n",
              "      --fill-color: #D2E3FC;\n",
              "      --hover-bg-color: #434B5C;\n",
              "      --hover-fill-color: #FFFFFF;\n",
              "      --disabled-bg-color: #3B4455;\n",
              "      --disabled-fill-color: #666;\n",
              "  }\n",
              "\n",
              "  .colab-df-quickchart {\n",
              "    background-color: var(--bg-color);\n",
              "    border: none;\n",
              "    border-radius: 50%;\n",
              "    cursor: pointer;\n",
              "    display: none;\n",
              "    fill: var(--fill-color);\n",
              "    height: 32px;\n",
              "    padding: 0;\n",
              "    width: 32px;\n",
              "  }\n",
              "\n",
              "  .colab-df-quickchart:hover {\n",
              "    background-color: var(--hover-bg-color);\n",
              "    box-shadow: 0 1px 2px rgba(60, 64, 67, 0.3), 0 1px 3px 1px rgba(60, 64, 67, 0.15);\n",
              "    fill: var(--button-hover-fill-color);\n",
              "  }\n",
              "\n",
              "  .colab-df-quickchart-complete:disabled,\n",
              "  .colab-df-quickchart-complete:disabled:hover {\n",
              "    background-color: var(--disabled-bg-color);\n",
              "    fill: var(--disabled-fill-color);\n",
              "    box-shadow: none;\n",
              "  }\n",
              "\n",
              "  .colab-df-spinner {\n",
              "    border: 2px solid var(--fill-color);\n",
              "    border-color: transparent;\n",
              "    border-bottom-color: var(--fill-color);\n",
              "    animation:\n",
              "      spin 1s steps(1) infinite;\n",
              "  }\n",
              "\n",
              "  @keyframes spin {\n",
              "    0% {\n",
              "      border-color: transparent;\n",
              "      border-bottom-color: var(--fill-color);\n",
              "      border-left-color: var(--fill-color);\n",
              "    }\n",
              "    20% {\n",
              "      border-color: transparent;\n",
              "      border-left-color: var(--fill-color);\n",
              "      border-top-color: var(--fill-color);\n",
              "    }\n",
              "    30% {\n",
              "      border-color: transparent;\n",
              "      border-left-color: var(--fill-color);\n",
              "      border-top-color: var(--fill-color);\n",
              "      border-right-color: var(--fill-color);\n",
              "    }\n",
              "    40% {\n",
              "      border-color: transparent;\n",
              "      border-right-color: var(--fill-color);\n",
              "      border-top-color: var(--fill-color);\n",
              "    }\n",
              "    60% {\n",
              "      border-color: transparent;\n",
              "      border-right-color: var(--fill-color);\n",
              "    }\n",
              "    80% {\n",
              "      border-color: transparent;\n",
              "      border-right-color: var(--fill-color);\n",
              "      border-bottom-color: var(--fill-color);\n",
              "    }\n",
              "    90% {\n",
              "      border-color: transparent;\n",
              "      border-bottom-color: var(--fill-color);\n",
              "    }\n",
              "  }\n",
              "</style>\n",
              "\n",
              "  <script>\n",
              "    async function quickchart(key) {\n",
              "      const quickchartButtonEl =\n",
              "        document.querySelector('#' + key + ' button');\n",
              "      quickchartButtonEl.disabled = true;  // To prevent multiple clicks.\n",
              "      quickchartButtonEl.classList.add('colab-df-spinner');\n",
              "      try {\n",
              "        const charts = await google.colab.kernel.invokeFunction(\n",
              "            'suggestCharts', [key], {});\n",
              "      } catch (error) {\n",
              "        console.error('Error during call to suggestCharts:', error);\n",
              "      }\n",
              "      quickchartButtonEl.classList.remove('colab-df-spinner');\n",
              "      quickchartButtonEl.classList.add('colab-df-quickchart-complete');\n",
              "    }\n",
              "    (() => {\n",
              "      let quickchartButtonEl =\n",
              "        document.querySelector('#df-a3581ce8-70d0-4b3f-81a0-146cda6fc7d7 button');\n",
              "      quickchartButtonEl.style.display =\n",
              "        google.colab.kernel.accessAllowed ? 'block' : 'none';\n",
              "    })();\n",
              "  </script>\n",
              "</div>\n",
              "\n",
              "    </div>\n",
              "  </div>\n"
            ],
            "application/vnd.google.colaboratory.intrinsic+json": {
              "type": "dataframe",
              "variable_name": "df"
            }
          },
          "metadata": {},
          "execution_count": 3
        }
      ]
    },
    {
      "cell_type": "markdown",
      "source": [
        "#**PREPROCESO DE DATOS**"
      ],
      "metadata": {
        "id": "XfMt5juQwe6l"
      }
    },
    {
      "cell_type": "markdown",
      "source": [
        "Antes de entrenar el modelo debemos realizar el mismo preprocesado de datos que realizamos en el notebook pasado, para poder realizar el entreno de la misma manera que con el resto de modelos que evaluamos."
      ],
      "metadata": {
        "id": "ndrYlDnbN4Hy"
      }
    },
    {
      "cell_type": "code",
      "source": [
        "# Identificar tipos de variables\n",
        "categorical_vars = df.select_dtypes(include=['object']).columns.tolist()\n",
        "numerical_vars = df.select_dtypes(include=['int64', 'float64']).columns.tolist()\n",
        "\n",
        "# Columnas constantes y de ID\n",
        "irrelevant_cols = ['Attrition', 'EmployeeID', 'EmployeeCount', 'StandardHours', 'Over18']\n",
        "categorical_vars = [col for col in categorical_vars if col not in irrelevant_cols]\n",
        "numerical_vars = [col for col in numerical_vars if col not in irrelevant_cols]\n",
        "\n",
        "# Retiramos las columnas innecesarias y hacemos la división entre train y test\n",
        "X = df.drop(columns=irrelevant_cols)\n",
        "# Como la variable 'Attrition' es YES o NO, entonces la convertimos a un valor\n",
        "# binario para el modelo\n",
        "y = df['Attrition'].map({'Yes': 1, 'No': 0})"
      ],
      "metadata": {
        "id": "WEpO99T_wnEY"
      },
      "execution_count": 4,
      "outputs": []
    },
    {
      "cell_type": "markdown",
      "source": [
        "#**ENTRENO DEL MODELO**"
      ],
      "metadata": {
        "id": "e7ySYakrw9fr"
      }
    },
    {
      "cell_type": "markdown",
      "source": [
        "Una vez realizado el preproceso de los datos pasamos a entrenar el modelo final, una SVM con 'C'=1.4, 'class_weight'= 'balanced' y el 'kernel'='rbf', con todos los datos y mediante el uso de pipelines."
      ],
      "metadata": {
        "id": "9ZR1ctJtOzdY"
      }
    },
    {
      "cell_type": "code",
      "source": [
        "# Preprocesador para datos numéricos: imputación con la mediana + escalado robusto\n",
        "num_transformer = Pipeline([\n",
        "    ('imputer', SimpleImputer(strategy='mean')),\n",
        "    ('scaler', RobustScaler())\n",
        "])\n",
        "\n",
        "# Preprocesador para datos categóricos: OneHotEncoding\n",
        "cat_transformer = Pipeline([\n",
        "    ('encoder', OneHotEncoder(handle_unknown='ignore'))\n",
        "])\n",
        "\n",
        "# Combinar ambos en un ColumnTransformer\n",
        "preprocessor = ColumnTransformer([\n",
        "    ('num', num_transformer, numerical_vars),\n",
        "    ('cat', cat_transformer, categorical_vars)\n",
        "])\n",
        "\n",
        "# Pipeline final con preprocesamiento y el modelo final y los mejores parámetros\n",
        "final_pipe = Pipeline([\n",
        "    ('preprocessor', preprocessor),\n",
        "    ('classifier', SVC(random_state=100477706, C=1.4, class_weight='balanced', kernel='rbf'))\n",
        "])\n",
        "\n",
        "# Entrenamos el modelo con los datos de train\n",
        "final_model = final_pipe.fit(X, y)"
      ],
      "metadata": {
        "id": "kBJUXS-rxD-N"
      },
      "execution_count": 5,
      "outputs": []
    },
    {
      "cell_type": "markdown",
      "source": [
        "#**PREDICCIONES DE COMPETICIÓN**"
      ],
      "metadata": {
        "id": "6zObSBKbxEd9"
      }
    },
    {
      "cell_type": "markdown",
      "source": [
        "Una vez tenemos nuestro modelo entrenado, vamos a utilizarlo para hacer predicciones con los datos de competición, para ello debemos cargar estos datos de la siguiente manera."
      ],
      "metadata": {
        "id": "gNxR3wxbP0VY"
      }
    },
    {
      "cell_type": "code",
      "source": [
        "cd = pd.read_csv(\"attrition_competition_06.csv.gz\", compression=\"gzip\", sep=\",\") #subir el archivo comprimido\n",
        "cd.head()"
      ],
      "metadata": {
        "id": "Q2uBr-67xJDu",
        "colab": {
          "base_uri": "https://localhost:8080/",
          "height": 307
        },
        "outputId": "7bd8442c-edcd-44a5-9117-6f6e762b377b"
      },
      "execution_count": 6,
      "outputs": [
        {
          "output_type": "execute_result",
          "data": {
            "text/plain": [
              "        hrs  absences  JobInvolvement  PerformanceRating  \\\n",
              "0  5.983730        20               2                  3   \n",
              "1  7.963643        13               3                  3   \n",
              "2  6.131380        10               3                  3   \n",
              "3  7.321722        16               2                  3   \n",
              "4  6.466932        14               3                  4   \n",
              "\n",
              "   EnvironmentSatisfaction  JobSatisfaction  WorkLifeBalance  Age  \\\n",
              "0                      4.0              3.0              3.0   50   \n",
              "1                      3.0              NaN              3.0   40   \n",
              "2                      3.0              3.0              3.0   42   \n",
              "3                      1.0              3.0              3.0   25   \n",
              "4                      3.0              3.0              3.0   34   \n",
              "\n",
              "  BusinessTravel              Department  ...  NumCompaniesWorked  Over18  \\\n",
              "0     Non-Travel         Human Resources  ...                 0.0       Y   \n",
              "1  Travel_Rarely                   Sales  ...                 1.0       Y   \n",
              "2     Non-Travel  Research & Development  ...                 2.0       Y   \n",
              "3  Travel_Rarely                   Sales  ...                 2.0       Y   \n",
              "4     Non-Travel  Research & Development  ...                 9.0       Y   \n",
              "\n",
              "  PercentSalaryHike  StandardHours  StockOptionLevel TotalWorkingYears  \\\n",
              "0                11              8                 0              19.0   \n",
              "1                12              8                 2              21.0   \n",
              "2                11              8                 1              11.0   \n",
              "3                14              8                 1               6.0   \n",
              "4                20              8                 1               6.0   \n",
              "\n",
              "   TrainingTimesLastYear YearsAtCompany YearsSinceLastPromotion  \\\n",
              "0                      3             18                       0   \n",
              "1                      4             21                       7   \n",
              "2                      2              5                       0   \n",
              "3                      3              2                       2   \n",
              "4                      3              3                       1   \n",
              "\n",
              "   YearsWithCurrManager  \n",
              "0                    13  \n",
              "1                     7  \n",
              "2                     2  \n",
              "3                     2  \n",
              "4                     2  \n",
              "\n",
              "[5 rows x 30 columns]"
            ],
            "text/html": [
              "\n",
              "  <div id=\"df-6f6815aa-f799-4022-b31e-8099299dec46\" class=\"colab-df-container\">\n",
              "    <div>\n",
              "<style scoped>\n",
              "    .dataframe tbody tr th:only-of-type {\n",
              "        vertical-align: middle;\n",
              "    }\n",
              "\n",
              "    .dataframe tbody tr th {\n",
              "        vertical-align: top;\n",
              "    }\n",
              "\n",
              "    .dataframe thead th {\n",
              "        text-align: right;\n",
              "    }\n",
              "</style>\n",
              "<table border=\"1\" class=\"dataframe\">\n",
              "  <thead>\n",
              "    <tr style=\"text-align: right;\">\n",
              "      <th></th>\n",
              "      <th>hrs</th>\n",
              "      <th>absences</th>\n",
              "      <th>JobInvolvement</th>\n",
              "      <th>PerformanceRating</th>\n",
              "      <th>EnvironmentSatisfaction</th>\n",
              "      <th>JobSatisfaction</th>\n",
              "      <th>WorkLifeBalance</th>\n",
              "      <th>Age</th>\n",
              "      <th>BusinessTravel</th>\n",
              "      <th>Department</th>\n",
              "      <th>...</th>\n",
              "      <th>NumCompaniesWorked</th>\n",
              "      <th>Over18</th>\n",
              "      <th>PercentSalaryHike</th>\n",
              "      <th>StandardHours</th>\n",
              "      <th>StockOptionLevel</th>\n",
              "      <th>TotalWorkingYears</th>\n",
              "      <th>TrainingTimesLastYear</th>\n",
              "      <th>YearsAtCompany</th>\n",
              "      <th>YearsSinceLastPromotion</th>\n",
              "      <th>YearsWithCurrManager</th>\n",
              "    </tr>\n",
              "  </thead>\n",
              "  <tbody>\n",
              "    <tr>\n",
              "      <th>0</th>\n",
              "      <td>5.983730</td>\n",
              "      <td>20</td>\n",
              "      <td>2</td>\n",
              "      <td>3</td>\n",
              "      <td>4.0</td>\n",
              "      <td>3.0</td>\n",
              "      <td>3.0</td>\n",
              "      <td>50</td>\n",
              "      <td>Non-Travel</td>\n",
              "      <td>Human Resources</td>\n",
              "      <td>...</td>\n",
              "      <td>0.0</td>\n",
              "      <td>Y</td>\n",
              "      <td>11</td>\n",
              "      <td>8</td>\n",
              "      <td>0</td>\n",
              "      <td>19.0</td>\n",
              "      <td>3</td>\n",
              "      <td>18</td>\n",
              "      <td>0</td>\n",
              "      <td>13</td>\n",
              "    </tr>\n",
              "    <tr>\n",
              "      <th>1</th>\n",
              "      <td>7.963643</td>\n",
              "      <td>13</td>\n",
              "      <td>3</td>\n",
              "      <td>3</td>\n",
              "      <td>3.0</td>\n",
              "      <td>NaN</td>\n",
              "      <td>3.0</td>\n",
              "      <td>40</td>\n",
              "      <td>Travel_Rarely</td>\n",
              "      <td>Sales</td>\n",
              "      <td>...</td>\n",
              "      <td>1.0</td>\n",
              "      <td>Y</td>\n",
              "      <td>12</td>\n",
              "      <td>8</td>\n",
              "      <td>2</td>\n",
              "      <td>21.0</td>\n",
              "      <td>4</td>\n",
              "      <td>21</td>\n",
              "      <td>7</td>\n",
              "      <td>7</td>\n",
              "    </tr>\n",
              "    <tr>\n",
              "      <th>2</th>\n",
              "      <td>6.131380</td>\n",
              "      <td>10</td>\n",
              "      <td>3</td>\n",
              "      <td>3</td>\n",
              "      <td>3.0</td>\n",
              "      <td>3.0</td>\n",
              "      <td>3.0</td>\n",
              "      <td>42</td>\n",
              "      <td>Non-Travel</td>\n",
              "      <td>Research &amp; Development</td>\n",
              "      <td>...</td>\n",
              "      <td>2.0</td>\n",
              "      <td>Y</td>\n",
              "      <td>11</td>\n",
              "      <td>8</td>\n",
              "      <td>1</td>\n",
              "      <td>11.0</td>\n",
              "      <td>2</td>\n",
              "      <td>5</td>\n",
              "      <td>0</td>\n",
              "      <td>2</td>\n",
              "    </tr>\n",
              "    <tr>\n",
              "      <th>3</th>\n",
              "      <td>7.321722</td>\n",
              "      <td>16</td>\n",
              "      <td>2</td>\n",
              "      <td>3</td>\n",
              "      <td>1.0</td>\n",
              "      <td>3.0</td>\n",
              "      <td>3.0</td>\n",
              "      <td>25</td>\n",
              "      <td>Travel_Rarely</td>\n",
              "      <td>Sales</td>\n",
              "      <td>...</td>\n",
              "      <td>2.0</td>\n",
              "      <td>Y</td>\n",
              "      <td>14</td>\n",
              "      <td>8</td>\n",
              "      <td>1</td>\n",
              "      <td>6.0</td>\n",
              "      <td>3</td>\n",
              "      <td>2</td>\n",
              "      <td>2</td>\n",
              "      <td>2</td>\n",
              "    </tr>\n",
              "    <tr>\n",
              "      <th>4</th>\n",
              "      <td>6.466932</td>\n",
              "      <td>14</td>\n",
              "      <td>3</td>\n",
              "      <td>4</td>\n",
              "      <td>3.0</td>\n",
              "      <td>3.0</td>\n",
              "      <td>3.0</td>\n",
              "      <td>34</td>\n",
              "      <td>Non-Travel</td>\n",
              "      <td>Research &amp; Development</td>\n",
              "      <td>...</td>\n",
              "      <td>9.0</td>\n",
              "      <td>Y</td>\n",
              "      <td>20</td>\n",
              "      <td>8</td>\n",
              "      <td>1</td>\n",
              "      <td>6.0</td>\n",
              "      <td>3</td>\n",
              "      <td>3</td>\n",
              "      <td>1</td>\n",
              "      <td>2</td>\n",
              "    </tr>\n",
              "  </tbody>\n",
              "</table>\n",
              "<p>5 rows × 30 columns</p>\n",
              "</div>\n",
              "    <div class=\"colab-df-buttons\">\n",
              "\n",
              "  <div class=\"colab-df-container\">\n",
              "    <button class=\"colab-df-convert\" onclick=\"convertToInteractive('df-6f6815aa-f799-4022-b31e-8099299dec46')\"\n",
              "            title=\"Convert this dataframe to an interactive table.\"\n",
              "            style=\"display:none;\">\n",
              "\n",
              "  <svg xmlns=\"http://www.w3.org/2000/svg\" height=\"24px\" viewBox=\"0 -960 960 960\">\n",
              "    <path d=\"M120-120v-720h720v720H120Zm60-500h600v-160H180v160Zm220 220h160v-160H400v160Zm0 220h160v-160H400v160ZM180-400h160v-160H180v160Zm440 0h160v-160H620v160ZM180-180h160v-160H180v160Zm440 0h160v-160H620v160Z\"/>\n",
              "  </svg>\n",
              "    </button>\n",
              "\n",
              "  <style>\n",
              "    .colab-df-container {\n",
              "      display:flex;\n",
              "      gap: 12px;\n",
              "    }\n",
              "\n",
              "    .colab-df-convert {\n",
              "      background-color: #E8F0FE;\n",
              "      border: none;\n",
              "      border-radius: 50%;\n",
              "      cursor: pointer;\n",
              "      display: none;\n",
              "      fill: #1967D2;\n",
              "      height: 32px;\n",
              "      padding: 0 0 0 0;\n",
              "      width: 32px;\n",
              "    }\n",
              "\n",
              "    .colab-df-convert:hover {\n",
              "      background-color: #E2EBFA;\n",
              "      box-shadow: 0px 1px 2px rgba(60, 64, 67, 0.3), 0px 1px 3px 1px rgba(60, 64, 67, 0.15);\n",
              "      fill: #174EA6;\n",
              "    }\n",
              "\n",
              "    .colab-df-buttons div {\n",
              "      margin-bottom: 4px;\n",
              "    }\n",
              "\n",
              "    [theme=dark] .colab-df-convert {\n",
              "      background-color: #3B4455;\n",
              "      fill: #D2E3FC;\n",
              "    }\n",
              "\n",
              "    [theme=dark] .colab-df-convert:hover {\n",
              "      background-color: #434B5C;\n",
              "      box-shadow: 0px 1px 3px 1px rgba(0, 0, 0, 0.15);\n",
              "      filter: drop-shadow(0px 1px 2px rgba(0, 0, 0, 0.3));\n",
              "      fill: #FFFFFF;\n",
              "    }\n",
              "  </style>\n",
              "\n",
              "    <script>\n",
              "      const buttonEl =\n",
              "        document.querySelector('#df-6f6815aa-f799-4022-b31e-8099299dec46 button.colab-df-convert');\n",
              "      buttonEl.style.display =\n",
              "        google.colab.kernel.accessAllowed ? 'block' : 'none';\n",
              "\n",
              "      async function convertToInteractive(key) {\n",
              "        const element = document.querySelector('#df-6f6815aa-f799-4022-b31e-8099299dec46');\n",
              "        const dataTable =\n",
              "          await google.colab.kernel.invokeFunction('convertToInteractive',\n",
              "                                                    [key], {});\n",
              "        if (!dataTable) return;\n",
              "\n",
              "        const docLinkHtml = 'Like what you see? Visit the ' +\n",
              "          '<a target=\"_blank\" href=https://colab.research.google.com/notebooks/data_table.ipynb>data table notebook</a>'\n",
              "          + ' to learn more about interactive tables.';\n",
              "        element.innerHTML = '';\n",
              "        dataTable['output_type'] = 'display_data';\n",
              "        await google.colab.output.renderOutput(dataTable, element);\n",
              "        const docLink = document.createElement('div');\n",
              "        docLink.innerHTML = docLinkHtml;\n",
              "        element.appendChild(docLink);\n",
              "      }\n",
              "    </script>\n",
              "  </div>\n",
              "\n",
              "\n",
              "<div id=\"df-442ac8f1-fa78-469c-bc4f-82542136edde\">\n",
              "  <button class=\"colab-df-quickchart\" onclick=\"quickchart('df-442ac8f1-fa78-469c-bc4f-82542136edde')\"\n",
              "            title=\"Suggest charts\"\n",
              "            style=\"display:none;\">\n",
              "\n",
              "<svg xmlns=\"http://www.w3.org/2000/svg\" height=\"24px\"viewBox=\"0 0 24 24\"\n",
              "     width=\"24px\">\n",
              "    <g>\n",
              "        <path d=\"M19 3H5c-1.1 0-2 .9-2 2v14c0 1.1.9 2 2 2h14c1.1 0 2-.9 2-2V5c0-1.1-.9-2-2-2zM9 17H7v-7h2v7zm4 0h-2V7h2v10zm4 0h-2v-4h2v4z\"/>\n",
              "    </g>\n",
              "</svg>\n",
              "  </button>\n",
              "\n",
              "<style>\n",
              "  .colab-df-quickchart {\n",
              "      --bg-color: #E8F0FE;\n",
              "      --fill-color: #1967D2;\n",
              "      --hover-bg-color: #E2EBFA;\n",
              "      --hover-fill-color: #174EA6;\n",
              "      --disabled-fill-color: #AAA;\n",
              "      --disabled-bg-color: #DDD;\n",
              "  }\n",
              "\n",
              "  [theme=dark] .colab-df-quickchart {\n",
              "      --bg-color: #3B4455;\n",
              "      --fill-color: #D2E3FC;\n",
              "      --hover-bg-color: #434B5C;\n",
              "      --hover-fill-color: #FFFFFF;\n",
              "      --disabled-bg-color: #3B4455;\n",
              "      --disabled-fill-color: #666;\n",
              "  }\n",
              "\n",
              "  .colab-df-quickchart {\n",
              "    background-color: var(--bg-color);\n",
              "    border: none;\n",
              "    border-radius: 50%;\n",
              "    cursor: pointer;\n",
              "    display: none;\n",
              "    fill: var(--fill-color);\n",
              "    height: 32px;\n",
              "    padding: 0;\n",
              "    width: 32px;\n",
              "  }\n",
              "\n",
              "  .colab-df-quickchart:hover {\n",
              "    background-color: var(--hover-bg-color);\n",
              "    box-shadow: 0 1px 2px rgba(60, 64, 67, 0.3), 0 1px 3px 1px rgba(60, 64, 67, 0.15);\n",
              "    fill: var(--button-hover-fill-color);\n",
              "  }\n",
              "\n",
              "  .colab-df-quickchart-complete:disabled,\n",
              "  .colab-df-quickchart-complete:disabled:hover {\n",
              "    background-color: var(--disabled-bg-color);\n",
              "    fill: var(--disabled-fill-color);\n",
              "    box-shadow: none;\n",
              "  }\n",
              "\n",
              "  .colab-df-spinner {\n",
              "    border: 2px solid var(--fill-color);\n",
              "    border-color: transparent;\n",
              "    border-bottom-color: var(--fill-color);\n",
              "    animation:\n",
              "      spin 1s steps(1) infinite;\n",
              "  }\n",
              "\n",
              "  @keyframes spin {\n",
              "    0% {\n",
              "      border-color: transparent;\n",
              "      border-bottom-color: var(--fill-color);\n",
              "      border-left-color: var(--fill-color);\n",
              "    }\n",
              "    20% {\n",
              "      border-color: transparent;\n",
              "      border-left-color: var(--fill-color);\n",
              "      border-top-color: var(--fill-color);\n",
              "    }\n",
              "    30% {\n",
              "      border-color: transparent;\n",
              "      border-left-color: var(--fill-color);\n",
              "      border-top-color: var(--fill-color);\n",
              "      border-right-color: var(--fill-color);\n",
              "    }\n",
              "    40% {\n",
              "      border-color: transparent;\n",
              "      border-right-color: var(--fill-color);\n",
              "      border-top-color: var(--fill-color);\n",
              "    }\n",
              "    60% {\n",
              "      border-color: transparent;\n",
              "      border-right-color: var(--fill-color);\n",
              "    }\n",
              "    80% {\n",
              "      border-color: transparent;\n",
              "      border-right-color: var(--fill-color);\n",
              "      border-bottom-color: var(--fill-color);\n",
              "    }\n",
              "    90% {\n",
              "      border-color: transparent;\n",
              "      border-bottom-color: var(--fill-color);\n",
              "    }\n",
              "  }\n",
              "</style>\n",
              "\n",
              "  <script>\n",
              "    async function quickchart(key) {\n",
              "      const quickchartButtonEl =\n",
              "        document.querySelector('#' + key + ' button');\n",
              "      quickchartButtonEl.disabled = true;  // To prevent multiple clicks.\n",
              "      quickchartButtonEl.classList.add('colab-df-spinner');\n",
              "      try {\n",
              "        const charts = await google.colab.kernel.invokeFunction(\n",
              "            'suggestCharts', [key], {});\n",
              "      } catch (error) {\n",
              "        console.error('Error during call to suggestCharts:', error);\n",
              "      }\n",
              "      quickchartButtonEl.classList.remove('colab-df-spinner');\n",
              "      quickchartButtonEl.classList.add('colab-df-quickchart-complete');\n",
              "    }\n",
              "    (() => {\n",
              "      let quickchartButtonEl =\n",
              "        document.querySelector('#df-442ac8f1-fa78-469c-bc4f-82542136edde button');\n",
              "      quickchartButtonEl.style.display =\n",
              "        google.colab.kernel.accessAllowed ? 'block' : 'none';\n",
              "    })();\n",
              "  </script>\n",
              "</div>\n",
              "\n",
              "    </div>\n",
              "  </div>\n"
            ],
            "application/vnd.google.colaboratory.intrinsic+json": {
              "type": "dataframe",
              "variable_name": "cd"
            }
          },
          "metadata": {},
          "execution_count": 6
        }
      ]
    },
    {
      "cell_type": "markdown",
      "source": [
        "Podemos ver que son los mismos datos que los de entrenamiento, pero falta el atributo Atrittion, el cuál es el que vamos a predecir"
      ],
      "metadata": {
        "id": "YPRfiVCmQUBi"
      }
    },
    {
      "cell_type": "markdown",
      "source": [
        "##**Preproceso de datos en las variables de competicion**"
      ],
      "metadata": {
        "id": "wGjAzHU_HyLP"
      }
    },
    {
      "cell_type": "markdown",
      "source": [
        "Antes de hacer las prediccion debemos pasar los datos de competición por el mismo preproceso que los datos de entrenamiento, para que el modelo pueda predecirlos correctamente. Ya después podremos realizar la estimación sin ningún problema."
      ],
      "metadata": {
        "id": "_DIun3RGQpNW"
      }
    },
    {
      "cell_type": "code",
      "source": [
        "# Identificar tipos de variables\n",
        "competition_categorical_vars = cd.select_dtypes(include=['object']).columns.tolist()\n",
        "competition_numerical_vars = cd.select_dtypes(include=['int64', 'float64']).columns.tolist()\n",
        "\n",
        "# Columnas constantes y de ID\n",
        "competition_irrelevant_cols = ['EmployeeID', 'EmployeeCount', 'StandardHours', 'Over18']\n",
        "competition_categorical_vars = [col for col in competition_categorical_vars if col not in competition_irrelevant_cols]\n",
        "competition_numerical_vars = [col for col in competition_numerical_vars if col not in competition_irrelevant_cols]\n",
        "\n",
        "# Retiramos las columnas innecesarias y hacemos la división entre train y test\n",
        "X = cd.drop(columns=competition_irrelevant_cols)\n",
        "predictions = final_model.predict(X)"
      ],
      "metadata": {
        "id": "3mI2ICLCH3_5"
      },
      "execution_count": 7,
      "outputs": []
    },
    {
      "cell_type": "markdown",
      "source": [
        "Una vez ya hemos hecho este preproceso y la estimación debemos pasar las predicciones a un fichero, para ello vamos a mapear nuestras predicciones, que son 0 y 1, a No y Si como se encontraban inicialmente en los datos. Esto lo haremos para que sea más fácil de leer y comprender para una persona."
      ],
      "metadata": {
        "id": "t0m_snzlRNub"
      }
    },
    {
      "cell_type": "code",
      "source": [
        "predictions_series = pd.Series(predictions)\n",
        "print(predictions_series.value_counts(normalize=True))"
      ],
      "metadata": {
        "colab": {
          "base_uri": "https://localhost:8080/"
        },
        "id": "in2-IhUtIrKb",
        "outputId": "4a405782-652f-49d4-e082-c1bbebc0acf6"
      },
      "execution_count": 8,
      "outputs": [
        {
          "output_type": "stream",
          "name": "stdout",
          "text": [
            "0    0.806122\n",
            "1    0.193878\n",
            "Name: proportion, dtype: float64\n"
          ]
        }
      ]
    },
    {
      "cell_type": "code",
      "source": [
        "atrition_df = pd.Series(predictions).map({1: 'Yes', 0: 'No'})\n",
        "predictions_series = pd.Series(atrition_df)\n",
        "print(predictions_series.value_counts(normalize=True))"
      ],
      "metadata": {
        "colab": {
          "base_uri": "https://localhost:8080/"
        },
        "id": "b1N5drxzMGwS",
        "outputId": "1e67a9a4-8514-4b3d-d99c-3af6e7746bcd"
      },
      "execution_count": 9,
      "outputs": [
        {
          "output_type": "stream",
          "name": "stdout",
          "text": [
            "No     0.806122\n",
            "Yes    0.193878\n",
            "Name: proportion, dtype: float64\n"
          ]
        }
      ]
    },
    {
      "cell_type": "markdown",
      "source": [
        "Aquí sacamos las proporciones iniciales de 0 (No) y 1(Si) antes de convertir los datos y luego volvimos a calcular estas proporciones con los datos convertidos. Esto lo hicimos para asegurarnos que se realizo la conversión de la manera correcta y que no hubo ningún fallo, lo que podemos observar al ser las proporciones las mismas.\n",
        "\n",
        "Ahora pasamos a guardar el modelo final en un archivo pkl y a guardar los datos de predicción en un fichero csv, para ello vamos a crear un dataframe con las predicciones y el ID de los empleados, para que la persona que vaya a revisar este fichero pueda identficar a cualquier empleado sin problema y pueda ver lo que nuestro modelo ha estimado."
      ],
      "metadata": {
        "id": "GGMzzDSXU83L"
      }
    },
    {
      "cell_type": "code",
      "source": [
        "joblib.dump(final_model, 'modelo_final.pkl')"
      ],
      "metadata": {
        "id": "ol8sLZg_Ysoy",
        "outputId": "a678c13d-6d5e-4d8a-a913-09a666055289",
        "colab": {
          "base_uri": "https://localhost:8080/"
        }
      },
      "execution_count": 10,
      "outputs": [
        {
          "output_type": "execute_result",
          "data": {
            "text/plain": [
              "['modelo_final.pkl']"
            ]
          },
          "metadata": {},
          "execution_count": 10
        }
      ]
    },
    {
      "cell_type": "code",
      "source": [
        "predictions_df = pd.DataFrame({'EmployeeID': cd['EmployeeID'], 'Attrition':atrition_df })\n",
        "predictions_df.to_csv('predicciones.csv', index=False)\n",
        "\n",
        "# Read the CSV file into a pandas DataFrame\n",
        "predictions_df = pd.read_csv('predicciones.csv')\n",
        "\n",
        "# Display the contents of the DataFrame\n",
        "print(predictions_df)"
      ],
      "metadata": {
        "colab": {
          "base_uri": "https://localhost:8080/"
        },
        "id": "YMMnSwI9NmUF",
        "outputId": "2140d5c7-bdca-4507-c89b-c5c476e42cc9"
      },
      "execution_count": 11,
      "outputs": [
        {
          "output_type": "stream",
          "name": "stdout",
          "text": [
            "      EmployeeID Attrition\n",
            "0           1964        No\n",
            "1           3779        No\n",
            "2           4350        No\n",
            "3           4291        No\n",
            "4           3076        No\n",
            "...          ...       ...\n",
            "1465        1591       Yes\n",
            "1466         962        No\n",
            "1467        1212        No\n",
            "1468        3691        No\n",
            "1469        3535        No\n",
            "\n",
            "[1470 rows x 2 columns]\n"
          ]
        }
      ]
    },
    {
      "cell_type": "markdown",
      "source": [
        "Podemos ver que nuestro archivo de predicciones quedó como se había planteado, con una columna para el ID de los empleados y otra con la predicción del modelo para dicho empleado."
      ],
      "metadata": {
        "id": "0fgnlOamVr2x"
      }
    },
    {
      "cell_type": "markdown",
      "source": [
        "# **ANEXO: DECLARACIÓN DE USO DE IA**"
      ],
      "metadata": {
        "id": "f5p7NfODWTPH"
      }
    },
    {
      "cell_type": "markdown",
      "source": [
        "En este notebook utilizamos Inteligencia Artificial para poder pasar las predicciones finales a un archivo csv."
      ],
      "metadata": {
        "id": "A4eFBbnaWUKG"
      }
    }
  ]
}