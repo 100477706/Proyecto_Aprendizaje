{
  "nbformat": 4,
  "nbformat_minor": 0,
  "metadata": {
    "colab": {
      "provenance": [],
      "include_colab_link": true
    },
    "kernelspec": {
      "name": "python3",
      "display_name": "Python 3"
    },
    "language_info": {
      "name": "python"
    }
  },
  "cells": [
    {
      "cell_type": "markdown",
      "metadata": {
        "id": "view-in-github",
        "colab_type": "text"
      },
      "source": [
        "<a href=\"https://colab.research.google.com/github/100477706/Proyecto_Aprendizaje/blob/main/modelo_final.ipynb\" target=\"_parent\"><img src=\"https://colab.research.google.com/assets/colab-badge.svg\" alt=\"Open In Colab\"/></a>"
      ]
    },
    {
      "cell_type": "markdown",
      "source": [
        "# **0. IDENTIFICACIÓN DE ESTUDIANTES**\n",
        "\n",
        "---\n"
      ],
      "metadata": {
        "id": "hA2601svZbm6"
      }
    },
    {
      "cell_type": "markdown",
      "source": [
        "**Grupo de Trabajo**: 27\n",
        "\n",
        "Gabriel José Rivera Amor - 100477706@alumnos.uc3m.es\n",
        "\n",
        "Santiago José Díaz Rodríguez - 100479095@alumnos.uc3m.es\n",
        "\n",
        "Enlace Github: https://github.com/100477706/Proyecto_Aprendizaje.git"
      ],
      "metadata": {
        "id": "kJqW3egKZcmE"
      }
    },
    {
      "cell_type": "markdown",
      "source": [
        "#**MODELO FINAL**"
      ],
      "metadata": {
        "id": "UKTGO00hoRWK"
      }
    },
    {
      "cell_type": "markdown",
      "source": [
        "En el notebook de predicciones entrenamos distintos modelos, ajustando sus hiperparámetros, y los evaluamos utilizando el método de validación cruzada (inner) para escoger el mejor de ellos. El modélo escogido termino siendo la SVM con los parámetros 'C' = 1.4, 'class_weight' = 'balanced' y 'kernel'= 'rbf', el cuál evaluamos con el método holdout (outer) para obtener la prédicción de cómo va a desepeñarse el mismo en el futuro y en la competición, este score fue de 85%. Ahora debemos pasar a utilizar el modelo para predecir los datos de competicion"
      ],
      "metadata": {
        "id": "xQ_SAutdoVgC"
      }
    },
    {
      "cell_type": "markdown",
      "source": [
        "#**CARGA DE DATOS**"
      ],
      "metadata": {
        "id": "2amzDI8cvz9F"
      }
    },
    {
      "cell_type": "markdown",
      "source": [
        "Para poder precedir los datod de competición debemos cargar las librerías necesarias y los propios datos de competicion."
      ],
      "metadata": {
        "id": "VaZmfuTIv8dT"
      }
    },
    {
      "cell_type": "code",
      "source": [
        "!pip install joblib==1.3.2"
      ],
      "metadata": {
        "colab": {
          "base_uri": "https://localhost:8080/"
        },
        "id": "aAJrHIVoYk-5",
        "outputId": "c743f996-afd2-4dfa-9c5f-eb0dff280006"
      },
      "execution_count": 12,
      "outputs": [
        {
          "output_type": "stream",
          "name": "stdout",
          "text": [
            "Requirement already satisfied: joblib==1.3.2 in /usr/local/lib/python3.11/dist-packages (1.3.2)\n"
          ]
        }
      ]
    },
    {
      "cell_type": "code",
      "execution_count": 13,
      "metadata": {
        "id": "l6SLrYw6BMup"
      },
      "outputs": [],
      "source": [
        "import pandas as pd\n",
        "from sklearn.metrics import balanced_accuracy_score\n",
        "from sklearn.preprocessing import RobustScaler, OneHotEncoder\n",
        "from sklearn.impute import SimpleImputer\n",
        "from sklearn.pipeline import Pipeline\n",
        "from sklearn.metrics import precision_score\n",
        "from sklearn.compose import ColumnTransformer\n",
        "from sklearn import metrics\n",
        "import numpy as np\n",
        "import joblib"
      ]
    },
    {
      "cell_type": "code",
      "source": [
        "cd = pd.read_csv(\"attrition_competition_06.csv.gz\", compression=\"gzip\", sep=\",\") #subir el archivo comprimido\n",
        "cd.head()"
      ],
      "metadata": {
        "id": "XJN3WnuYg-Fc",
        "outputId": "da28c653-f217-4742-822e-4c587b019b72",
        "colab": {
          "base_uri": "https://localhost:8080/",
          "height": 307
        }
      },
      "execution_count": 33,
      "outputs": [
        {
          "output_type": "execute_result",
          "data": {
            "text/plain": [
              "        hrs  absences  JobInvolvement  PerformanceRating  \\\n",
              "0  5.983730        20               2                  3   \n",
              "1  7.963643        13               3                  3   \n",
              "2  6.131380        10               3                  3   \n",
              "3  7.321722        16               2                  3   \n",
              "4  6.466932        14               3                  4   \n",
              "\n",
              "   EnvironmentSatisfaction  JobSatisfaction  WorkLifeBalance  Age  \\\n",
              "0                      4.0              3.0              3.0   50   \n",
              "1                      3.0              NaN              3.0   40   \n",
              "2                      3.0              3.0              3.0   42   \n",
              "3                      1.0              3.0              3.0   25   \n",
              "4                      3.0              3.0              3.0   34   \n",
              "\n",
              "  BusinessTravel              Department  ...  NumCompaniesWorked  Over18  \\\n",
              "0     Non-Travel         Human Resources  ...                 0.0       Y   \n",
              "1  Travel_Rarely                   Sales  ...                 1.0       Y   \n",
              "2     Non-Travel  Research & Development  ...                 2.0       Y   \n",
              "3  Travel_Rarely                   Sales  ...                 2.0       Y   \n",
              "4     Non-Travel  Research & Development  ...                 9.0       Y   \n",
              "\n",
              "  PercentSalaryHike  StandardHours  StockOptionLevel TotalWorkingYears  \\\n",
              "0                11              8                 0              19.0   \n",
              "1                12              8                 2              21.0   \n",
              "2                11              8                 1              11.0   \n",
              "3                14              8                 1               6.0   \n",
              "4                20              8                 1               6.0   \n",
              "\n",
              "   TrainingTimesLastYear YearsAtCompany YearsSinceLastPromotion  \\\n",
              "0                      3             18                       0   \n",
              "1                      4             21                       7   \n",
              "2                      2              5                       0   \n",
              "3                      3              2                       2   \n",
              "4                      3              3                       1   \n",
              "\n",
              "   YearsWithCurrManager  \n",
              "0                    13  \n",
              "1                     7  \n",
              "2                     2  \n",
              "3                     2  \n",
              "4                     2  \n",
              "\n",
              "[5 rows x 30 columns]"
            ],
            "text/html": [
              "\n",
              "  <div id=\"df-85fd1d50-a6a8-4b5c-9e1f-c31d865b21d4\" class=\"colab-df-container\">\n",
              "    <div>\n",
              "<style scoped>\n",
              "    .dataframe tbody tr th:only-of-type {\n",
              "        vertical-align: middle;\n",
              "    }\n",
              "\n",
              "    .dataframe tbody tr th {\n",
              "        vertical-align: top;\n",
              "    }\n",
              "\n",
              "    .dataframe thead th {\n",
              "        text-align: right;\n",
              "    }\n",
              "</style>\n",
              "<table border=\"1\" class=\"dataframe\">\n",
              "  <thead>\n",
              "    <tr style=\"text-align: right;\">\n",
              "      <th></th>\n",
              "      <th>hrs</th>\n",
              "      <th>absences</th>\n",
              "      <th>JobInvolvement</th>\n",
              "      <th>PerformanceRating</th>\n",
              "      <th>EnvironmentSatisfaction</th>\n",
              "      <th>JobSatisfaction</th>\n",
              "      <th>WorkLifeBalance</th>\n",
              "      <th>Age</th>\n",
              "      <th>BusinessTravel</th>\n",
              "      <th>Department</th>\n",
              "      <th>...</th>\n",
              "      <th>NumCompaniesWorked</th>\n",
              "      <th>Over18</th>\n",
              "      <th>PercentSalaryHike</th>\n",
              "      <th>StandardHours</th>\n",
              "      <th>StockOptionLevel</th>\n",
              "      <th>TotalWorkingYears</th>\n",
              "      <th>TrainingTimesLastYear</th>\n",
              "      <th>YearsAtCompany</th>\n",
              "      <th>YearsSinceLastPromotion</th>\n",
              "      <th>YearsWithCurrManager</th>\n",
              "    </tr>\n",
              "  </thead>\n",
              "  <tbody>\n",
              "    <tr>\n",
              "      <th>0</th>\n",
              "      <td>5.983730</td>\n",
              "      <td>20</td>\n",
              "      <td>2</td>\n",
              "      <td>3</td>\n",
              "      <td>4.0</td>\n",
              "      <td>3.0</td>\n",
              "      <td>3.0</td>\n",
              "      <td>50</td>\n",
              "      <td>Non-Travel</td>\n",
              "      <td>Human Resources</td>\n",
              "      <td>...</td>\n",
              "      <td>0.0</td>\n",
              "      <td>Y</td>\n",
              "      <td>11</td>\n",
              "      <td>8</td>\n",
              "      <td>0</td>\n",
              "      <td>19.0</td>\n",
              "      <td>3</td>\n",
              "      <td>18</td>\n",
              "      <td>0</td>\n",
              "      <td>13</td>\n",
              "    </tr>\n",
              "    <tr>\n",
              "      <th>1</th>\n",
              "      <td>7.963643</td>\n",
              "      <td>13</td>\n",
              "      <td>3</td>\n",
              "      <td>3</td>\n",
              "      <td>3.0</td>\n",
              "      <td>NaN</td>\n",
              "      <td>3.0</td>\n",
              "      <td>40</td>\n",
              "      <td>Travel_Rarely</td>\n",
              "      <td>Sales</td>\n",
              "      <td>...</td>\n",
              "      <td>1.0</td>\n",
              "      <td>Y</td>\n",
              "      <td>12</td>\n",
              "      <td>8</td>\n",
              "      <td>2</td>\n",
              "      <td>21.0</td>\n",
              "      <td>4</td>\n",
              "      <td>21</td>\n",
              "      <td>7</td>\n",
              "      <td>7</td>\n",
              "    </tr>\n",
              "    <tr>\n",
              "      <th>2</th>\n",
              "      <td>6.131380</td>\n",
              "      <td>10</td>\n",
              "      <td>3</td>\n",
              "      <td>3</td>\n",
              "      <td>3.0</td>\n",
              "      <td>3.0</td>\n",
              "      <td>3.0</td>\n",
              "      <td>42</td>\n",
              "      <td>Non-Travel</td>\n",
              "      <td>Research &amp; Development</td>\n",
              "      <td>...</td>\n",
              "      <td>2.0</td>\n",
              "      <td>Y</td>\n",
              "      <td>11</td>\n",
              "      <td>8</td>\n",
              "      <td>1</td>\n",
              "      <td>11.0</td>\n",
              "      <td>2</td>\n",
              "      <td>5</td>\n",
              "      <td>0</td>\n",
              "      <td>2</td>\n",
              "    </tr>\n",
              "    <tr>\n",
              "      <th>3</th>\n",
              "      <td>7.321722</td>\n",
              "      <td>16</td>\n",
              "      <td>2</td>\n",
              "      <td>3</td>\n",
              "      <td>1.0</td>\n",
              "      <td>3.0</td>\n",
              "      <td>3.0</td>\n",
              "      <td>25</td>\n",
              "      <td>Travel_Rarely</td>\n",
              "      <td>Sales</td>\n",
              "      <td>...</td>\n",
              "      <td>2.0</td>\n",
              "      <td>Y</td>\n",
              "      <td>14</td>\n",
              "      <td>8</td>\n",
              "      <td>1</td>\n",
              "      <td>6.0</td>\n",
              "      <td>3</td>\n",
              "      <td>2</td>\n",
              "      <td>2</td>\n",
              "      <td>2</td>\n",
              "    </tr>\n",
              "    <tr>\n",
              "      <th>4</th>\n",
              "      <td>6.466932</td>\n",
              "      <td>14</td>\n",
              "      <td>3</td>\n",
              "      <td>4</td>\n",
              "      <td>3.0</td>\n",
              "      <td>3.0</td>\n",
              "      <td>3.0</td>\n",
              "      <td>34</td>\n",
              "      <td>Non-Travel</td>\n",
              "      <td>Research &amp; Development</td>\n",
              "      <td>...</td>\n",
              "      <td>9.0</td>\n",
              "      <td>Y</td>\n",
              "      <td>20</td>\n",
              "      <td>8</td>\n",
              "      <td>1</td>\n",
              "      <td>6.0</td>\n",
              "      <td>3</td>\n",
              "      <td>3</td>\n",
              "      <td>1</td>\n",
              "      <td>2</td>\n",
              "    </tr>\n",
              "  </tbody>\n",
              "</table>\n",
              "<p>5 rows × 30 columns</p>\n",
              "</div>\n",
              "    <div class=\"colab-df-buttons\">\n",
              "\n",
              "  <div class=\"colab-df-container\">\n",
              "    <button class=\"colab-df-convert\" onclick=\"convertToInteractive('df-85fd1d50-a6a8-4b5c-9e1f-c31d865b21d4')\"\n",
              "            title=\"Convert this dataframe to an interactive table.\"\n",
              "            style=\"display:none;\">\n",
              "\n",
              "  <svg xmlns=\"http://www.w3.org/2000/svg\" height=\"24px\" viewBox=\"0 -960 960 960\">\n",
              "    <path d=\"M120-120v-720h720v720H120Zm60-500h600v-160H180v160Zm220 220h160v-160H400v160Zm0 220h160v-160H400v160ZM180-400h160v-160H180v160Zm440 0h160v-160H620v160ZM180-180h160v-160H180v160Zm440 0h160v-160H620v160Z\"/>\n",
              "  </svg>\n",
              "    </button>\n",
              "\n",
              "  <style>\n",
              "    .colab-df-container {\n",
              "      display:flex;\n",
              "      gap: 12px;\n",
              "    }\n",
              "\n",
              "    .colab-df-convert {\n",
              "      background-color: #E8F0FE;\n",
              "      border: none;\n",
              "      border-radius: 50%;\n",
              "      cursor: pointer;\n",
              "      display: none;\n",
              "      fill: #1967D2;\n",
              "      height: 32px;\n",
              "      padding: 0 0 0 0;\n",
              "      width: 32px;\n",
              "    }\n",
              "\n",
              "    .colab-df-convert:hover {\n",
              "      background-color: #E2EBFA;\n",
              "      box-shadow: 0px 1px 2px rgba(60, 64, 67, 0.3), 0px 1px 3px 1px rgba(60, 64, 67, 0.15);\n",
              "      fill: #174EA6;\n",
              "    }\n",
              "\n",
              "    .colab-df-buttons div {\n",
              "      margin-bottom: 4px;\n",
              "    }\n",
              "\n",
              "    [theme=dark] .colab-df-convert {\n",
              "      background-color: #3B4455;\n",
              "      fill: #D2E3FC;\n",
              "    }\n",
              "\n",
              "    [theme=dark] .colab-df-convert:hover {\n",
              "      background-color: #434B5C;\n",
              "      box-shadow: 0px 1px 3px 1px rgba(0, 0, 0, 0.15);\n",
              "      filter: drop-shadow(0px 1px 2px rgba(0, 0, 0, 0.3));\n",
              "      fill: #FFFFFF;\n",
              "    }\n",
              "  </style>\n",
              "\n",
              "    <script>\n",
              "      const buttonEl =\n",
              "        document.querySelector('#df-85fd1d50-a6a8-4b5c-9e1f-c31d865b21d4 button.colab-df-convert');\n",
              "      buttonEl.style.display =\n",
              "        google.colab.kernel.accessAllowed ? 'block' : 'none';\n",
              "\n",
              "      async function convertToInteractive(key) {\n",
              "        const element = document.querySelector('#df-85fd1d50-a6a8-4b5c-9e1f-c31d865b21d4');\n",
              "        const dataTable =\n",
              "          await google.colab.kernel.invokeFunction('convertToInteractive',\n",
              "                                                    [key], {});\n",
              "        if (!dataTable) return;\n",
              "\n",
              "        const docLinkHtml = 'Like what you see? Visit the ' +\n",
              "          '<a target=\"_blank\" href=https://colab.research.google.com/notebooks/data_table.ipynb>data table notebook</a>'\n",
              "          + ' to learn more about interactive tables.';\n",
              "        element.innerHTML = '';\n",
              "        dataTable['output_type'] = 'display_data';\n",
              "        await google.colab.output.renderOutput(dataTable, element);\n",
              "        const docLink = document.createElement('div');\n",
              "        docLink.innerHTML = docLinkHtml;\n",
              "        element.appendChild(docLink);\n",
              "      }\n",
              "    </script>\n",
              "  </div>\n",
              "\n",
              "\n",
              "<div id=\"df-7bf64d3e-7c11-420e-b363-9be7f17a508b\">\n",
              "  <button class=\"colab-df-quickchart\" onclick=\"quickchart('df-7bf64d3e-7c11-420e-b363-9be7f17a508b')\"\n",
              "            title=\"Suggest charts\"\n",
              "            style=\"display:none;\">\n",
              "\n",
              "<svg xmlns=\"http://www.w3.org/2000/svg\" height=\"24px\"viewBox=\"0 0 24 24\"\n",
              "     width=\"24px\">\n",
              "    <g>\n",
              "        <path d=\"M19 3H5c-1.1 0-2 .9-2 2v14c0 1.1.9 2 2 2h14c1.1 0 2-.9 2-2V5c0-1.1-.9-2-2-2zM9 17H7v-7h2v7zm4 0h-2V7h2v10zm4 0h-2v-4h2v4z\"/>\n",
              "    </g>\n",
              "</svg>\n",
              "  </button>\n",
              "\n",
              "<style>\n",
              "  .colab-df-quickchart {\n",
              "      --bg-color: #E8F0FE;\n",
              "      --fill-color: #1967D2;\n",
              "      --hover-bg-color: #E2EBFA;\n",
              "      --hover-fill-color: #174EA6;\n",
              "      --disabled-fill-color: #AAA;\n",
              "      --disabled-bg-color: #DDD;\n",
              "  }\n",
              "\n",
              "  [theme=dark] .colab-df-quickchart {\n",
              "      --bg-color: #3B4455;\n",
              "      --fill-color: #D2E3FC;\n",
              "      --hover-bg-color: #434B5C;\n",
              "      --hover-fill-color: #FFFFFF;\n",
              "      --disabled-bg-color: #3B4455;\n",
              "      --disabled-fill-color: #666;\n",
              "  }\n",
              "\n",
              "  .colab-df-quickchart {\n",
              "    background-color: var(--bg-color);\n",
              "    border: none;\n",
              "    border-radius: 50%;\n",
              "    cursor: pointer;\n",
              "    display: none;\n",
              "    fill: var(--fill-color);\n",
              "    height: 32px;\n",
              "    padding: 0;\n",
              "    width: 32px;\n",
              "  }\n",
              "\n",
              "  .colab-df-quickchart:hover {\n",
              "    background-color: var(--hover-bg-color);\n",
              "    box-shadow: 0 1px 2px rgba(60, 64, 67, 0.3), 0 1px 3px 1px rgba(60, 64, 67, 0.15);\n",
              "    fill: var(--button-hover-fill-color);\n",
              "  }\n",
              "\n",
              "  .colab-df-quickchart-complete:disabled,\n",
              "  .colab-df-quickchart-complete:disabled:hover {\n",
              "    background-color: var(--disabled-bg-color);\n",
              "    fill: var(--disabled-fill-color);\n",
              "    box-shadow: none;\n",
              "  }\n",
              "\n",
              "  .colab-df-spinner {\n",
              "    border: 2px solid var(--fill-color);\n",
              "    border-color: transparent;\n",
              "    border-bottom-color: var(--fill-color);\n",
              "    animation:\n",
              "      spin 1s steps(1) infinite;\n",
              "  }\n",
              "\n",
              "  @keyframes spin {\n",
              "    0% {\n",
              "      border-color: transparent;\n",
              "      border-bottom-color: var(--fill-color);\n",
              "      border-left-color: var(--fill-color);\n",
              "    }\n",
              "    20% {\n",
              "      border-color: transparent;\n",
              "      border-left-color: var(--fill-color);\n",
              "      border-top-color: var(--fill-color);\n",
              "    }\n",
              "    30% {\n",
              "      border-color: transparent;\n",
              "      border-left-color: var(--fill-color);\n",
              "      border-top-color: var(--fill-color);\n",
              "      border-right-color: var(--fill-color);\n",
              "    }\n",
              "    40% {\n",
              "      border-color: transparent;\n",
              "      border-right-color: var(--fill-color);\n",
              "      border-top-color: var(--fill-color);\n",
              "    }\n",
              "    60% {\n",
              "      border-color: transparent;\n",
              "      border-right-color: var(--fill-color);\n",
              "    }\n",
              "    80% {\n",
              "      border-color: transparent;\n",
              "      border-right-color: var(--fill-color);\n",
              "      border-bottom-color: var(--fill-color);\n",
              "    }\n",
              "    90% {\n",
              "      border-color: transparent;\n",
              "      border-bottom-color: var(--fill-color);\n",
              "    }\n",
              "  }\n",
              "</style>\n",
              "\n",
              "  <script>\n",
              "    async function quickchart(key) {\n",
              "      const quickchartButtonEl =\n",
              "        document.querySelector('#' + key + ' button');\n",
              "      quickchartButtonEl.disabled = true;  // To prevent multiple clicks.\n",
              "      quickchartButtonEl.classList.add('colab-df-spinner');\n",
              "      try {\n",
              "        const charts = await google.colab.kernel.invokeFunction(\n",
              "            'suggestCharts', [key], {});\n",
              "      } catch (error) {\n",
              "        console.error('Error during call to suggestCharts:', error);\n",
              "      }\n",
              "      quickchartButtonEl.classList.remove('colab-df-spinner');\n",
              "      quickchartButtonEl.classList.add('colab-df-quickchart-complete');\n",
              "    }\n",
              "    (() => {\n",
              "      let quickchartButtonEl =\n",
              "        document.querySelector('#df-7bf64d3e-7c11-420e-b363-9be7f17a508b button');\n",
              "      quickchartButtonEl.style.display =\n",
              "        google.colab.kernel.accessAllowed ? 'block' : 'none';\n",
              "    })();\n",
              "  </script>\n",
              "</div>\n",
              "\n",
              "    </div>\n",
              "  </div>\n"
            ],
            "application/vnd.google.colaboratory.intrinsic+json": {
              "type": "dataframe",
              "variable_name": "cd"
            }
          },
          "metadata": {},
          "execution_count": 33
        }
      ]
    },
    {
      "cell_type": "markdown",
      "source": [
        "Podemos ver que son los mismos datos que los de entrenamiento, pero falta el atributo Atrittion, el cuál es el que vamos a predecir"
      ],
      "metadata": {
        "id": "YPRfiVCmQUBi"
      }
    },
    {
      "cell_type": "markdown",
      "source": [
        "#**PREDICCIONES DE COMPETICIÓN**"
      ],
      "metadata": {
        "id": "6zObSBKbxEd9"
      }
    },
    {
      "cell_type": "markdown",
      "source": [
        "Para poder hacer la prediccón debemos hacer el mismo preproceso en los datos de competición, para que nuestro modelo pueda hacer sus predicciones sin ningún problema. Después pasamos a cargar el modelo y a hacer la predicción de datos."
      ],
      "metadata": {
        "id": "gNxR3wxbP0VY"
      }
    },
    {
      "cell_type": "code",
      "source": [
        "# Identificar tipos de variables\n",
        "competition_categorical_vars = cd.select_dtypes(include=['object']).columns.tolist()\n",
        "competition_numerical_vars = cd.select_dtypes(include=['int64', 'float64']).columns.tolist()\n",
        "\n",
        "# Columnas constantes y de ID\n",
        "competition_irrelevant_cols = ['EmployeeID', 'EmployeeCount', 'StandardHours', 'Over18']\n",
        "competition_categorical_vars = [col for col in competition_categorical_vars if col not in competition_irrelevant_cols]\n",
        "competition_numerical_vars = [col for col in competition_numerical_vars if col not in competition_irrelevant_cols]\n",
        "\n",
        "# Retiramos las columnas innecesarias y hacemos la división entre train y test\n",
        "X = cd.drop(columns=competition_irrelevant_cols)\n",
        "\n",
        "#cargamos el modelo final y lo utilizamos para predecir los datos\n",
        "final_model = joblib.load('modelo_final_27.pkl')\n",
        "predictions = final_model.predict(X)"
      ],
      "metadata": {
        "id": "3mI2ICLCH3_5"
      },
      "execution_count": 34,
      "outputs": []
    },
    {
      "cell_type": "markdown",
      "source": [
        "Una vez ya hemos hecho este preproceso y la estimación debemos pasar las predicciones a un fichero, para ello vamos a mapear nuestras predicciones, que son 0 y 1, a No y Si como se encontraban inicialmente en los datos. Esto lo haremos para que sea más fácil de leer y comprender para una persona."
      ],
      "metadata": {
        "id": "t0m_snzlRNub"
      }
    },
    {
      "cell_type": "code",
      "source": [
        "predictions_series = pd.Series(predictions)\n",
        "print(predictions_series.value_counts(normalize=True))"
      ],
      "metadata": {
        "colab": {
          "base_uri": "https://localhost:8080/"
        },
        "id": "in2-IhUtIrKb",
        "outputId": "172b2a48-b154-42b5-b5bb-503b31870e4d"
      },
      "execution_count": 35,
      "outputs": [
        {
          "output_type": "stream",
          "name": "stdout",
          "text": [
            "0    0.806122\n",
            "1    0.193878\n",
            "Name: proportion, dtype: float64\n"
          ]
        }
      ]
    },
    {
      "cell_type": "code",
      "source": [
        "atrition_df = pd.Series(predictions).map({1: 'Yes', 0: 'No'})\n",
        "predictions_series = pd.Series(atrition_df)\n",
        "print(predictions_series.value_counts(normalize=True))"
      ],
      "metadata": {
        "colab": {
          "base_uri": "https://localhost:8080/"
        },
        "id": "b1N5drxzMGwS",
        "outputId": "450e915a-3600-44e5-b4be-a420c1e8a2f1"
      },
      "execution_count": 36,
      "outputs": [
        {
          "output_type": "stream",
          "name": "stdout",
          "text": [
            "No     0.806122\n",
            "Yes    0.193878\n",
            "Name: proportion, dtype: float64\n"
          ]
        }
      ]
    },
    {
      "cell_type": "markdown",
      "source": [
        "Aquí sacamos las proporciones iniciales de 0 (No) y 1(Si) antes de convertir los datos y luego volvimos a calcular estas proporciones con los datos convertidos. Esto lo hicimos para asegurarnos que se realizo la conversión de la manera correcta y que no hubo ningún fallo, lo que podemos observar al ser las proporciones las mismas.\n",
        "\n",
        "Ahora pasamos a guardar el modelo final en un archivo pkl y a guardar los datos de predicción en un fichero csv, para ello vamos a crear un dataframe con las predicciones y el ID de los empleados, para que la persona que vaya a revisar este fichero pueda identficar a cualquier empleado sin problema y pueda ver lo que nuestro modelo ha estimado."
      ],
      "metadata": {
        "id": "GGMzzDSXU83L"
      }
    },
    {
      "cell_type": "code",
      "source": [
        "predictions_df = pd.DataFrame({'EmployeeID': cd['EmployeeID'], 'Attrition':atrition_df })\n",
        "predictions_df.to_csv('predicciones_27.csv', index=False)\n",
        "\n",
        "# Read the CSV file into a pandas DataFrame\n",
        "predictions_df = pd.read_csv('predicciones_27.csv')\n",
        "\n",
        "# Display the contents of the DataFrame\n",
        "print(predictions_df)"
      ],
      "metadata": {
        "colab": {
          "base_uri": "https://localhost:8080/"
        },
        "id": "YMMnSwI9NmUF",
        "outputId": "a8b22a69-e294-4ad1-9fb9-915ea4cc3c69"
      },
      "execution_count": 37,
      "outputs": [
        {
          "output_type": "stream",
          "name": "stdout",
          "text": [
            "      EmployeeID Attrition\n",
            "0           1964        No\n",
            "1           3779        No\n",
            "2           4350        No\n",
            "3           4291        No\n",
            "4           3076        No\n",
            "...          ...       ...\n",
            "1465        1591       Yes\n",
            "1466         962        No\n",
            "1467        1212        No\n",
            "1468        3691        No\n",
            "1469        3535        No\n",
            "\n",
            "[1470 rows x 2 columns]\n"
          ]
        }
      ]
    },
    {
      "cell_type": "markdown",
      "source": [
        "Podemos ver que nuestro archivo de predicciones quedó como se había planteado, con una columna para el ID de los empleados y otra con la predicción del modelo para dicho empleado."
      ],
      "metadata": {
        "id": "0fgnlOamVr2x"
      }
    },
    {
      "cell_type": "markdown",
      "source": [
        "# **ANEXO: DECLARACIÓN DE USO DE IA**"
      ],
      "metadata": {
        "id": "f5p7NfODWTPH"
      }
    },
    {
      "cell_type": "markdown",
      "source": [
        "En este notebook utilizamos Inteligencia Artificial para poder pasar las predicciones finales a un archivo csv."
      ],
      "metadata": {
        "id": "A4eFBbnaWUKG"
      }
    }
  ]
}