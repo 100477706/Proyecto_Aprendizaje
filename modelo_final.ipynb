{
  "nbformat": 4,
  "nbformat_minor": 0,
  "metadata": {
    "colab": {
      "provenance": [],
      "include_colab_link": true
    },
    "kernelspec": {
      "name": "python3",
      "display_name": "Python 3"
    },
    "language_info": {
      "name": "python"
    }
  },
  "cells": [
    {
      "cell_type": "markdown",
      "metadata": {
        "id": "view-in-github",
        "colab_type": "text"
      },
      "source": [
        "<a href=\"https://colab.research.google.com/github/100477706/Proyecto_Aprendizaje/blob/main/modelo_final.ipynb\" target=\"_parent\"><img src=\"https://colab.research.google.com/assets/colab-badge.svg\" alt=\"Open In Colab\"/></a>"
      ]
    },
    {
      "cell_type": "markdown",
      "source": [
        "#**MODELO FINAL**"
      ],
      "metadata": {
        "id": "UKTGO00hoRWK"
      }
    },
    {
      "cell_type": "markdown",
      "source": [
        "En el notebook de predicciones entrenamos distintos modelos, ajustando sus hiperparámetros, y los evaluamos utilizando el método de validación cruzada (inner) para escoger el mejor de ellos. El modélo escogido termino siendo la SVM con los parámetros 'C' = 1.4, 'class_weight' = 'balanced' y 'kernel'= 'rbf', el cuál evaluamos con el método holdout (outer) para obtener la prédicción de cómo va a desepeñarse el mismo en el futuro y en la competición, este score fue de 85%. Ahora debemos pasar a entrenar el modelo con todos los datos disponibles y realizar nuestras predicciones para la competición."
      ],
      "metadata": {
        "id": "xQ_SAutdoVgC"
      }
    },
    {
      "cell_type": "markdown",
      "source": [
        "#**CARGA DE DATOS**"
      ],
      "metadata": {
        "id": "2amzDI8cvz9F"
      }
    },
    {
      "cell_type": "markdown",
      "source": [],
      "metadata": {
        "id": "VaZmfuTIv8dT"
      }
    },
    {
      "cell_type": "code",
      "execution_count": null,
      "metadata": {
        "id": "l6SLrYw6BMup"
      },
      "outputs": [],
      "source": [
        "import pandas as pd\n",
        "import matplotlib.pyplot as plt\n",
        "import seaborn as sns\n",
        "from sklearn.model_selection import train_test_split, StratifiedKFold, cross_val_score\n",
        "from sklearn.metrics import balanced_accuracy_score, confusion_matrix, accuracy_score, recall_score\n",
        "from sklearn.svm import SVC\n",
        "from sklearn.preprocessing import MinMaxScaler, StandardScaler, RobustScaler, OneHotEncoder\n",
        "from sklearn.impute import SimpleImputer\n",
        "from sklearn.pipeline import Pipeline\n",
        "from sklearn.metrics import precision_score\n",
        "from sklearn.compose import ColumnTransformer\n",
        "from sklearn import tree\n",
        "from sklearn import metrics\n",
        "import numpy as np\n",
        "import time"
      ]
    },
    {
      "cell_type": "code",
      "source": [
        "df = pd.read_csv(\"attrition_availabledata_06.csv.gz\", compression=\"gzip\", sep=\",\") #subir el archivo comprimido\n",
        "df.head()"
      ],
      "metadata": {
        "id": "plaAgLqPwaCA"
      },
      "execution_count": null,
      "outputs": []
    },
    {
      "cell_type": "markdown",
      "source": [
        "#**PREPROCESO DE DATOS**"
      ],
      "metadata": {
        "id": "XfMt5juQwe6l"
      }
    },
    {
      "cell_type": "code",
      "source": [
        "# Columnas constantes y de ID\n",
        "irrelevant_cols = ['Attrition', 'EmployeeID', 'EmployeeCount', 'StandardHours', 'Over18']\n",
        "categorical_vars = [col for col in categorical_vars if col not in irrelevant_cols]\n",
        "numerical_vars = [col for col in numerical_vars if col not in irrelevant_cols]\n",
        "\n",
        "# Retiramos las columnas innecesarias y hacemos la división entre train y test\n",
        "X = df.drop(columns=irrelevant_cols)\n",
        "# Como la variable 'Attrition' es YES o NO, entonces la convertimos a un valor\n",
        "# binario para el modelo\n",
        "y = df['Attrition'].map({'Yes': 1, 'No': 0})"
      ],
      "metadata": {
        "id": "WEpO99T_wnEY"
      },
      "execution_count": null,
      "outputs": []
    },
    {
      "cell_type": "markdown",
      "source": [
        "#**ENTRENO DEL MODELO**"
      ],
      "metadata": {
        "id": "e7ySYakrw9fr"
      }
    },
    {
      "cell_type": "code",
      "source": [
        "# Preprocesador para datos numéricos: imputación con la mediana + escalado robusto\n",
        "num_transformer = Pipeline([\n",
        "    ('imputer', SimpleImputer(strategy='mean')),\n",
        "    ('scaler', RobustScaler())\n",
        "])\n",
        "\n",
        "# Preprocesador para datos categóricos: OneHotEncoding\n",
        "cat_transformer = Pipeline([\n",
        "    ('encoder', OneHotEncoder(handle_unknown='ignore'))\n",
        "])\n",
        "\n",
        "# Combinar ambos en un ColumnTransformer\n",
        "preprocessor = ColumnTransformer([\n",
        "    ('num', num_transformer, numerical_vars),\n",
        "    ('cat', cat_transformer, categorical_vars)\n",
        "])\n",
        "\n",
        "# Pipeline final con preprocesamiento y el modelo final y los mejores parámetros\n",
        "final_pipe = Pipeline([\n",
        "    ('preprocessor', preprocessor),\n",
        "    ('classifier', SVC(random_state=100477706, C=1.4, class_weight='balanced', kernel='rbf'))\n",
        "])\n",
        "\n",
        "# Entrenamos el modelo con los datos de train\n",
        "final_model = final_pipe.fit(X, y)"
      ],
      "metadata": {
        "id": "kBJUXS-rxD-N"
      },
      "execution_count": null,
      "outputs": []
    },
    {
      "cell_type": "markdown",
      "source": [
        "#**PREDICCIONES DE COMPETICIÓN**"
      ],
      "metadata": {
        "id": "6zObSBKbxEd9"
      }
    },
    {
      "cell_type": "code",
      "source": [],
      "metadata": {
        "id": "Q2uBr-67xJDu"
      },
      "execution_count": null,
      "outputs": []
    }
  ]
}